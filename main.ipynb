{
 "cells": [
  {
   "cell_type": "markdown",
   "metadata": {},
   "source": [
    "# 百度网盘AI大赛——表格检测\n",
    "\n",
    "基于TableNet得到表格的四个拐角坐标，本项目附带一个可以直接提交的样例。\n",
    "\n",
    "[比赛链接](https://aistudio.baidu.com/aistudio/competition/detail/702/0/introduction)\n",
    "\n",
    "# 1. 比赛介绍\n",
    "\n",
    "生活中，扫描技术越来越常见，通过手机就能将图片转化为可编辑的文档等；但是现在的技术在处理带有表格类型的文字的时候往往没有那么灵敏，把完整表格拆分成难以使用的零散个体似乎很常见又令人苦恼。本次比赛旨在解决这个问题，通过万能的算法，准确地识别表格在图片中的位置并标注。\n",
    "\n",
    "## 1.1. 数据介绍\n",
    "本次比赛最新发布的数据集共包含训练集、A榜测试集、B榜测试集三个部分，其中训练集共10000张图片，A榜测试集共500张图片，B榜测试集500张图片；imgs目录下为所有训练图片；annos.txt 为标注文件，json格式，格式示例如下:\n",
    "\n",
    "```\n",
    "{\n",
    "    \"a.jpg\": [  # 图片文件名称\n",
    "        {\n",
    "            'box': [xmin, ymin, xmax,ymax],  # 表格box位置，(xmin, ymin)为box左上点，(xmax, ymax)为box右下点\n",
    "            'lb': [x, y],  # 表格left bottom点，即左下顶点\n",
    "            'lt': [x, y],  # 表格left top点，即左上顶点\n",
    "            'rt': [x, y],  # 表格right top点，即右上顶点\n",
    "            'rb': [x, y]  # 表格right bottom点，即右下顶点\n",
    "        }],\n",
    "    \n",
    "    \"b.jpg\": [{\n",
    "        'box': [xmin, ymin, xmax, ymax],\n",
    "        'lb': [x, y],\n",
    "        'lt': [x, y],\n",
    "        'rt': [x, y],\n",
    "        'rb': [x, y]\n",
    "    }]\n",
    "}\n",
    "```\n",
    "\n",
    "## 1.2. 赛题分析\n",
    "\n",
    "先用TableNet分析出各像素点属于表格内或外的概率，然后用resnet101回归得到四个角点的坐标。\n",
    "\n",
    "# 2. 代码"
   ]
  },
  {
   "cell_type": "markdown",
   "metadata": {},
   "source": [
    "## 2.1. 准备数据"
   ]
  },
  {
   "cell_type": "code",
   "execution_count": 1,
   "metadata": {
    "collapsed": false,
    "execution": {
     "iopub.execute_input": "2023-02-19T06:17:21.863901Z",
     "iopub.status.busy": "2023-02-19T06:17:21.863667Z",
     "iopub.status.idle": "2023-02-19T06:17:56.649175Z",
     "shell.execute_reply": "2023-02-19T06:17:56.648007Z",
     "shell.execute_reply.started": "2023-02-19T06:17:21.863877Z"
    },
    "jupyter": {
     "outputs_hidden": false
    },
    "scrolled": true,
    "tags": []
   },
   "outputs": [],
   "source": [
    "! unzip -oq data/data182385/train.zip\n",
    "! unzip -oq data/data182385/testA.zip"
   ]
  },
  {
   "cell_type": "markdown",
   "metadata": {},
   "source": [
    "## 2.2. 创建数据读取器"
   ]
  },
  {
   "cell_type": "code",
   "execution_count": 2,
   "metadata": {
    "execution": {
     "iopub.execute_input": "2023-02-19T06:17:56.652690Z",
     "iopub.status.busy": "2023-02-19T06:17:56.652072Z",
     "iopub.status.idle": "2023-02-19T06:17:58.234157Z",
     "shell.execute_reply": "2023-02-19T06:17:58.233345Z",
     "shell.execute_reply.started": "2023-02-19T06:17:56.652643Z"
    },
    "scrolled": true
   },
   "outputs": [
    {
     "name": "stdout",
     "output_type": "stream",
     "text": [
      "gpu:0\r\n"
     ]
    },
    {
     "data": {
      "text/plain": [
       "Place(gpu:0)"
      ]
     },
     "execution_count": 2,
     "metadata": {},
     "output_type": "execute_result"
    }
   ],
   "source": [
    "import sys\n",
    "sys.path.append('/home/aistudio/work/external-libraries')\n",
    "import os\n",
    "os.environ['FLAGS_eager_delete_tensor_gb'] = '0.0'\n",
    "\n",
    "import paddle\n",
    "# 设置CUDA训练\n",
    "PLACE = paddle.CUDAPlace(0)\n",
    "print(paddle.device.get_device())\n",
    "paddle.device.set_device('gpu:0')"
   ]
  },
  {
   "cell_type": "code",
   "execution_count": 3,
   "metadata": {
    "execution": {
     "iopub.execute_input": "2023-02-19T06:17:58.235947Z",
     "iopub.status.busy": "2023-02-19T06:17:58.235369Z",
     "iopub.status.idle": "2023-02-19T06:18:00.878897Z",
     "shell.execute_reply": "2023-02-19T06:18:00.877968Z",
     "shell.execute_reply.started": "2023-02-19T06:17:58.235916Z"
    },
    "jupyter": {
     "source_hidden": true
    },
    "scrolled": true,
    "tags": []
   },
   "outputs": [
    {
     "name": "stderr",
     "output_type": "stream",
     "text": [
      "W0219 14:17:59.327509 14133 gpu_resources.cc:61] Please NOTE: device: 0, GPU Compute Capability: 7.0, Driver API Version: 11.2, Runtime API Version: 11.2\r\n",
      "W0219 14:17:59.331354 14133 gpu_resources.cc:91] device: 0, cuDNN Version: 8.2.\r\n"
     ]
    },
    {
     "name": "stdout",
     "output_type": "stream",
     "text": [
      "0 [48, 3, 224, 224] [48, 8]\r\n",
      "Tensor(shape=[48, 8], dtype=float32, place=Place(gpu:0), stop_gradient=True,\r\n",
      "       [[0.01297648, 0.97674417, 0.00892133, 0.09883721, 0.98783457, 0.03488372,\r\n",
      "         0.99270076, 0.91279072],\r\n",
      "        [0.36689153, 0.99543148, 0.08043591, 0.80659896, 0.63310844, 0.00558376,\r\n",
      "         0.91904515, 0.19441624],\r\n",
      "        [0.04238143, 0.99178404, 0.00554995, 0.28638497, 0.95812309, 0.01408451,\r\n",
      "         0.99545914, 0.71948355],\r\n",
      "        [0.05729167, 0.98421645, 0.03020833, 0.84554678, 0.94270831, 0.00676437,\r\n",
      "         0.96979165, 0.14543405],\r\n",
      "        [0.56730771, 0.98459166, 0.30288461, 0.94915253, 0.43910256, 0.01540832,\r\n",
      "         0.70352566, 0.05084746],\r\n",
      "        [0.17423058, 0.99352330, 0.02034429, 0.73056996, 0.82368284, 0.00647668,\r\n",
      "         0.97756910, 0.26943004],\r\n",
      "        [0.06246419, 0.98833138, 0.00744986, 0.66277713, 0.93696272, 0.01166861,\r\n",
      "         0.99197710, 0.33722287],\r\n",
      "        [0.27737227, 0.99379933, 0.09958290, 0.83821869, 0.72367048, 0.00507328,\r\n",
      "         0.90145987, 0.16065389],\r\n",
      "        [0.66562665, 0.99638057, 0.31929278, 0.99069285, 0.33645347, 0.00672182,\r\n",
      "         0.68278730, 0.01240951],\r\n",
      "        [0.22349273, 0.99146861, 0.08835759, 0.83851308, 0.77598751, 0.00365631,\r\n",
      "         0.91112268, 0.15661182],\r\n",
      "        [0.13591270, 0.46775794, 0.13326719, 0.11359127, 0.71891534, 0.20436507,\r\n",
      "         0.71064812, 0.47147816],\r\n",
      "        [0.28120184, 0.98853397, 0.07087827, 0.79443079, 0.71571648, 0.00573301,\r\n",
      "         0.92604005, 0.19983619],\r\n",
      "        [0.26618704, 0.99075145, 0.18191162, 0.92601156, 0.72970194, 0.01271676,\r\n",
      "         0.81397736, 0.07630058],\r\n",
      "        [0.50529498, 0.99099773, 0.35930407, 0.97074270, 0.49621785, 0.00600150,\r\n",
      "         0.64220876, 0.02700675],\r\n",
      "        [0.10779436, 0.99061435, 0.01216142, 0.70136517, 0.89441681, 0.00767918,\r\n",
      "         0.99004978, 0.29692832],\r\n",
      "        [0.62988025, 0.99442756, 0.28682977, 0.96504557, 0.37324309, 0.00455927,\r\n",
      "         0.71629357, 0.03343465],\r\n",
      "        [0.24390244, 0.99276674, 0.16139077, 0.92043400, 0.75557864, 0.00421941,\r\n",
      "         0.83809030, 0.07655214],\r\n",
      "        [0.18869881, 0.99244332, 0.02384655, 0.72607052, 0.81130117, 0.00503778,\r\n",
      "         0.97667187, 0.27141058],\r\n",
      "        [0.14615385, 0.99248636, 0.00384615, 0.49316940, 0.85240382, 0.00614754,\r\n",
      "         0.99423075, 0.50546449],\r\n",
      "        [0.14285715, 0.50768846, 0.14748678, 0.33134919, 0.64880955, 0.32713294,\r\n",
      "         0.65608466, 0.50694442],\r\n",
      "        [0.26233765, 0.97305387, 0.12987013, 0.83832335, 0.73766232, 0.03293413,\r\n",
      "         0.87272727, 0.16467066],\r\n",
      "        [0.10414508, 0.99023598, 0.00932642, 0.68510985, 0.89585495, 0.00650936,\r\n",
      "         0.99015546, 0.31163546],\r\n",
      "        [0.07835821, 0.92655367, 0.02238806, 0.19774011, 0.88805968, 0.03954802,\r\n",
      "         0.94776118, 0.76836157],\r\n",
      "        [0.02262443, 0.97009969, 0.00633484, 0.40863788, 0.97194570, 0.03654485,\r\n",
      "         0.98823529, 0.59800667],\r\n",
      "        [0.05499496, 0.98418081, 0.00454087, 0.45423728, 0.94450051, 0.00677966,\r\n",
      "         0.99445003, 0.53672314],\r\n",
      "        [0.52309287, 0.99506414, 0.20186819, 0.90720630, 0.47379345, 0.00444225,\r\n",
      "         0.79501814, 0.09180652],\r\n",
      "        [0.12378018, 0.99326849, 0.00513611, 0.65445024, 0.87570620, 0.00822737,\r\n",
      "         0.99486387, 0.34704563],\r\n",
      "        [0.49433106, 0.99324828, 0.36734694, 0.97599399, 0.50415725, 0.00825206,\r\n",
      "         0.63114136, 0.02625657],\r\n",
      "        [0.05693950, 0.98981899, 0.00559227, 0.53280544, 0.94458568, 0.01244344,\r\n",
      "         0.99542451, 0.46832579],\r\n",
      "        [0.57961053, 0.98831034, 0.14662085, 0.87353879, 0.41351661, 0.00956429,\r\n",
      "         0.84650630, 0.12539852],\r\n",
      "        [0.09543569, 0.99033391, 0.03319502, 0.79261863, 0.90508300, 0.00790861,\r\n",
      "         0.96680498, 0.20562389],\r\n",
      "        [0.02241888, 0.98272139, 0.00707965, 0.33693305, 0.97994101, 0.02591793,\r\n",
      "         0.99528021, 0.67170626],\r\n",
      "        [0.28530094, 0.52821183, 0.29166666, 0.41427952, 0.65711808, 0.41992188,\r\n",
      "         0.65451390, 0.53472221],\r\n",
      "        [0.06711759, 0.99103588, 0.01040583, 0.72211158, 0.92872006, 0.01095618,\r\n",
      "         0.98595214, 0.28087649],\r\n",
      "        [0.06324111, 0.99118942, 0.00444664, 0.24229075, 0.93527669, 0.00881057,\r\n",
      "         0.99456519, 0.75859028],\r\n",
      "        [0.32987013, 0.99510074, 0.18857142, 0.91290146, 0.66805196, 0.00598802,\r\n",
      "         0.80935067, 0.08818726],\r\n",
      "        [0.48959416, 0.99393636, 0.25702393, 0.93329966, 0.51300728, 0.00404245,\r\n",
      "         0.74609780, 0.06467913],\r\n",
      "        [0.19708373, 0.99289519, 0.00423330, 0.51628184, 0.80244589, 0.00473653,\r\n",
      "         0.99482596, 0.48134992],\r\n",
      "        [0.45023698, 0.98965192, 0.30142179, 0.95014113, 0.55545026, 0.00846660,\r\n",
      "         0.70521325, 0.04797742],\r\n",
      "        [0.01863354, 0.97454548, 0.00931677, 0.36727273, 0.98447204, 0.04727273,\r\n",
      "         0.99378884, 0.65454543],\r\n",
      "        [0.27796611, 0.95185184, 0.10508475, 0.78518516, 0.73220336, 0.02592593,\r\n",
      "         0.90169489, 0.19259259],\r\n",
      "        [0.42307693, 0.98961037, 0.00997151, 0.71688312, 0.56980056, 0.01558442,\r\n",
      "         0.98148149, 0.28831169],\r\n",
      "        [0.49844560, 0.99442476, 0.28082901, 0.94526100, 0.50259066, 0.00506842,\r\n",
      "         0.72020727, 0.05423214],\r\n",
      "        [0.20627803, 0.98555958, 0.10164425, 0.85920578, 0.79521674, 0.02166065,\r\n",
      "         0.89985055, 0.14801444],\r\n",
      "        [0.58771473, 0.99481863, 0.39458615, 0.99119169, 0.41176471, 0.00466321,\r\n",
      "         0.60489327, 0.00829016],\r\n",
      "        [0.03253292, 0.97516930, 0.00464756, 0.51241535, 0.96049571, 0.02031603,\r\n",
      "         0.98838109, 0.48306999],\r\n",
      "        [0.16822430, 0.98921162, 0.08722741, 0.86556017, 0.83052957, 0.00580913,\r\n",
      "         0.91090345, 0.12946059],\r\n",
      "        [0.31441957, 0.99461210, 0.10150963, 0.83459049, 0.68401873, 0.00484914,\r\n",
      "         0.89640814, 0.16487069]])\r\n"
     ]
    }
   ],
   "source": [
    "import json\n",
    "import paddle\n",
    "import os\n",
    "import cv2\n",
    "from paddle.vision.transforms import Compose, ColorJitter, Resize\n",
    "\n",
    "class MyDateset(paddle.io.Dataset):\n",
    "    def __init__(self, txt_dir = 'train/annos.txt', root_dir = 'train/imgs', mode = 'train'):\n",
    "        super(MyDateset, self).__init__()\n",
    "\n",
    "        self.mode = mode\n",
    "        self.root_dir = root_dir\n",
    "        with open('train/annos.txt', 'r') as f:\n",
    "            self.data = json.load(f)\n",
    "            self.name_list = list(self.data.keys())\n",
    "    \n",
    "    def __getitem__(self, index):\n",
    "        name = self.name_list[index]\n",
    "        img_dir = os.path.join(self.root_dir, name)\n",
    "\n",
    "        img = cv2.imread(img_dir)\n",
    "        # get img infor\n",
    "        h, w, c = img.shape\n",
    "        # pre-process of img\n",
    "        img = paddle.vision.transforms.resize(img, (224,224), interpolation='bilinear')\n",
    "        img = img.transpose((2,0,1))\n",
    "        img = img/255\n",
    "        img = paddle.to_tensor(img,place=PLACE).astype('float32')\n",
    "        \n",
    "        # pre-process of labels\n",
    "        data = self.data[name][0] # get box infor\n",
    "        labels = []\n",
    "        for pos in ['lb','lt','rt','rb']:\n",
    "            labels += [data[pos][0]/w, data[pos][1]/h] \n",
    "        labels = paddle.to_tensor(labels,place=PLACE).astype('float32')\n",
    "        \n",
    "        return img,labels\n",
    "\n",
    "    def __len__(self):\n",
    "        return len(self.name_list)\n",
    "if 1:\n",
    "    train_dataset=MyDateset('train.txt')\n",
    "\n",
    "    train_dataloader = paddle.io.DataLoader(\n",
    "        train_dataset,\n",
    "        batch_size=48,\n",
    "        shuffle=True,\n",
    "        drop_last=False)\n",
    "\n",
    "    for step, data in enumerate(train_dataloader):\n",
    "        data, label = data\n",
    "        print(step, data.shape, label.shape)\n",
    "        print(label)\n",
    "        break"
   ]
  },
  {
   "cell_type": "code",
   "execution_count": 4,
   "metadata": {
    "execution": {
     "iopub.execute_input": "2023-02-19T06:18:00.880448Z",
     "iopub.status.busy": "2023-02-19T06:18:00.880052Z",
     "iopub.status.idle": "2023-02-19T06:18:04.330262Z",
     "shell.execute_reply": "2023-02-19T06:18:04.329419Z",
     "shell.execute_reply.started": "2023-02-19T06:18:00.880418Z"
    },
    "scrolled": true,
    "tags": []
   },
   "outputs": [
    {
     "name": "stdout",
     "output_type": "stream",
     "text": [
      "0 [100, 3, 224, 224] [100, 8]\r\n"
     ]
    }
   ],
   "source": [
    "import random\n",
    "random.seed(102)\n",
    "with open('train/annos.txt', 'r') as f:\n",
    "    data = json.load(f)\n",
    "    name_list = list(data.keys())\n",
    "random.shuffle(name_list)\n",
    "dev_name_list=name_list[:1000]\n",
    "train_name_list=name_list[1000:]\n",
    "\n",
    "class MyDataset2(paddle.io.Dataset):\n",
    "    def __init__(self, data, name_list, mode = 'train'):\n",
    "        super(MyDataset2, self).__init__()\n",
    "\n",
    "        self.mode = mode\n",
    "        self.data=data\n",
    "        self.name_list=name_list\n",
    "        self.root_dir='train/imgs'\n",
    "\n",
    "    def __getitem__(self, index):\n",
    "\n",
    "        name = self.name_list[index]\n",
    "        img_dir = os.path.join(self.root_dir, name)\n",
    "\n",
    "        img = cv2.imread(img_dir)\n",
    "        # get img infor\n",
    "        h, w, c = img.shape\n",
    "        # pre-process of img\n",
    "        img = paddle.vision.transforms.resize(img, (224,224), interpolation='bilinear')\n",
    "        img = img.transpose((2,0,1))\n",
    "        img = img/255\n",
    "        img = paddle.to_tensor(img,place=PLACE).astype('float32')\n",
    "        \n",
    "        # pre-process of labels\n",
    "        data = self.data[name][0] # get box infor\n",
    "        labels = []\n",
    "        for pos in ['lb','lt','rt','rb']:\n",
    "            labels += [data[pos][0]/w, data[pos][1]/h] \n",
    "        labels = paddle.to_tensor(labels,place=PLACE).astype('float32')\n",
    "        \n",
    "        return img,labels\n",
    "\n",
    "    def __len__(self):\n",
    "        return len(self.name_list)\n",
    "\n",
    "if 1:\n",
    "    train_dataset=MyDataset2(data,train_name_list)\n",
    "    dev_dataset=MyDataset2(data,dev_name_list)\n",
    "\n",
    "    train_dataloader = paddle.io.DataLoader(\n",
    "        train_dataset,\n",
    "        batch_size=100,\n",
    "        shuffle=True,\n",
    "        drop_last=False)\n",
    "    dev_dataloader=paddle.io.DataLoader(\n",
    "        dev_dataset,\n",
    "        batch_size=100,\n",
    "        shuffle=False,\n",
    "        drop_last=False)\n",
    "    \n",
    "\n",
    "    for step, data in enumerate(train_dataloader):\n",
    "        data, label = data\n",
    "        print(step, data.shape, label.shape)\n",
    "        break"
   ]
  },
  {
   "cell_type": "markdown",
   "metadata": {},
   "source": [
    "## 2.3. 构建网络\n",
    "对于表格问题，可以用TableNet进行处理。"
   ]
  },
  {
   "cell_type": "code",
   "execution_count": 5,
   "metadata": {
    "execution": {
     "iopub.execute_input": "2023-02-19T06:18:04.332177Z",
     "iopub.status.busy": "2023-02-19T06:18:04.331556Z",
     "iopub.status.idle": "2023-02-19T06:18:04.340363Z",
     "shell.execute_reply": "2023-02-19T06:18:04.339648Z",
     "shell.execute_reply.started": "2023-02-19T06:18:04.332148Z"
    },
    "scrolled": true
   },
   "outputs": [],
   "source": [
    "import paddle\n",
    "import paddle.vision.models as models\n",
    "import paddle.nn as nn\n",
    "import paddle.nn.functional as F\n",
    "class DenseNet(nn.Layer):\n",
    "    def __init__(self, pretrained = True, requires_grad = True):\n",
    "        super(DenseNet, self).__init__()\n",
    "        #denseNet=models.densenet161(pretrained=True).children()\n",
    "        denseNet = list(models.densenet121(pretrained=True).children())\n",
    "        self.densenet_out_1 = nn.Sequential()\n",
    "        self.densenet_out_2 = nn.Sequential()\n",
    "        self.densenet_out_3 = nn.Sequential()\n",
    "        # densenet的结构和torch不一样\n",
    "        for x in range(6):\n",
    "            self.densenet_out_1.add_sublayer(str(x), denseNet[x])\n",
    "        for x in range(6,8):\n",
    "            self.densenet_out_2.add_sublayer(str(x), denseNet[x])\n",
    "\n",
    "        self.densenet_out_3.add_sublayer(str(8), denseNet[8])\n",
    "\n",
    "        if not requires_grad:\n",
    "            for param in self.parameters():\n",
    "                param.requires_grad = False\n",
    "\n",
    "    def forward(self, x):\n",
    "\n",
    "        out_1 = self.densenet_out_1(x) #torch.Size([1, 256, 14, 14])\n",
    "        out_2 = self.densenet_out_2(out_1) #torch.Size([1, 512, 7, 7])\n",
    "        out_3 = self.densenet_out_3(out_2) #torch.Size([1, 1024, 7, 7])\n",
    "        # print(out_1.shape,out_2.shape,out_3.shape)\n",
    "        return out_1, out_2, out_3"
   ]
  },
  {
   "cell_type": "code",
   "execution_count": 6,
   "metadata": {
    "execution": {
     "iopub.execute_input": "2023-02-19T06:18:04.342407Z",
     "iopub.status.busy": "2023-02-19T06:18:04.341687Z",
     "iopub.status.idle": "2023-02-19T06:18:05.027674Z",
     "shell.execute_reply": "2023-02-19T06:18:05.026791Z",
     "shell.execute_reply.started": "2023-02-19T06:18:04.342375Z"
    },
    "scrolled": true,
    "tags": []
   },
   "outputs": [],
   "source": [
    "# densenet=list(models.densenet121(pretrained=True).children())\n",
    "# print(len(densenet))\n",
    "# for i in range(len(densenet)):\n",
    "#     print('{}:{}'.format(i,densenet[i]))"
   ]
  },
  {
   "cell_type": "code",
   "execution_count": 7,
   "metadata": {
    "execution": {
     "iopub.execute_input": "2023-02-19T06:18:05.029674Z",
     "iopub.status.busy": "2023-02-19T06:18:05.028930Z",
     "iopub.status.idle": "2023-02-19T06:18:05.739209Z",
     "shell.execute_reply": "2023-02-19T06:18:05.738254Z",
     "shell.execute_reply.started": "2023-02-19T06:18:05.029636Z"
    },
    "scrolled": true
   },
   "outputs": [],
   "source": [
    "class TableDecoder(nn.Layer):\n",
    "    def __init__(self, channels, kernels, strides):\n",
    "        super(TableDecoder, self).__init__()\n",
    "        self.conv_7_table = nn.Conv2D(\n",
    "                        in_channels = 256,\n",
    "                        out_channels = 256,\n",
    "                        kernel_size = kernels[0],\n",
    "                        stride = strides[0])\n",
    "        self.upsample_1_table = nn.Conv2DTranspose(\n",
    "                        in_channels = 256,\n",
    "                        out_channels=128,\n",
    "                        kernel_size = kernels[1],\n",
    "                        stride = strides[1])\n",
    "        self.upsample_2_table = nn.Conv2DTranspose(\n",
    "                        in_channels = 128 + channels[0],\n",
    "                        out_channels = 256,\n",
    "                        kernel_size = kernels[2],\n",
    "                        stride = strides[2])\n",
    "        self.upsample_3_table = nn.Conv2DTranspose(\n",
    "                        in_channels = 256 + channels[1],\n",
    "                        out_channels = 3,\n",
    "                        kernel_size = 16,\n",
    "                        stride = 16)\n",
    "\n",
    "    def forward(self, x, pool_3_out, pool_4_out):\n",
    "        #print(x.shape)\n",
    "        x = self.conv_7_table(x)  #[1, 256, 7, 7]\n",
    "        #print(x.shape)\n",
    "        out = self.upsample_1_table(x) #[1, 128, 7, 7]\n",
    "        #print(out.shape)\n",
    "        out = paddle.concat((out, pool_4_out), 1) #[1, 32, 7, 7]\n",
    "        #print(out.shape)\n",
    "        out = self.upsample_2_table(out) #[1, 256, 14,14]\n",
    "        #print(out.shape)\n",
    "        out = paddle.concat((out, pool_3_out), 1) #[1, 512, 14, 14]\n",
    "        #print(out.shape)\n",
    "        out = self.upsample_3_table(out) #[1, 3, 224, 224]\n",
    "        #print(out.shape)\n",
    "        return out"
   ]
  },
  {
   "cell_type": "code",
   "execution_count": 8,
   "metadata": {
    "execution": {
     "iopub.execute_input": "2023-02-19T06:18:05.741523Z",
     "iopub.status.busy": "2023-02-19T06:18:05.740753Z",
     "iopub.status.idle": "2023-02-19T06:18:06.589338Z",
     "shell.execute_reply": "2023-02-19T06:18:06.588384Z",
     "shell.execute_reply.started": "2023-02-19T06:18:05.741486Z"
    },
    "scrolled": true,
    "tags": []
   },
   "outputs": [],
   "source": [
    "class TableNet(nn.Layer):\n",
    "    def __init__(self):\n",
    "        super(TableNet, self).__init__()\n",
    "\n",
    "        self.base_model = DenseNet(pretrained = False, requires_grad = True)\n",
    "        self.pool_channels = [512, 256]\n",
    "        self.in_channels = 1024\n",
    "        self.kernels = [(1,1), (1,1), (2,2),(16,16)]\n",
    "        self.strides = [(1,1), (1,1), (2,2),(16,16)]\n",
    "\n",
    "        #common layer\n",
    "        self.conv6 = nn.Sequential(\n",
    "            nn.Conv2D(in_channels = self.in_channels, out_channels = 256, kernel_size=(1,1)),\n",
    "            nn.ReLU(),\n",
    "            nn.Dropout(0.8),\n",
    "            nn.Conv2D(in_channels = 256, out_channels = 256, kernel_size=(1,1)),\n",
    "            nn.ReLU(),\n",
    "            nn.Dropout(0.8))\n",
    "\n",
    "        self.table_decoder = TableDecoder(self.pool_channels, self.kernels, self.strides)\n",
    "        self.resnet=models.resnet101(pretrained=True,num_classes=0)\n",
    "        self.fc =nn.Linear(in_features=2048, out_features=8)\n",
    "\n",
    "    def forward(self, x):\n",
    "\n",
    "        pool_3_out, pool_4_out, pool_5_out = self.base_model(x)\n",
    "        conv_out = self.conv6(pool_5_out) #[1, 256, 7, 7]\n",
    "        #print(conv_out.shape)\n",
    "        table_out = self.table_decoder(conv_out, pool_3_out, pool_4_out) #torch.Size([1,3,224,224])\n",
    "        #print(table_out.shape)\n",
    "        table_out=self.resnet(table_out) #[1,2048,1,1]\n",
    "        # print(table_out.shape)\n",
    "        table_out = paddle.flatten(table_out,1)\n",
    "        table_out = self.fc(table_out)\n",
    "        return table_out\n",
    "\n",
    "#paddle.summary(TableNet(),(128, 3, 1024, 1024))"
   ]
  },
  {
   "cell_type": "markdown",
   "metadata": {},
   "source": [
    "## 2.4. 训练"
   ]
  },
  {
   "cell_type": "code",
   "execution_count": 9,
   "metadata": {
    "execution": {
     "iopub.execute_input": "2023-02-19T06:18:06.591735Z",
     "iopub.status.busy": "2023-02-19T06:18:06.590823Z",
     "iopub.status.idle": "2023-02-19T06:18:07.259205Z",
     "shell.execute_reply": "2023-02-19T06:18:07.258315Z",
     "shell.execute_reply.started": "2023-02-19T06:18:06.591698Z"
    },
    "scrolled": true
   },
   "outputs": [
    {
     "name": "stdout",
     "output_type": "stream",
     "text": [
      "<class 'float'>\r\n"
     ]
    }
   ],
   "source": [
    "# import paddle\r\n",
    "# mse_loss = paddle.nn.loss.MSELoss()\r\n",
    "# input_ = paddle.to_tensor([1,1.2,1,1])\r\n",
    "# label = paddle.to_tensor([3.1,2,2,2])\r\n",
    "# print(input_,label)\r\n",
    "# output = paddle.nn.functional.mse_loss(input_, label)\r\n",
    "# print(output.item())\r\n",
    "import numpy as np\r\n",
    "a=[1,2.0]\r\n",
    "print(type(np.mean(a).item()))"
   ]
  },
  {
   "cell_type": "code",
   "execution_count": 10,
   "metadata": {
    "execution": {
     "iopub.execute_input": "2023-02-19T06:18:07.261302Z",
     "iopub.status.busy": "2023-02-19T06:18:07.260533Z",
     "iopub.status.idle": "2023-02-19T06:18:08.109621Z",
     "shell.execute_reply": "2023-02-19T06:18:08.108746Z",
     "shell.execute_reply.started": "2023-02-19T06:18:07.261264Z"
    },
    "scrolled": true
   },
   "outputs": [
    {
     "name": "stderr",
     "output_type": "stream",
     "text": [
      "/opt/conda/envs/python35-paddle120-env/lib/python3.7/site-packages/matplotlib/__init__.py:107: DeprecationWarning: Using or importing the ABCs from 'collections' instead of from 'collections.abc' is deprecated, and in 3.8 it will stop working\r\n",
      "  from collections import MutableMapping\r\n",
      "/opt/conda/envs/python35-paddle120-env/lib/python3.7/site-packages/matplotlib/rcsetup.py:20: DeprecationWarning: Using or importing the ABCs from 'collections' instead of from 'collections.abc' is deprecated, and in 3.8 it will stop working\r\n",
      "  from collections import Iterable, Mapping\r\n",
      "/opt/conda/envs/python35-paddle120-env/lib/python3.7/site-packages/matplotlib/colors.py:53: DeprecationWarning: Using or importing the ABCs from 'collections' instead of from 'collections.abc' is deprecated, and in 3.8 it will stop working\r\n",
      "  from collections import Sized\r\n"
     ]
    }
   ],
   "source": [
    "import matplotlib.pyplot as plt\r\n",
    "import numpy as np\r\n",
    "now_step=0\r\n",
    "class Runner():\r\n",
    "    def __init__(self,model,opt,train_dataloader,dev_dataloader):\r\n",
    "        self.now_step=0\r\n",
    "        self.train_loss=[]\r\n",
    "        self.dev_loss=[]\r\n",
    "        self.model=model\r\n",
    "        #self.loss_fn=loss_fn\r\n",
    "        self.opt=opt\r\n",
    "        self.train_dataloader=train_dataloader\r\n",
    "        self.dev_dataloader=dev_dataloader\r\n",
    "        self.least_loss=999999\r\n",
    "    def train_on_epoch(self):\r\n",
    "        self.model.train()\r\n",
    "    \r\n",
    "        # if 1:\r\n",
    "        #     try:\r\n",
    "        #         # 接续之前的模型重复训练\r\n",
    "        #         param_dict = paddle.load('./model.pdparams')\r\n",
    "        #         self.model.load_dict(param_dict)\r\n",
    "        #     except:\r\n",
    "        #         print('no such model file')\r\n",
    "        for step, data in enumerate(self.train_dataloader):\r\n",
    "            \r\n",
    "            img, label = data\r\n",
    "            pre = self.model(img)\r\n",
    "            loss = paddle.nn.functional.mse_loss(pre, label)\r\n",
    "            self.train_loss.append(loss.item())\r\n",
    "            loss.backward()\r\n",
    "            self.opt.step()\r\n",
    "            self.opt.clear_gradients()\r\n",
    "            if self.now_step%10==0:\r\n",
    "                print(\"[Train]epoch: {}, batch: {}, loss is: {:.5f}\".format(epoch, self.now_step, loss.item()))\r\n",
    "            if self.now_step%20==0:\r\n",
    "                self.test_on_epoch()\r\n",
    "            self.now_step+=1\r\n",
    "\r\n",
    "    def test_on_epoch(self):\r\n",
    "        self.model.eval()\r\n",
    "        loss_sum=[]\r\n",
    "        with paddle.no_grad():\r\n",
    "            for step, data in enumerate(self.dev_dataloader):\r\n",
    "                img, label = data\r\n",
    "                pre = self.model(img)\r\n",
    "                loss = paddle.nn.functional.mse_loss(pre, label)\r\n",
    "                loss_sum.append(loss.item())\r\n",
    "            loss_sum=np.mean(loss_sum)\r\n",
    "            self.dev_loss.append(loss_sum.item())\r\n",
    "            print(\"[Dev]epoch: {}, step: {}, dev_loss is: {:.5f}\".format(epoch, self.now_step, loss_sum.item()))\r\n",
    "            if loss_sum.item()<self.least_loss:                    \r\n",
    "                paddle.save(model.state_dict(), 'model.pdparams')\r\n",
    "                print('[Update]least loss has been updated: {:.5f}-->{:.5f}'.format(self.least_loss,loss_sum.item()))\r\n",
    "                self.least_loss=loss_sum.item()\r\n",
    "    # 可视化\r\n",
    "    def plot_loss(self,fig_name='tableNet.pdf', fig_size=(8, 5), loss_legend_loc=\"lower left\"):\r\n",
    "        plt.figure(figsize=fig_size)\r\n",
    "        train_items =self.train_loss[::10]\r\n",
    "        train_steps=[x for x in range(len(train_items))]\r\n",
    "        train_losses = [x for x in train_items]\r\n",
    "        plt.plot(train_steps, train_losses, color='#e4007f', label=\"Train loss\")\r\n",
    "        dev_items =self.dev_loss[::5]\r\n",
    "        dev_steps=[x for x in range(len(dev_items))]\r\n",
    "        dev_losses = [x for x in dev_items]\r\n",
    "        plt.plot(dev_steps, dev_losses, color='#f19ec2', linestyle='--', label='Dev loss')\r\n",
    "        #绘制坐标轴和图例\r\n",
    "        plt.ylabel(\"loss\", fontsize='large')\r\n",
    "        plt.xlabel(\"step\", fontsize='large')\r\n",
    "        plt.legend(loc=loss_legend_loc, fontsize='x-large')\r\n",
    "        \r\n",
    "        plt.savefig(fig_name)\r\n",
    "        plt.show()"
   ]
  },
  {
   "cell_type": "code",
   "execution_count": 11,
   "metadata": {
    "execution": {
     "iopub.execute_input": "2023-02-19T06:18:08.113689Z",
     "iopub.status.busy": "2023-02-19T06:18:08.112944Z",
     "iopub.status.idle": "2023-02-19T07:18:04.208464Z",
     "shell.execute_reply": "2023-02-19T07:18:04.207459Z",
     "shell.execute_reply.started": "2023-02-19T06:18:08.113652Z"
    },
    "scrolled": true,
    "tags": []
   },
   "outputs": [
    {
     "name": "stderr",
     "output_type": "stream",
     "text": [
      "/opt/conda/envs/python35-paddle120-env/lib/python3.7/site-packages/paddle/nn/layer/norm.py:654: UserWarning: When training, we now always track global mean and variance.\r\n",
      "  \"When training, we now always track global mean and variance.\")\r\n"
     ]
    },
    {
     "name": "stdout",
     "output_type": "stream",
     "text": [
      "[Train]epoch: 0, batch: 0, loss is: 2.11632\r\n",
      "[Dev]epoch: 0, step: 0, dev_loss is: 3.83063\r\n",
      "[Update]least loss has been updated: 999999.00000-->3.83063\r\n",
      "[Train]epoch: 0, batch: 10, loss is: 0.21006\r\n",
      "[Train]epoch: 0, batch: 20, loss is: 0.04733\r\n",
      "[Dev]epoch: 0, step: 20, dev_loss is: 0.04143\r\n",
      "[Update]least loss has been updated: 3.83063-->0.04143\r\n",
      "[Train]epoch: 0, batch: 30, loss is: 0.03533\r\n",
      "[Train]epoch: 0, batch: 40, loss is: 0.02821\r\n",
      "[Dev]epoch: 0, step: 40, dev_loss is: 0.03294\r\n",
      "[Update]least loss has been updated: 0.04143-->0.03294\r\n",
      "[Train]epoch: 0, batch: 50, loss is: 0.02297\r\n",
      "[Train]epoch: 0, batch: 60, loss is: 0.02999\r\n",
      "[Dev]epoch: 0, step: 60, dev_loss is: 0.03280\r\n",
      "[Update]least loss has been updated: 0.03294-->0.03280\r\n",
      "[Train]epoch: 0, batch: 70, loss is: 0.02332\r\n",
      "[Train]epoch: 0, batch: 80, loss is: 0.03407\r\n",
      "[Dev]epoch: 0, step: 80, dev_loss is: 0.03335\r\n",
      "[Train]epoch: 1, batch: 90, loss is: 5.11375\r\n",
      "[Train]epoch: 1, batch: 100, loss is: 0.09568\r\n",
      "[Dev]epoch: 1, step: 100, dev_loss is: 0.66113\r\n",
      "[Train]epoch: 1, batch: 110, loss is: 90.79111\r\n",
      "[Train]epoch: 1, batch: 120, loss is: 0.19832\r\n",
      "[Dev]epoch: 1, step: 120, dev_loss is: 0.12545\r\n",
      "[Train]epoch: 1, batch: 130, loss is: 0.06164\r\n",
      "[Train]epoch: 1, batch: 140, loss is: 0.04578\r\n",
      "[Dev]epoch: 1, step: 140, dev_loss is: 0.04329\r\n",
      "[Train]epoch: 1, batch: 150, loss is: 0.04378\r\n",
      "[Train]epoch: 1, batch: 160, loss is: 0.03132\r\n",
      "[Dev]epoch: 1, step: 160, dev_loss is: 0.03274\r\n",
      "[Update]least loss has been updated: 0.03280-->0.03274\r\n",
      "[Train]epoch: 1, batch: 170, loss is: 0.02801\r\n",
      "[Train]epoch: 2, batch: 180, loss is: 5.63294\r\n",
      "[Dev]epoch: 2, step: 180, dev_loss is: 0.33364\r\n",
      "[Train]epoch: 2, batch: 190, loss is: 0.05893\r\n",
      "[Train]epoch: 2, batch: 200, loss is: 0.03710\r\n",
      "[Dev]epoch: 2, step: 200, dev_loss is: 0.03654\r\n",
      "[Train]epoch: 2, batch: 210, loss is: 0.04831\r\n",
      "[Train]epoch: 2, batch: 220, loss is: 0.02667\r\n",
      "[Dev]epoch: 2, step: 220, dev_loss is: 0.03334\r\n",
      "[Train]epoch: 2, batch: 230, loss is: 0.02647\r\n",
      "[Train]epoch: 2, batch: 240, loss is: 0.02953\r\n",
      "[Dev]epoch: 2, step: 240, dev_loss is: 0.03212\r\n",
      "[Update]least loss has been updated: 0.03274-->0.03212\r\n",
      "[Train]epoch: 2, batch: 250, loss is: 0.03357\r\n",
      "[Train]epoch: 2, batch: 260, loss is: 0.02898\r\n",
      "[Dev]epoch: 2, step: 260, dev_loss is: 0.03217\r\n",
      "[Train]epoch: 3, batch: 270, loss is: 1.32654\r\n",
      "[Train]epoch: 3, batch: 280, loss is: 0.09526\r\n",
      "[Dev]epoch: 3, step: 280, dev_loss is: 0.56112\r\n",
      "[Train]epoch: 3, batch: 290, loss is: 0.14771\r\n",
      "[Train]epoch: 3, batch: 300, loss is: 0.14208\r\n",
      "[Dev]epoch: 3, step: 300, dev_loss is: 4.38546\r\n",
      "[Train]epoch: 3, batch: 310, loss is: 0.05616\r\n",
      "[Train]epoch: 3, batch: 320, loss is: 0.05022\r\n",
      "[Dev]epoch: 3, step: 320, dev_loss is: 0.04201\r\n",
      "[Train]epoch: 3, batch: 330, loss is: 0.03754\r\n",
      "[Train]epoch: 3, batch: 340, loss is: 0.02801\r\n",
      "[Dev]epoch: 3, step: 340, dev_loss is: 0.03269\r\n",
      "[Train]epoch: 3, batch: 350, loss is: 0.02841\r\n",
      "[Train]epoch: 4, batch: 360, loss is: 0.63238\r\n",
      "[Dev]epoch: 4, step: 360, dev_loss is: 0.05443\r\n",
      "[Train]epoch: 4, batch: 370, loss is: 0.03435\r\n",
      "[Train]epoch: 4, batch: 380, loss is: 0.03703\r\n",
      "[Dev]epoch: 4, step: 380, dev_loss is: 0.03130\r\n",
      "[Update]least loss has been updated: 0.03212-->0.03130\r\n",
      "[Train]epoch: 4, batch: 390, loss is: 0.02145\r\n",
      "[Train]epoch: 4, batch: 400, loss is: 0.02239\r\n",
      "[Dev]epoch: 4, step: 400, dev_loss is: 0.02116\r\n",
      "[Update]least loss has been updated: 0.03130-->0.02116\r\n",
      "[Train]epoch: 4, batch: 410, loss is: 0.02379\r\n",
      "[Train]epoch: 4, batch: 420, loss is: 0.01167\r\n",
      "[Dev]epoch: 4, step: 420, dev_loss is: 0.02136\r\n",
      "[Train]epoch: 4, batch: 430, loss is: 0.01625\r\n",
      "[Train]epoch: 4, batch: 440, loss is: 0.01966\r\n",
      "[Dev]epoch: 4, step: 440, dev_loss is: 0.01791\r\n",
      "[Update]least loss has been updated: 0.02116-->0.01791\r\n",
      "[Train]epoch: 5, batch: 450, loss is: 0.15001\r\n",
      "[Train]epoch: 5, batch: 460, loss is: 0.03306\r\n",
      "[Dev]epoch: 5, step: 460, dev_loss is: 0.38058\r\n",
      "[Train]epoch: 5, batch: 470, loss is: 0.44059\r\n",
      "[Train]epoch: 5, batch: 480, loss is: 0.03097\r\n",
      "[Dev]epoch: 5, step: 480, dev_loss is: 0.05012\r\n",
      "[Train]epoch: 5, batch: 490, loss is: 0.03475\r\n",
      "[Train]epoch: 5, batch: 500, loss is: 0.03304\r\n",
      "[Dev]epoch: 5, step: 500, dev_loss is: 0.03191\r\n",
      "[Train]epoch: 5, batch: 510, loss is: 0.02640\r\n",
      "[Train]epoch: 5, batch: 520, loss is: 0.03122\r\n",
      "[Dev]epoch: 5, step: 520, dev_loss is: 0.03068\r\n",
      "[Train]epoch: 5, batch: 530, loss is: 0.02908\r\n",
      "[Train]epoch: 6, batch: 540, loss is: 0.36795\r\n",
      "[Dev]epoch: 6, step: 540, dev_loss is: 0.06917\r\n",
      "[Train]epoch: 6, batch: 550, loss is: 0.02709\r\n",
      "[Train]epoch: 6, batch: 560, loss is: 0.01577\r\n",
      "[Dev]epoch: 6, step: 560, dev_loss is: 0.02241\r\n",
      "[Train]epoch: 6, batch: 570, loss is: 0.01357\r\n",
      "[Train]epoch: 6, batch: 580, loss is: 0.01617\r\n",
      "[Dev]epoch: 6, step: 580, dev_loss is: 0.01353\r\n",
      "[Update]least loss has been updated: 0.01791-->0.01353\r\n",
      "[Train]epoch: 6, batch: 590, loss is: 0.01028\r\n",
      "[Train]epoch: 6, batch: 600, loss is: 0.00825\r\n",
      "[Dev]epoch: 6, step: 600, dev_loss is: 0.00898\r\n",
      "[Update]least loss has been updated: 0.01353-->0.00898\r\n",
      "[Train]epoch: 6, batch: 610, loss is: 0.00587\r\n",
      "[Train]epoch: 6, batch: 620, loss is: 0.00493\r\n",
      "[Dev]epoch: 6, step: 620, dev_loss is: 0.00699\r\n",
      "[Update]least loss has been updated: 0.00898-->0.00699\r\n",
      "[Train]epoch: 7, batch: 630, loss is: 0.23769\r\n",
      "[Train]epoch: 7, batch: 640, loss is: 0.02500\r\n",
      "[Dev]epoch: 7, step: 640, dev_loss is: 0.50891\r\n",
      "[Train]epoch: 7, batch: 650, loss is: 0.07963\r\n",
      "[Train]epoch: 7, batch: 660, loss is: 0.04014\r\n",
      "[Dev]epoch: 7, step: 660, dev_loss is: 0.04401\r\n",
      "[Train]epoch: 7, batch: 670, loss is: 0.03452\r\n",
      "[Train]epoch: 7, batch: 680, loss is: 0.02114\r\n",
      "[Dev]epoch: 7, step: 680, dev_loss is: 0.02626\r\n",
      "[Train]epoch: 7, batch: 690, loss is: 0.02227\r\n",
      "[Train]epoch: 7, batch: 700, loss is: 0.01123\r\n",
      "[Dev]epoch: 7, step: 700, dev_loss is: 0.01615\r\n",
      "[Train]epoch: 7, batch: 710, loss is: 0.01391\r\n",
      "[Train]epoch: 8, batch: 720, loss is: 0.60633\r\n",
      "[Dev]epoch: 8, step: 720, dev_loss is: 0.05544\r\n",
      "[Train]epoch: 8, batch: 730, loss is: 0.01859\r\n",
      "[Train]epoch: 8, batch: 740, loss is: 0.00883\r\n",
      "[Dev]epoch: 8, step: 740, dev_loss is: 0.01017\r\n",
      "[Train]epoch: 8, batch: 750, loss is: 0.00692\r\n",
      "[Train]epoch: 8, batch: 760, loss is: 0.00854\r\n",
      "[Dev]epoch: 8, step: 760, dev_loss is: 0.00750\r\n",
      "[Train]epoch: 8, batch: 770, loss is: 0.00791\r\n",
      "[Train]epoch: 8, batch: 780, loss is: 0.00605\r\n",
      "[Dev]epoch: 8, step: 780, dev_loss is: 0.00578\r\n",
      "[Update]least loss has been updated: 0.00699-->0.00578\r\n",
      "[Train]epoch: 8, batch: 790, loss is: 0.00968\r\n",
      "[Train]epoch: 8, batch: 800, loss is: 0.00478\r\n",
      "[Dev]epoch: 8, step: 800, dev_loss is: 0.00643\r\n",
      "[Train]epoch: 9, batch: 810, loss is: 0.27186\r\n",
      "[Train]epoch: 9, batch: 820, loss is: 0.02687\r\n",
      "[Dev]epoch: 9, step: 820, dev_loss is: 1.09970\r\n",
      "[Train]epoch: 9, batch: 830, loss is: 0.10713\r\n",
      "[Train]epoch: 9, batch: 840, loss is: 0.03452\r\n",
      "[Dev]epoch: 9, step: 840, dev_loss is: 0.03468\r\n",
      "[Train]epoch: 9, batch: 850, loss is: 0.02442\r\n",
      "[Train]epoch: 9, batch: 860, loss is: 0.03157\r\n",
      "[Dev]epoch: 9, step: 860, dev_loss is: 0.03153\r\n",
      "[Train]epoch: 9, batch: 870, loss is: 0.03253\r\n",
      "[Train]epoch: 9, batch: 880, loss is: 0.01721\r\n",
      "[Dev]epoch: 9, step: 880, dev_loss is: 0.03847\r\n",
      "[Train]epoch: 9, batch: 890, loss is: 0.02714\r\n"
     ]
    }
   ],
   "source": [
    "model=TableNet()\r\n",
    "max_epoch=10\r\n",
    "opt = paddle.optimizer.Adam(learning_rate=0.001, beta1=0.9, beta2=0.999, parameters= model.parameters()) \r\n",
    "runner=Runner(model,opt,train_dataloader,dev_dataloader)\r\n",
    "for epoch in range(max_epoch):\r\n",
    "    runner.train_on_epoch()"
   ]
  },
  {
   "cell_type": "code",
   "execution_count": 12,
   "metadata": {
    "execution": {
     "iopub.execute_input": "2023-02-19T07:18:04.211641Z",
     "iopub.status.busy": "2023-02-19T07:18:04.210928Z",
     "iopub.status.idle": "2023-02-19T07:18:04.596648Z",
     "shell.execute_reply": "2023-02-19T07:18:04.595737Z",
     "shell.execute_reply.started": "2023-02-19T07:18:04.211607Z"
    },
    "scrolled": true
   },
   "outputs": [
    {
     "name": "stderr",
     "output_type": "stream",
     "text": [
      "/opt/conda/envs/python35-paddle120-env/lib/python3.7/site-packages/matplotlib/cbook/__init__.py:2349: DeprecationWarning: Using or importing the ABCs from 'collections' instead of from 'collections.abc' is deprecated, and in 3.8 it will stop working\r\n",
      "  if isinstance(obj, collections.Iterator):\r\n",
      "/opt/conda/envs/python35-paddle120-env/lib/python3.7/site-packages/matplotlib/cbook/__init__.py:2366: DeprecationWarning: Using or importing the ABCs from 'collections' instead of from 'collections.abc' is deprecated, and in 3.8 it will stop working\r\n",
      "  return list(data) if isinstance(data, collections.MappingView) else data\r\n"
     ]
    },
    {
     "data": {
      "image/png": "[encoded data removed]",
      "text/plain": [
       "<Figure size 800x500 with 1 Axes>"
      ]
     },
     "metadata": {},
     "output_type": "display_data"
    }
   ],
   "source": [
    "runner.plot_loss()"
   ]
  },
  {
   "cell_type": "code",
   "execution_count": 13,
   "metadata": {
    "execution": {
     "iopub.execute_input": "2023-02-19T07:18:04.598408Z",
     "iopub.status.busy": "2023-02-19T07:18:04.597891Z",
     "iopub.status.idle": "2023-02-19T07:18:04.602553Z",
     "shell.execute_reply": "2023-02-19T07:18:04.601886Z",
     "shell.execute_reply.started": "2023-02-19T07:18:04.598308Z"
    },
    "scrolled": true,
    "tags": []
   },
   "outputs": [],
   "source": [
    "# #from utils.metrics import compute_metrics\n",
    "# model = TableNet()\n",
    "# #print('here 3')\n",
    "# model.train()\n",
    "\n",
    "# if 1:\n",
    "#     try:\n",
    "#         # 接续之前的模型重复训练\n",
    "#         param_dict = paddle.load('./model.pdparams')\n",
    "#         model.load_dict(param_dict)\n",
    "#     except:\n",
    "#         print('no such model file')\n",
    "\n",
    "# train_dataset=MyDateset()\n",
    "# train_dataloader = paddle.io.DataLoader(\n",
    "#     train_dataset,\n",
    "#     batch_size=100,\n",
    "#     shuffle=True,\n",
    "#     drop_last=False)\n",
    "\n",
    "# max_epoch=10\n",
    "# # scheduler = paddle.optimizer.lr.CosineAnnealingDecay(learning_rate=0.01, T_max=max_epoch)\n",
    "# opt = paddle.optimizer.Adam(learning_rate=0.1, beta1=0.9, beta2=0.999, parameters= model.parameters()) \n",
    "# now_step=0\n",
    "# table_loss=[]\n",
    "# for epoch in range(max_epoch):\n",
    "#     for step, data in enumerate(train_dataloader):\n",
    "#         now_step+=1\n",
    "\n",
    "#         img, label = data\n",
    "#         pre = model(img)\n",
    "#         loss = paddle.nn.functional.mse_loss(pre, label).mean()\n",
    "#         table_loss.append(loss.item())\n",
    "#         loss.backward()\n",
    "#         opt.step()\n",
    "#         opt.clear_gradients()\n",
    "#         if now_step%20==0:\n",
    "#             print(\"epoch: {}, batch: {}, loss is: {}\".format(epoch, step, loss.mean().numpy()))\n",
    "\n",
    "# paddle.save(model.state_dict(), 'model.pdparams')"
   ]
  },
  {
   "cell_type": "code",
   "execution_count": 14,
   "metadata": {
    "execution": {
     "iopub.execute_input": "2023-02-19T07:18:04.604061Z",
     "iopub.status.busy": "2023-02-19T07:18:04.603523Z",
     "iopub.status.idle": "2023-02-19T07:18:04.608992Z",
     "shell.execute_reply": "2023-02-19T07:18:04.608364Z",
     "shell.execute_reply.started": "2023-02-19T07:18:04.604031Z"
    },
    "scrolled": true
   },
   "outputs": [],
   "source": [
    "# paddle.save(model.state_dict(), 'model.pdparams')"
   ]
  },
  {
   "cell_type": "markdown",
   "metadata": {},
   "source": [
    "## 2.5. 保存"
   ]
  },
  {
   "cell_type": "code",
   "execution_count": 15,
   "metadata": {
    "execution": {
     "iopub.execute_input": "2023-02-19T07:18:04.610239Z",
     "iopub.status.busy": "2023-02-19T07:18:04.609903Z",
     "iopub.status.idle": "2023-02-19T07:18:14.525199Z",
     "shell.execute_reply": "2023-02-19T07:18:14.524127Z",
     "shell.execute_reply.started": "2023-02-19T07:18:04.610214Z"
    },
    "scrolled": true
   },
   "outputs": [
    {
     "name": "stderr",
     "output_type": "stream",
     "text": [
      "/opt/conda/envs/python35-paddle120-env/lib/python3.7/site-packages/paddle/fluid/layers/math_op_patch.py:341: UserWarning: /opt/conda/envs/python35-paddle120-env/lib/python3.7/site-packages/paddle/vision/models/resnet.py:167\r\n",
      "The behavior of expression A + B has been unified with elementwise_add(X, Y, axis=-1) from Paddle 2.0. If your code works well in the older versions but crashes in this version, try to use elementwise_add(X, Y, axis=0) instead of A + B. This transitional warning will be dropped in the future.\r\n",
      "  op_type, op_type, EXPRESSION_MAP[method_name]))\r\n"
     ]
    }
   ],
   "source": [
    "# 保存\n",
    "model = TableNet()\n",
    "param_dict = paddle.load('./model.pdparams')\n",
    "model.load_dict(param_dict)\n",
    "model.eval()\n",
    "\n",
    "paddle.jit.save(\n",
    "    layer=model,\n",
    "    path='mymodel/model',\n",
    "    input_spec=[paddle.static.InputSpec(shape=[None, 3, 1024, 1024], dtype='float32')])"
   ]
  },
  {
   "cell_type": "markdown",
   "metadata": {},
   "source": [
    "## 2.6. 准备predict.py文件\n",
    "\n",
    "predict.py文件内容如下\n",
    "\n",
    "```\n",
    "# 代码示例\n",
    "# python predict.py [src_image_dir] [results]\n",
    "\n",
    "import os\n",
    "import sys\n",
    "import glob\n",
    "import json\n",
    "import cv2\n",
    "import paddle\n",
    "\n",
    "\n",
    "def process(src_image_dir, save_dir):\n",
    "    # load\n",
    "    model = paddle.jit.load('./mymodel/model')\n",
    "    model.eval()\n",
    "\n",
    "    image_paths = glob.glob(os.path.join(src_image_dir, \"*.jpg\"))\n",
    "    result = {}\n",
    "    for image_path in image_paths:\n",
    "        filename = os.path.split(image_path)[1]\n",
    "        # do something\n",
    "        img = cv2.imread(image_path)\n",
    "        # get img infor\n",
    "        h, w, c = img.shape\n",
    "        # pre-process of img\n",
    "        img = paddle.vision.transforms.resize(img, (512,512), interpolation='bilinear')\n",
    "        img = img.transpose((2,0,1))\n",
    "        img = img/255\n",
    "        img = paddle.to_tensor(img).astype('float32')\n",
    "        img = paddle.reshape(img, [1]+img.shape)\n",
    "\n",
    "        pre = model(img)\n",
    "        pre = pre[0]\n",
    "        pre[pre>1]=1\n",
    "        pre[pre<0]=0\n",
    "        pre = pre.tolist()\n",
    "        x1, y1, x2, y2, x3, y3, x4, y4 = pre\n",
    "        x1, x2, x3, x4 = [int(x*w) for x in [x1, x2, x3, x4]]\n",
    "        y1, y2, y3, y4 = [int(y*h) for y in [y1, y2, y3, y4]]\n",
    "\n",
    "        xmin = min(x1,x2,x3,x4)\n",
    "        xmax = max(x1,x2,x3,x4)\n",
    "        ymin = min(y1,y2,y3,y4)\n",
    "        ymax = max(y1,y2,y3,y4)\n",
    "\n",
    "        if filename not in result:\n",
    "            result[filename] = []\n",
    "        result[filename].append({\n",
    "            \"box\": [xmin, ymin, xmax, ymax],\n",
    "            \"lb\": [x1, y1],\n",
    "            \"lt\": [x2, y2],\n",
    "            \"rt\": [x3, y3],\n",
    "            \"rb\": [x4, y4],\n",
    "        })\n",
    "    with open(os.path.join(save_dir, \"result.txt\"), 'w', encoding=\"utf-8\") as f:\n",
    "        f.write(json.dumps(result))\n",
    "\n",
    "\n",
    "if __name__ == \"__main__\":\n",
    "    assert len(sys.argv) == 3\n",
    "\n",
    "    src_image_dir = sys.argv[1]\n",
    "    save_dir = sys.argv[2]\n",
    "\n",
    "    if not os.path.exists(save_dir):\n",
    "        os.makedirs(save_dir)\n",
    "\n",
    "    process(src_image_dir, save_dir)\n",
    "```"
   ]
  },
  {
   "cell_type": "code",
   "execution_count": 16,
   "metadata": {
    "execution": {
     "iopub.execute_input": "2023-02-19T07:18:14.527252Z",
     "iopub.status.busy": "2023-02-19T07:18:14.526587Z",
     "iopub.status.idle": "2023-02-19T07:18:24.149855Z",
     "shell.execute_reply": "2023-02-19T07:18:24.148696Z",
     "shell.execute_reply.started": "2023-02-19T07:18:14.527215Z"
    },
    "scrolled": true
   },
   "outputs": [
    {
     "name": "stdout",
     "output_type": "stream",
     "text": [
      "W0219 15:18:17.599325 22633 gpu_resources.cc:61] Please NOTE: device: 0, GPU Compute Capability: 7.0, Driver API Version: 11.2, Runtime API Version: 11.2\r\n",
      "W0219 15:18:17.603521 22633 gpu_resources.cc:91] device: 0, cuDNN Version: 8.2.\r\n"
     ]
    }
   ],
   "source": [
    "# 运行代码查看预测结果\n",
    "! python predict.py pubtest/imgs test_A_result"
   ]
  },
  {
   "cell_type": "markdown",
   "metadata": {},
   "source": [
    "## 2.7. 打包提交"
   ]
  },
  {
   "cell_type": "code",
   "execution_count": 17,
   "metadata": {
    "execution": {
     "iopub.execute_input": "2023-02-19T07:18:24.152200Z",
     "iopub.status.busy": "2023-02-19T07:18:24.151428Z",
     "iopub.status.idle": "2023-02-19T07:18:36.972502Z",
     "shell.execute_reply": "2023-02-19T07:18:36.971326Z",
     "shell.execute_reply.started": "2023-02-19T07:18:24.152159Z"
    },
    "scrolled": true,
    "tags": []
   },
   "outputs": [
    {
     "name": "stdout",
     "output_type": "stream",
     "text": [
      "updating: predict.py (deflated 58%)\r\n",
      "updating: mymodel/ (stored 0%)\r\n",
      "updating: mymodel/model.pdmodel (deflated 98%)\r\n",
      "updating: mymodel/model.pdiparams.info (deflated 85%)\r\n",
      "updating: mymodel/model.pdiparams (deflated 7%)\r\n"
     ]
    }
   ],
   "source": [
    "! zip -r submit.zip predict.py mymodel"
   ]
  },
  {
   "cell_type": "markdown",
   "metadata": {},
   "source": [
    "# 3. 总结\n",
    "\n",
    "本项目先用TableNet分析出特征图，即每个像素属于表格内、表格外的概率，然后用resnet101回归，学习到四个角点的坐标。\n",
    "\n",
    "检测模型具体可以参考[百度网盘AI大赛——表格检测进阶：表格的结构化 Baseline](https://aistudio.baidu.com/aistudio/projectdetail/5234267)"
   ]
  },
  {
   "cell_type": "markdown",
   "metadata": {},
   "source": [
    "请点击[此处](https://ai.baidu.com/docs#/AIStudio_Project_Notebook/a38e5576)查看本环境基本用法.  <br>\n",
    "Please click [here ](https://ai.baidu.com/docs#/AIStudio_Project_Notebook/a38e5576) for more detailed instructions. "
   ]
  }
 ],
 "metadata": {
  "kernelspec": {
   "display_name": "Python 3",
   "language": "python",
   "name": "py35-paddle1.2.0"
  },
  "language_info": {
   "codemirror_mode": {
    "name": "ipython",
    "version": 3
   },
   "file_extension": ".py",
   "mimetype": "text/x-python",
   "name": "python",
   "nbconvert_exporter": "python",
   "pygments_lexer": "ipython3",
   "version": "3.7.4"
  }
 },
 "nbformat": 4,
 "nbformat_minor": 4
}

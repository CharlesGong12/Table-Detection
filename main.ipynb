{
 "cells": [
  {
   "cell_type": "markdown",
   "metadata": {},
   "source": [
    "# 百度网盘AI大赛——表格检测\n",
    "\n",
    "基于TableNet得到表格的四个拐角坐标，本项目附带一个可以直接提交的样例。\n",
    "\n",
    "[比赛链接](https://aistudio.baidu.com/aistudio/competition/detail/702/0/introduction)\n",
    "\n",
    "# 1. 比赛介绍\n",
    "\n",
    "生活中，扫描技术越来越常见，通过手机就能将图片转化为可编辑的文档等；但是现在的技术在处理带有表格类型的文字的时候往往没有那么灵敏，把完整表格拆分成难以使用的零散个体似乎很常见又令人苦恼。本次比赛旨在解决这个问题，通过万能的算法，准确地识别表格在图片中的位置并标注。\n",
    "\n",
    "## 1.1. 数据介绍\n",
    "本次比赛最新发布的数据集共包含训练集、A榜测试集、B榜测试集三个部分，其中训练集共10000张图片，A榜测试集共500张图片，B榜测试集500张图片；imgs目录下为所有训练图片；annos.txt 为标注文件，json格式，格式示例如下:\n",
    "\n",
    "```\n",
    "{\n",
    "    \"a.jpg\": [  # 图片文件名称\n",
    "        {\n",
    "            'box': [xmin, ymin, xmax,ymax],  # 表格box位置，(xmin, ymin)为box左上点，(xmax, ymax)为box右下点\n",
    "            'lb': [x, y],  # 表格left bottom点，即左下顶点\n",
    "            'lt': [x, y],  # 表格left top点，即左上顶点\n",
    "            'rt': [x, y],  # 表格right top点，即右上顶点\n",
    "            'rb': [x, y]  # 表格right bottom点，即右下顶点\n",
    "        }],\n",
    "    \n",
    "    \"b.jpg\": [{\n",
    "        'box': [xmin, ymin, xmax, ymax],\n",
    "        'lb': [x, y],\n",
    "        'lt': [x, y],\n",
    "        'rt': [x, y],\n",
    "        'rb': [x, y]\n",
    "    }]\n",
    "}\n",
    "```\n",
    "\n",
    "## 1.2. 赛题分析\n",
    "\n",
    "先用TableNet分析出各像素点属于表格内或外的概率，然后用resnet101回归得到四个角点的坐标，最后结果加以旋转。\n",
    "\n",
    "# 2. 代码"
   ]
  },
  {
   "cell_type": "markdown",
   "metadata": {},
   "source": [
    "## 2.1. 准备数据"
   ]
  },
  {
   "cell_type": "code",
   "execution_count": 1,
   "metadata": {
    "collapsed": false,
    "execution": {
     "iopub.execute_input": "2023-03-01T03:56:41.044696Z",
     "iopub.status.busy": "2023-03-01T03:56:41.044458Z",
     "iopub.status.idle": "2023-03-01T03:57:15.677621Z",
     "shell.execute_reply": "2023-03-01T03:57:15.676443Z",
     "shell.execute_reply.started": "2023-03-01T03:56:41.044671Z"
    },
    "jupyter": {
     "outputs_hidden": false
    },
    "scrolled": true,
    "tags": []
   },
   "outputs": [],
   "source": [
    "! unzip -oq data/data182385/train.zip\n",
    "! unzip -oq data/data182385/testA.zip"
   ]
  },
  {
   "cell_type": "code",
   "execution_count": 2,
   "metadata": {
    "execution": {
     "iopub.execute_input": "2023-03-01T03:57:15.680701Z",
     "iopub.status.busy": "2023-03-01T03:57:15.680277Z",
     "iopub.status.idle": "2023-03-01T03:57:18.002847Z",
     "shell.execute_reply": "2023-03-01T03:57:18.001808Z",
     "shell.execute_reply.started": "2023-03-01T03:57:15.680673Z"
    },
    "scrolled": true
   },
   "outputs": [
    {
     "name": "stdout",
     "output_type": "stream",
     "text": [
      "Looking in indexes: https://pypi.tuna.tsinghua.edu.cn/simple\r\n",
      "Requirement already satisfied: paddleclas in /opt/conda/envs/python35-paddle120-env/lib/python3.7/site-packages (2.5.1)\r\n",
      "Requirement already satisfied: visualdl>=2.2.0 in /opt/conda/envs/python35-paddle120-env/lib/python3.7/site-packages (from paddleclas) (2.4.0)\r\n",
      "Requirement already satisfied: scipy>=1.0.0 in /opt/conda/envs/python35-paddle120-env/lib/python3.7/site-packages (from paddleclas) (1.6.3)\r\n",
      "Requirement already satisfied: PyYAML>=5.1 in /opt/conda/envs/python35-paddle120-env/lib/python3.7/site-packages (from paddleclas) (5.1.2)\r\n",
      "Requirement already satisfied: scikit-learn>=0.21.0 in /opt/conda/envs/python35-paddle120-env/lib/python3.7/site-packages (from paddleclas) (0.24.2)\r\n",
      "Requirement already satisfied: faiss-cpu==1.7.1.post2 in /opt/conda/envs/python35-paddle120-env/lib/python3.7/site-packages (from paddleclas) (1.7.1.post2)\r\n",
      "Requirement already satisfied: tqdm in /opt/conda/envs/python35-paddle120-env/lib/python3.7/site-packages (from paddleclas) (4.64.1)\r\n",
      "Requirement already satisfied: gast==0.3.3 in /opt/conda/envs/python35-paddle120-env/lib/python3.7/site-packages (from paddleclas) (0.3.3)\r\n",
      "Requirement already satisfied: easydict in /opt/conda/envs/python35-paddle120-env/lib/python3.7/site-packages (from paddleclas) (1.9)\r\n",
      "Requirement already satisfied: ujson in /opt/conda/envs/python35-paddle120-env/lib/python3.7/site-packages (from paddleclas) (1.35)\r\n",
      "Requirement already satisfied: pillow in /opt/conda/envs/python35-paddle120-env/lib/python3.7/site-packages (from paddleclas) (8.2.0)\r\n",
      "Requirement already satisfied: prettytable in /opt/conda/envs/python35-paddle120-env/lib/python3.7/site-packages (from paddleclas) (0.7.2)\r\n",
      "Requirement already satisfied: opencv-python in /opt/conda/envs/python35-paddle120-env/lib/python3.7/site-packages (from paddleclas) (4.6.0.66)\r\n",
      "Requirement already satisfied: threadpoolctl>=2.0.0 in /opt/conda/envs/python35-paddle120-env/lib/python3.7/site-packages (from scikit-learn>=0.21.0->paddleclas) (2.1.0)\r\n",
      "Requirement already satisfied: numpy>=1.13.3 in /opt/conda/envs/python35-paddle120-env/lib/python3.7/site-packages (from scikit-learn>=0.21.0->paddleclas) (1.19.5)\r\n",
      "Requirement already satisfied: joblib>=0.11 in /opt/conda/envs/python35-paddle120-env/lib/python3.7/site-packages (from scikit-learn>=0.21.0->paddleclas) (0.14.1)\r\n",
      "Requirement already satisfied: matplotlib in /opt/conda/envs/python35-paddle120-env/lib/python3.7/site-packages (from visualdl>=2.2.0->paddleclas) (2.2.3)\r\n",
      "Requirement already satisfied: bce-python-sdk in /opt/conda/envs/python35-paddle120-env/lib/python3.7/site-packages (from visualdl>=2.2.0->paddleclas) (0.8.53)\r\n",
      "Requirement already satisfied: six>=1.14.0 in /opt/conda/envs/python35-paddle120-env/lib/python3.7/site-packages (from visualdl>=2.2.0->paddleclas) (1.16.0)\r\n",
      "Requirement already satisfied: requests in /opt/conda/envs/python35-paddle120-env/lib/python3.7/site-packages (from visualdl>=2.2.0->paddleclas) (2.24.0)\r\n",
      "Requirement already satisfied: flask>=1.1.1 in /opt/conda/envs/python35-paddle120-env/lib/python3.7/site-packages (from visualdl>=2.2.0->paddleclas) (1.1.1)\r\n",
      "Requirement already satisfied: protobuf>=3.11.0 in /opt/conda/envs/python35-paddle120-env/lib/python3.7/site-packages (from visualdl>=2.2.0->paddleclas) (3.20.0)\r\n",
      "Requirement already satisfied: Flask-Babel>=1.0.0 in /opt/conda/envs/python35-paddle120-env/lib/python3.7/site-packages (from visualdl>=2.2.0->paddleclas) (1.0.0)\r\n",
      "Requirement already satisfied: pandas in /opt/conda/envs/python35-paddle120-env/lib/python3.7/site-packages (from visualdl>=2.2.0->paddleclas) (1.1.5)\r\n",
      "Requirement already satisfied: Werkzeug>=0.15 in /opt/conda/envs/python35-paddle120-env/lib/python3.7/site-packages (from flask>=1.1.1->visualdl>=2.2.0->paddleclas) (0.16.0)\r\n",
      "Requirement already satisfied: click>=5.1 in /opt/conda/envs/python35-paddle120-env/lib/python3.7/site-packages (from flask>=1.1.1->visualdl>=2.2.0->paddleclas) (8.0.4)\r\n",
      "Requirement already satisfied: Jinja2>=2.10.1 in /opt/conda/envs/python35-paddle120-env/lib/python3.7/site-packages (from flask>=1.1.1->visualdl>=2.2.0->paddleclas) (3.0.0)\r\n",
      "Requirement already satisfied: itsdangerous>=0.24 in /opt/conda/envs/python35-paddle120-env/lib/python3.7/site-packages (from flask>=1.1.1->visualdl>=2.2.0->paddleclas) (1.1.0)\r\n",
      "Requirement already satisfied: Babel>=2.3 in /opt/conda/envs/python35-paddle120-env/lib/python3.7/site-packages (from Flask-Babel>=1.0.0->visualdl>=2.2.0->paddleclas) (2.8.0)\r\n",
      "Requirement already satisfied: pytz in /opt/conda/envs/python35-paddle120-env/lib/python3.7/site-packages (from Flask-Babel>=1.0.0->visualdl>=2.2.0->paddleclas) (2019.3)\r\n",
      "Requirement already satisfied: pycryptodome>=3.8.0 in /opt/conda/envs/python35-paddle120-env/lib/python3.7/site-packages (from bce-python-sdk->visualdl>=2.2.0->paddleclas) (3.9.9)\r\n",
      "Requirement already satisfied: future>=0.6.0 in /opt/conda/envs/python35-paddle120-env/lib/python3.7/site-packages (from bce-python-sdk->visualdl>=2.2.0->paddleclas) (0.18.0)\r\n",
      "Requirement already satisfied: python-dateutil>=2.1 in /opt/conda/envs/python35-paddle120-env/lib/python3.7/site-packages (from matplotlib->visualdl>=2.2.0->paddleclas) (2.8.2)\r\n",
      "Requirement already satisfied: cycler>=0.10 in /opt/conda/envs/python35-paddle120-env/lib/python3.7/site-packages (from matplotlib->visualdl>=2.2.0->paddleclas) (0.10.0)\r\n",
      "Requirement already satisfied: kiwisolver>=1.0.1 in /opt/conda/envs/python35-paddle120-env/lib/python3.7/site-packages (from matplotlib->visualdl>=2.2.0->paddleclas) (1.1.0)\r\n",
      "Requirement already satisfied: pyparsing!=2.0.4,!=2.1.2,!=2.1.6,>=2.0.1 in /opt/conda/envs/python35-paddle120-env/lib/python3.7/site-packages (from matplotlib->visualdl>=2.2.0->paddleclas) (3.0.9)\r\n",
      "Requirement already satisfied: idna<3,>=2.5 in /opt/conda/envs/python35-paddle120-env/lib/python3.7/site-packages (from requests->visualdl>=2.2.0->paddleclas) (2.8)\r\n",
      "Requirement already satisfied: certifi>=2017.4.17 in /opt/conda/envs/python35-paddle120-env/lib/python3.7/site-packages (from requests->visualdl>=2.2.0->paddleclas) (2019.9.11)\r\n",
      "Requirement already satisfied: urllib3!=1.25.0,!=1.25.1,<1.26,>=1.21.1 in /opt/conda/envs/python35-paddle120-env/lib/python3.7/site-packages (from requests->visualdl>=2.2.0->paddleclas) (1.25.6)\r\n",
      "Requirement already satisfied: chardet<4,>=3.0.2 in /opt/conda/envs/python35-paddle120-env/lib/python3.7/site-packages (from requests->visualdl>=2.2.0->paddleclas) (3.0.4)\r\n",
      "Requirement already satisfied: importlib-metadata in /opt/conda/envs/python35-paddle120-env/lib/python3.7/site-packages (from click>=5.1->flask>=1.1.1->visualdl>=2.2.0->paddleclas) (4.2.0)\r\n",
      "Requirement already satisfied: MarkupSafe>=2.0.0rc2 in /opt/conda/envs/python35-paddle120-env/lib/python3.7/site-packages (from Jinja2>=2.10.1->flask>=1.1.1->visualdl>=2.2.0->paddleclas) (2.0.1)\r\n",
      "Requirement already satisfied: setuptools in /opt/conda/envs/python35-paddle120-env/lib/python3.7/site-packages (from kiwisolver>=1.0.1->matplotlib->visualdl>=2.2.0->paddleclas) (56.2.0)\r\n",
      "Requirement already satisfied: zipp>=0.5 in /opt/conda/envs/python35-paddle120-env/lib/python3.7/site-packages (from importlib-metadata->click>=5.1->flask>=1.1.1->visualdl>=2.2.0->paddleclas) (3.8.1)\r\n",
      "Requirement already satisfied: typing-extensions>=3.6.4 in /opt/conda/envs/python35-paddle120-env/lib/python3.7/site-packages (from importlib-metadata->click>=5.1->flask>=1.1.1->visualdl>=2.2.0->paddleclas) (4.3.0)\r\n",
      "\r\n",
      "\u001b[1m[\u001b[0m\u001b[34;49mnotice\u001b[0m\u001b[1;39;49m]\u001b[0m\u001b[39;49m A new release of pip available: \u001b[0m\u001b[31;49m22.1.2\u001b[0m\u001b[39;49m -> \u001b[0m\u001b[32;49m23.0.1\u001b[0m\r\n",
      "\u001b[1m[\u001b[0m\u001b[34;49mnotice\u001b[0m\u001b[1;39;49m]\u001b[0m\u001b[39;49m To update, run: \u001b[0m\u001b[32;49mpip install --upgrade pip\u001b[0m\r\n"
     ]
    }
   ],
   "source": [
    "! pip3 install paddleclas"
   ]
  },
  {
   "cell_type": "markdown",
   "metadata": {},
   "source": [
    "## 2.2. 创建数据读取器"
   ]
  },
  {
   "cell_type": "code",
   "execution_count": 3,
   "metadata": {
    "execution": {
     "iopub.execute_input": "2023-03-01T03:57:18.004820Z",
     "iopub.status.busy": "2023-03-01T03:57:18.004370Z",
     "iopub.status.idle": "2023-03-01T03:57:19.565577Z",
     "shell.execute_reply": "2023-03-01T03:57:19.564455Z",
     "shell.execute_reply.started": "2023-03-01T03:57:18.004784Z"
    },
    "scrolled": true
   },
   "outputs": [
    {
     "name": "stdout",
     "output_type": "stream",
     "text": [
      "gpu:0\r\n"
     ]
    },
    {
     "data": {
      "text/plain": [
       "Place(gpu:0)"
      ]
     },
     "execution_count": 3,
     "metadata": {},
     "output_type": "execute_result"
    }
   ],
   "source": [
    "import sys\n",
    "sys.path.append('/home/aistudio/work/external-libraries')\n",
    "import os\n",
    "os.environ['FLAGS_eager_delete_tensor_gb'] = '0.0'\n",
    "\n",
    "import paddle\n",
    "# 设置CUDA训练\n",
    "PLACE = paddle.CUDAPlace(0)\n",
    "print(paddle.device.get_device())\n",
    "paddle.device.set_device('gpu:0')"
   ]
  },
  {
   "cell_type": "code",
   "execution_count": 4,
   "metadata": {
    "execution": {
     "iopub.execute_input": "2023-03-01T03:57:19.568029Z",
     "iopub.status.busy": "2023-03-01T03:57:19.567293Z",
     "iopub.status.idle": "2023-03-01T03:57:21.640194Z",
     "shell.execute_reply": "2023-03-01T03:57:21.638978Z",
     "shell.execute_reply.started": "2023-03-01T03:57:19.567979Z"
    },
    "scrolled": true,
    "tags": []
   },
   "outputs": [
    {
     "name": "stderr",
     "output_type": "stream",
     "text": [
      "W0301 11:57:20.661190 12305 gpu_resources.cc:61] Please NOTE: device: 0, GPU Compute Capability: 7.0, Driver API Version: 11.2, Runtime API Version: 11.2\r\n",
      "W0301 11:57:20.664824 12305 gpu_resources.cc:91] device: 0, cuDNN Version: 8.2.\r\n"
     ]
    },
    {
     "name": "stdout",
     "output_type": "stream",
     "text": [
      "0 [48, 3, 224, 224] [48, 8]\r\n",
      "Tensor(shape=[48, 8], dtype=float32, place=Place(gpu:0), stop_gradient=True,\r\n",
      "       [[0.62980270, 0.99326771, 0.34839046, 0.98860693, 0.36552441, 0.00362506,\r\n",
      "         0.64693666, 0.00828586],\r\n",
      "        [0.57276505, 0.99594319, 0.30821207, 0.96450305, 0.42879418, 0.00608519,\r\n",
      "         0.69334722, 0.03803245],\r\n",
      "        [0.19203980, 0.98626715, 0.08159204, 0.83270913, 0.80796021, 0.01123596,\r\n",
      "         0.91840798, 0.16479401],\r\n",
      "        [0.29454544, 0.99448431, 0.10649350, 0.84390515, 0.70129871, 0.00551572,\r\n",
      "         0.88935065, 0.15609486],\r\n",
      "        [0.03175430, 0.98554915, 0.00416450, 0.68063581, 0.96616346, 0.01445087,\r\n",
      "         0.99323267, 0.31936416],\r\n",
      "        [0.37663016, 0.99519998, 0.27021387, 0.95359999, 0.62597811, 0.00586667,\r\n",
      "         0.73239434, 0.04800000],\r\n",
      "        [0.58649349, 0.99545455, 0.28935066, 0.96010101, 0.40987012, 0.00555556,\r\n",
      "         0.70701301, 0.04090909],\r\n",
      "        [0.47214854, 0.99469024, 0.41290894, 0.98761064, 0.53227234, 0.01238938,\r\n",
      "         0.59151196, 0.01946903],\r\n",
      "        [0.06905056, 0.97277230, 0.01479655, 0.65346533, 0.92725033, 0.02227723,\r\n",
      "         0.98273736, 0.34158415],\r\n",
      "        [0.05601660, 0.98754245, 0.01244813, 0.71121180, 0.94502074, 0.01019253,\r\n",
      "         0.98858923, 0.28652322],\r\n",
      "        [0.13603322, 0.99171060, 0.06490135, 0.84928411, 0.86396676, 0.00678222,\r\n",
      "         0.93509865, 0.14920874],\r\n",
      "        [0.13565488, 0.99357140, 0.00675676, 0.68714285, 0.86330563, 0.00785714,\r\n",
      "         0.99220371, 0.31357142],\r\n",
      "        [0.47105789, 0.99208963, 0.32202262, 0.96110743, 0.52694613, 0.00527357,\r\n",
      "         0.67598134, 0.03691496],\r\n",
      "        [0.12434964, 0.99379843, 0.04526535, 0.81240308, 0.87565035, 0.00930233,\r\n",
      "         0.95473462, 0.18992248],\r\n",
      "        [0.22031251, 0.99288678, 0.03125000, 0.74510968, 0.77916664, 0.00474215,\r\n",
      "         0.96822917, 0.25251928],\r\n",
      "        [0.23439878, 0.99378181, 0.00507357, 0.66704351, 0.76560122, 0.00508762,\r\n",
      "         0.99492645, 0.33182588],\r\n",
      "        [0.20263425, 0.98618090, 0.09017224, 0.83793968, 0.80547112, 0.01130653,\r\n",
      "         0.91691995, 0.15954773],\r\n",
      "        [0.13210446, 0.98704106, 0.00998464, 0.67818576, 0.86943161, 0.00863931,\r\n",
      "         0.99078339, 0.31749460],\r\n",
      "        [0.49779737, 0.99133450, 0.32863435, 0.96187174, 0.49955946, 0.00866551,\r\n",
      "         0.66872245, 0.03812825],\r\n",
      "        [0.39300784, 0.99204892, 0.27968657, 0.95290518, 0.60156721, 0.00489297,\r\n",
      "         0.71488851, 0.04464832],\r\n",
      "        [0.06530409, 0.99203980, 0.00299103, 0.40597016, 0.93070787, 0.01293532,\r\n",
      "         0.99302095, 0.59800994],\r\n",
      "        [0.21036269, 0.99398679, 0.02383420, 0.72639805, 0.79015541, 0.00601323,\r\n",
      "         0.97668391, 0.27360192],\r\n",
      "        [0.02209661, 0.97790056, 0.00616650, 0.31860036, 0.97995889, 0.01473297,\r\n",
      "         0.99588901, 0.67219150],\r\n",
      "        [0.02557856, 0.95982140, 0.01096224, 0.66517860, 0.96833128, 0.04910714,\r\n",
      "         0.98294765, 0.34375000],\r\n",
      "        [0.31890661, 0.97101450, 0.18678816, 0.88647342, 0.67881548, 0.01932367,\r\n",
      "         0.81093395, 0.10144927],\r\n",
      "        [0.23507261, 0.99373436, 0.15115653, 0.91729325, 0.76223779, 0.00563910,\r\n",
      "         0.84615386, 0.08208020],\r\n",
      "        [0.37715179, 0.99274778, 0.25821596, 0.94359386, 0.62441313, 0.00886382,\r\n",
      "         0.74334896, 0.05801773],\r\n",
      "        [0.01136364, 0.98711342, 0.00516529, 0.05670103, 0.98863637, 0.01288660,\r\n",
      "         0.99483472, 0.94329900],\r\n",
      "        [0.55813956, 0.98727274, 0.02325581, 0.76363635, 0.44186047, 0.02363636,\r\n",
      "         0.97674417, 0.24909091],\r\n",
      "        [0.30868763, 0.98605579, 0.16081330, 0.87848604, 0.69316083, 0.02589642,\r\n",
      "         0.84288353, 0.13346614],\r\n",
      "        [0.53753752, 0.96153843, 0.34534535, 0.93786985, 0.45945945, 0.02366864,\r\n",
      "         0.65465468, 0.04733728],\r\n",
      "        [0.36439353, 0.99578947, 0.16814159, 0.88999999, 0.63300365, 0.00578947,\r\n",
      "         0.82925558, 0.11105263],\r\n",
      "        [0.01360985, 0.96385545, 0.00583279, 0.26204818, 0.98509395, 0.02409638,\r\n",
      "         0.99287105, 0.72590363],\r\n",
      "        [0.28859648, 0.98842818, 0.19122808, 0.92189008, 0.71140349, 0.00771456,\r\n",
      "         0.80877191, 0.07425265],\r\n",
      "        [0.02902240, 0.98915988, 0.00458248, 0.24119242, 0.96945012, 0.01626016,\r\n",
      "         0.99439919, 0.76422763],\r\n",
      "        [0.49016100, 0.98073554, 0.25581396, 0.91593695, 0.51878357, 0.01576182,\r\n",
      "         0.75313061, 0.08231173],\r\n",
      "        [0.25000000, 0.99537569, 0.06639004, 0.79768789, 0.75207472, 0.00693642,\r\n",
      "         0.93568462, 0.20404625],\r\n",
      "        [0.14296578, 0.99023861, 0.05551331, 0.81236440, 0.85703421, 0.01193059,\r\n",
      "         0.94448668, 0.18980478],\r\n",
      "        [0.35168833, 0.99296534, 0.24675325, 0.94480520, 0.64883119, 0.00378788,\r\n",
      "         0.75376624, 0.05248918],\r\n",
      "        [0.07447865, 0.99144489, 0.00546177, 0.41730037, 0.92601788, 0.01045627,\r\n",
      "         0.99553126, 0.58460075],\r\n",
      "        [0.04367607, 0.97210300, 0.00727934, 0.69527894, 0.95268428, 0.01502146,\r\n",
      "         0.98817104, 0.29184550],\r\n",
      "        [0.17289719, 0.99171972, 0.00311526, 0.68280256, 0.82294911, 0.00445860,\r\n",
      "         0.99273103, 0.31337580],\r\n",
      "        [0.04569055, 0.98884761, 0.00674974, 0.66418833, 0.95638627, 0.01363073,\r\n",
      "         0.99532712, 0.33952913],\r\n",
      "        [0.18285714, 0.99047011, 0.01818182, 0.71410418, 0.81818181, 0.00381194,\r\n",
      "         0.98233765, 0.28017789],\r\n",
      "        [0.18906489, 0.99195546, 0.00613183, 0.66336632, 0.81297904, 0.00495049,\r\n",
      "         0.99540114, 0.33292079],\r\n",
      "        [0.23871303, 0.99200910, 0.02439024, 0.73059362, 0.75817335, 0.00342466,\r\n",
      "         0.97249609, 0.26541096],\r\n",
      "        [0.43769968, 0.99382716, 0.16134185, 0.87500000, 0.56070286, 0.00848765,\r\n",
      "         0.83706069, 0.12731482],\r\n",
      "        [0.34753248, 0.99428570, 0.08987013, 0.81402600, 0.65662336, 0.00467532,\r\n",
      "         0.91428572, 0.18493506]])\r\n"
     ]
    }
   ],
   "source": [
    "import json\n",
    "import paddle\n",
    "import os\n",
    "import cv2\n",
    "from paddle.vision.transforms import Compose, ColorJitter, Resize\n",
    "\n",
    "class MyDateset(paddle.io.Dataset):\n",
    "    def __init__(self, txt_dir = 'train/annos.txt', root_dir = 'train/imgs', mode = 'train'):\n",
    "        super(MyDateset, self).__init__()\n",
    "\n",
    "        self.mode = mode\n",
    "        self.root_dir = root_dir\n",
    "        with open('train/annos.txt', 'r') as f:\n",
    "            self.data = json.load(f)\n",
    "            self.name_list = list(self.data.keys())\n",
    "    \n",
    "    def __getitem__(self, index):\n",
    "        name = self.name_list[index]\n",
    "        img_dir = os.path.join(self.root_dir, name)\n",
    "\n",
    "        img = cv2.imread(img_dir)\n",
    "        # get img infor\n",
    "        h, w, c = img.shape\n",
    "        # pre-process of img\n",
    "        img = paddle.vision.transforms.resize(img, (224,224), interpolation='bilinear')\n",
    "        img = img.transpose((2,0,1))\n",
    "        img = img/255\n",
    "        img = paddle.to_tensor(img,place=PLACE).astype('float32')\n",
    "        \n",
    "        # pre-process of labels\n",
    "        data = self.data[name][0] # get box infor\n",
    "        labels = []\n",
    "        for pos in ['lb','lt','rt','rb']:\n",
    "            labels += [data[pos][0]/w, data[pos][1]/h] \n",
    "        labels = paddle.to_tensor(labels,place=PLACE).astype('float32')\n",
    "        \n",
    "        return img,labels\n",
    "\n",
    "    def __len__(self):\n",
    "        return len(self.name_list)\n",
    "if 1:\n",
    "    train_dataset=MyDateset('train.txt')\n",
    "\n",
    "    train_dataloader = paddle.io.DataLoader(\n",
    "        train_dataset,\n",
    "        batch_size=48,\n",
    "        shuffle=True,\n",
    "        drop_last=False)\n",
    "\n",
    "    for step, data in enumerate(train_dataloader):\n",
    "        data, label = data\n",
    "        print(step, data.shape, label.shape)\n",
    "        print(label)\n",
    "        break"
   ]
  },
  {
   "cell_type": "code",
   "execution_count": 5,
   "metadata": {
    "execution": {
     "iopub.execute_input": "2023-03-01T03:57:21.642680Z",
     "iopub.status.busy": "2023-03-01T03:57:21.642053Z",
     "iopub.status.idle": "2023-03-01T03:57:24.111224Z",
     "shell.execute_reply": "2023-03-01T03:57:24.110355Z",
     "shell.execute_reply.started": "2023-03-01T03:57:21.642627Z"
    },
    "scrolled": true
   },
   "outputs": [
    {
     "name": "stderr",
     "output_type": "stream",
     "text": [
      "2023-03-01 11:57:22 INFO: Loading faiss with AVX2 support.\r\n",
      "2023-03-01 11:57:22 INFO: Could not load library with AVX2 support due to:\r\n",
      "ModuleNotFoundError(\"No module named 'faiss.swigfaiss_avx2'\")\r\n",
      "2023-03-01 11:57:22 INFO: Loading faiss.\r\n",
      "2023-03-01 11:57:22 INFO: Successfully loaded faiss.\r\n",
      "/opt/conda/envs/python35-paddle120-env/lib/python3.7/site-packages/matplotlib/__init__.py:107: DeprecationWarning: Using or importing the ABCs from 'collections' instead of from 'collections.abc' is deprecated, and in 3.8 it will stop working\r\n",
      "  from collections import MutableMapping\r\n",
      "/opt/conda/envs/python35-paddle120-env/lib/python3.7/site-packages/matplotlib/rcsetup.py:20: DeprecationWarning: Using or importing the ABCs from 'collections' instead of from 'collections.abc' is deprecated, and in 3.8 it will stop working\r\n",
      "  from collections import Iterable, Mapping\r\n",
      "/opt/conda/envs/python35-paddle120-env/lib/python3.7/site-packages/matplotlib/colors.py:53: DeprecationWarning: Using or importing the ABCs from 'collections' instead of from 'collections.abc' is deprecated, and in 3.8 it will stop working\r\n",
      "  from collections import Sized\r\n",
      "/opt/conda/envs/python35-paddle120-env/lib/python3.7/site-packages/matplotlib/cbook/__init__.py:2349: DeprecationWarning: Using or importing the ABCs from 'collections' instead of from 'collections.abc' is deprecated, and in 3.8 it will stop working\r\n",
      "  if isinstance(obj, collections.Iterator):\r\n",
      "/opt/conda/envs/python35-paddle120-env/lib/python3.7/site-packages/matplotlib/cbook/__init__.py:2366: DeprecationWarning: Using or importing the ABCs from 'collections' instead of from 'collections.abc' is deprecated, and in 3.8 it will stop working\r\n",
      "  return list(data) if isinstance(data, collections.MappingView) else data\r\n"
     ]
    },
    {
     "data": {
      "text/plain": [
       "<Figure size 640x480 with 1 Axes>"
      ]
     },
     "metadata": {},
     "output_type": "display_data"
    },
    {
     "name": "stdout",
     "output_type": "stream",
     "text": [
      "270.0\r\n"
     ]
    }
   ],
   "source": [
    "# 先旋转图片\n",
    "# 打个例子看看\n",
    "import paddleclas\n",
    "import matplotlib.pyplot as plt\n",
    "img_dir='train/imgs/border_top_0_1ZEW823TRWOVKU3VYICU.jpg'\n",
    "pre_model = paddleclas.PaddleClas(model_name=\"text_image_orientation\")\n",
    "result=pre_model.predict(input_data=img_dir)\n",
    "img1=plt.imread(img_dir)\n",
    "plt.imshow(img1)\n",
    "plt.show()\n",
    "# result = pre_model.predict(input_data=\"pulc_demo_imgs/text_image_orientation/img_rot0_demo.jpg\")\n",
    "a=float(next(result)[0]['label_names'][0])\n",
    "print(a)"
   ]
  },
  {
   "cell_type": "code",
   "execution_count": 6,
   "metadata": {
    "execution": {
     "iopub.execute_input": "2023-03-01T03:57:24.112937Z",
     "iopub.status.busy": "2023-03-01T03:57:24.112424Z",
     "iopub.status.idle": "2023-03-01T03:57:24.529600Z",
     "shell.execute_reply": "2023-03-01T03:57:24.527798Z",
     "shell.execute_reply.started": "2023-03-01T03:57:24.112907Z"
    },
    "scrolled": true,
    "tags": []
   },
   "outputs": [
    {
     "data": {
      "image/png": "[encoded data removed]",
      "text/plain": [
       "<Figure size 640x480 with 1 Axes>"
      ]
     },
     "metadata": {},
     "output_type": "display_data"
    }
   ],
   "source": [
    "img2=cv2.imread(img_dir)\n",
    "img2=paddle.vision.transforms.rotate(img2,a)\n",
    "plt.imshow(img1)\n",
    "plt.imshow(img2)\n",
    "\n",
    "plt.show()"
   ]
  },
  {
   "cell_type": "code",
   "execution_count": 7,
   "metadata": {
    "execution": {
     "iopub.execute_input": "2023-03-01T03:57:24.531555Z",
     "iopub.status.busy": "2023-03-01T03:57:24.531058Z",
     "iopub.status.idle": "2023-03-01T03:57:28.273827Z",
     "shell.execute_reply": "2023-03-01T03:57:28.272211Z",
     "shell.execute_reply.started": "2023-03-01T03:57:24.531517Z"
    },
    "scrolled": true,
    "tags": []
   },
   "outputs": [
    {
     "name": "stdout",
     "output_type": "stream",
     "text": [
      "0 [100, 3, 224, 224] [100, 8]\r\n"
     ]
    }
   ],
   "source": [
    "import random\n",
    "random.seed(1234)\n",
    "with open('train/annos.txt', 'r') as f:\n",
    "    data = json.load(f)\n",
    "    name_list = list(data.keys())\n",
    "random.shuffle(name_list)\n",
    "dev_name_list=name_list[:1000]\n",
    "train_name_list=name_list[1000:]\n",
    "# print(len(dev_name_list))\n",
    "\n",
    "class MyDataset2(paddle.io.Dataset):\n",
    "    def __init__(self, data, name_list, mode = 'train'):\n",
    "        super(MyDataset2, self).__init__()\n",
    "\n",
    "        self.mode = mode\n",
    "        self.data=data\n",
    "        self.name_list=name_list\n",
    "        self.root_dir='train/imgs'\n",
    "\n",
    "    def __getitem__(self, index):\n",
    "\n",
    "        name = self.name_list[index]\n",
    "        img_dir = os.path.join(self.root_dir, name)\n",
    "        # res=pre_model.predict(input_data=img_dir)\n",
    "        # angle=float(next(res)[0]['label_names'][0])\n",
    "        \n",
    "        img = cv2.imread(img_dir)\n",
    "        # get img infor\n",
    "        h, w, c = img.shape\n",
    "        # pre-process of img\n",
    "        # img=paddle.vision.transforms.rotate(img,angle)\n",
    "        img = paddle.vision.transforms.resize(img, (224,224), interpolation='bilinear')\n",
    "        img = img.transpose((2,0,1))\n",
    "        img = img/255\n",
    "        img = paddle.to_tensor(img,place=PLACE).astype('float32')\n",
    "        \n",
    "        # pre-process of labels\n",
    "        data = self.data[name][0] # get box infor\n",
    "        labels = []\n",
    "        for pos in ['lb','lt','rt','rb']:\n",
    "            labels += [data[pos][0]/w, data[pos][1]/h] \n",
    "        labels = paddle.to_tensor(labels,place=PLACE).astype('float32')\n",
    "        \n",
    "        return img,labels\n",
    "\n",
    "    def __len__(self):\n",
    "        return len(self.name_list)\n",
    "\n",
    "if 1:\n",
    "    train_dataset=MyDataset2(data,train_name_list)\n",
    "    dev_dataset=MyDataset2(data,dev_name_list)\n",
    "    #print(len(train_dataset))\n",
    "    train_dataloader = paddle.io.DataLoader(\n",
    "        train_dataset,\n",
    "        batch_size=100,\n",
    "        shuffle=True,\n",
    "        drop_last=False)\n",
    "    dev_dataloader=paddle.io.DataLoader(\n",
    "        dev_dataset,\n",
    "        batch_size=100,\n",
    "        shuffle=False,\n",
    "        drop_last=False)\n",
    "    #print('1')\n",
    "\n",
    "    for step, data in enumerate(train_dataloader):\n",
    "        # print('1')\n",
    "        #print(step)\n",
    "        data, label= data\n",
    "        print(step, data.shape, label.shape)\n",
    "        break"
   ]
  },
  {
   "cell_type": "markdown",
   "metadata": {},
   "source": [
    "## 2.3. 构建网络\n",
    "对于表格问题，可以用TableNet进行处理。"
   ]
  },
  {
   "cell_type": "code",
   "execution_count": 8,
   "metadata": {
    "execution": {
     "iopub.execute_input": "2023-03-01T03:57:28.275492Z",
     "iopub.status.busy": "2023-03-01T03:57:28.275029Z",
     "iopub.status.idle": "2023-03-01T03:57:28.283931Z",
     "shell.execute_reply": "2023-03-01T03:57:28.283028Z",
     "shell.execute_reply.started": "2023-03-01T03:57:28.275459Z"
    },
    "scrolled": true
   },
   "outputs": [],
   "source": [
    "import paddle\n",
    "import paddle.vision.models as models\n",
    "import paddle.nn as nn\n",
    "import paddle.nn.functional as F\n",
    "class DenseNet(nn.Layer):\n",
    "    def __init__(self, pretrained = True, requires_grad = True):\n",
    "        super(DenseNet, self).__init__()\n",
    "        #denseNet=models.densenet161(pretrained=True).children()\n",
    "        denseNet = list(models.densenet121(pretrained=True).children())\n",
    "        self.densenet_out_1 = nn.Sequential()\n",
    "        self.densenet_out_2 = nn.Sequential()\n",
    "        self.densenet_out_3 = nn.Sequential()\n",
    "        # densenet的结构和torch不一样\n",
    "        for x in range(6):\n",
    "            self.densenet_out_1.add_sublayer(str(x), denseNet[x])\n",
    "        for x in range(6,8):\n",
    "            self.densenet_out_2.add_sublayer(str(x), denseNet[x])\n",
    "\n",
    "        self.densenet_out_3.add_sublayer(str(8), denseNet[8])\n",
    "\n",
    "        if not requires_grad:\n",
    "            for param in self.parameters():\n",
    "                param.requires_grad = False\n",
    "\n",
    "    def forward(self, x):\n",
    "\n",
    "        out_1 = self.densenet_out_1(x) #torch.Size([1, 256, 14, 14])\n",
    "        out_2 = self.densenet_out_2(out_1) #torch.Size([1, 512, 7, 7])\n",
    "        out_3 = self.densenet_out_3(out_2) #torch.Size([1, 1024, 7, 7])\n",
    "        # print(out_1.shape,out_2.shape,out_3.shape)\n",
    "        return out_1, out_2, out_3"
   ]
  },
  {
   "cell_type": "code",
   "execution_count": 9,
   "metadata": {
    "execution": {
     "iopub.execute_input": "2023-03-01T03:57:28.285429Z",
     "iopub.status.busy": "2023-03-01T03:57:28.284979Z",
     "iopub.status.idle": "2023-03-01T03:57:28.924275Z",
     "shell.execute_reply": "2023-03-01T03:57:28.923137Z",
     "shell.execute_reply.started": "2023-03-01T03:57:28.285402Z"
    },
    "scrolled": true,
    "tags": []
   },
   "outputs": [],
   "source": [
    "# densenet=list(models.densenet121(pretrained=True).children())\n",
    "# print(len(densenet))\n",
    "# for i in range(len(densenet)):\n",
    "#     print('{}:{}'.format(i,densenet[i]))"
   ]
  },
  {
   "cell_type": "code",
   "execution_count": 10,
   "metadata": {
    "execution": {
     "iopub.execute_input": "2023-03-01T03:57:28.926697Z",
     "iopub.status.busy": "2023-03-01T03:57:28.926104Z",
     "iopub.status.idle": "2023-03-01T03:57:29.400733Z",
     "shell.execute_reply": "2023-03-01T03:57:29.399829Z",
     "shell.execute_reply.started": "2023-03-01T03:57:28.926663Z"
    },
    "scrolled": true
   },
   "outputs": [],
   "source": [
    "class TableDecoder(nn.Layer):\n",
    "    def __init__(self, channels, kernels, strides):\n",
    "        super(TableDecoder, self).__init__()\n",
    "        self.conv_7_table = nn.Conv2D(  #卷积结果有sigma运算\n",
    "                        in_channels = 256,\n",
    "                        out_channels = 256,\n",
    "                        kernel_size = kernels[0],\n",
    "                        stride = strides[0])\n",
    "        self.upsample_1_table = nn.Conv2DTranspose(\n",
    "                        in_channels = 256,\n",
    "                        out_channels=128,\n",
    "                        kernel_size = kernels[1],\n",
    "                        stride = strides[1])\n",
    "        self.upsample_2_table = nn.Conv2DTranspose(\n",
    "                        in_channels = 128 + channels[0],\n",
    "                        out_channels = 256,\n",
    "                        kernel_size = kernels[2],\n",
    "                        stride = strides[2])\n",
    "        self.upsample_3_table = nn.Conv2DTranspose(\n",
    "                        in_channels = 256 + channels[1],\n",
    "                        out_channels = 3,\n",
    "                        kernel_size = 16,\n",
    "                        stride = 16)\n",
    "\n",
    "    def forward(self, x, pool_3_out, pool_4_out):\n",
    "        #print(x.shape)\n",
    "        x = self.conv_7_table(x)  #[1, 256, 7, 7]\n",
    "        #print(x.shape)\n",
    "        out = self.upsample_1_table(x) #[1, 128, 7, 7]\n",
    "        #print(out.shape)\n",
    "        out = paddle.concat((out, pool_4_out), 1) #[1, 32, 7, 7]\n",
    "        #print(out.shape)\n",
    "        out = self.upsample_2_table(out) #[1, 256, 14,14]\n",
    "        #print(out.shape)\n",
    "        out = paddle.concat((out, pool_3_out), 1) #[1, 512, 14, 14]\n",
    "        #print(out.shape)\n",
    "        out = self.upsample_3_table(out) #[1, 3, 224, 224]\n",
    "        #print(out.shape)\n",
    "        return out"
   ]
  },
  {
   "cell_type": "code",
   "execution_count": 11,
   "metadata": {
    "execution": {
     "iopub.execute_input": "2023-03-01T03:57:29.404614Z",
     "iopub.status.busy": "2023-03-01T03:57:29.404225Z",
     "iopub.status.idle": "2023-03-01T03:57:30.074546Z",
     "shell.execute_reply": "2023-03-01T03:57:30.073353Z",
     "shell.execute_reply.started": "2023-03-01T03:57:29.404585Z"
    },
    "scrolled": true,
    "tags": []
   },
   "outputs": [],
   "source": [
    "class TableNet(nn.Layer):\n",
    "    def __init__(self):\n",
    "        super(TableNet, self).__init__()\n",
    "\n",
    "        self.base_model = DenseNet(pretrained = False, requires_grad = True)\n",
    "        self.pool_channels = [512, 256]\n",
    "        self.in_channels = 1024\n",
    "        self.kernels = [(1,1), (1,1), (2,2),(16,16)]\n",
    "        self.strides = [(1,1), (1,1), (2,2),(16,16)]\n",
    "\n",
    "        #common layer\n",
    "        self.conv6 = nn.Sequential(\n",
    "            nn.Conv2D(in_channels = self.in_channels, out_channels = 256, kernel_size=(1,1)),\n",
    "            nn.ReLU(),\n",
    "            nn.Dropout(0.8),\n",
    "            nn.Conv2D(in_channels = 256, out_channels = 256, kernel_size=(1,1)),\n",
    "            nn.ReLU(),\n",
    "            nn.Dropout(0.8))\n",
    "\n",
    "        self.table_decoder = TableDecoder(self.pool_channels, self.kernels, self.strides)\n",
    "        self.resnet=models.resnet101(pretrained=True,num_classes=0)\n",
    "        self.fc =nn.Linear(in_features=2048, out_features=8)\n",
    "\n",
    "    def forward(self, x):\n",
    "\n",
    "        pool_3_out, pool_4_out, pool_5_out = self.base_model(x)\n",
    "        conv_out = self.conv6(pool_5_out) #[1, 256, 7, 7]\n",
    "        #print(conv_out.shape)\n",
    "        table_out = self.table_decoder(conv_out, pool_3_out, pool_4_out) #torch.Size([1,3,224,224])\n",
    "        #print(table_out.shape)\n",
    "        \n",
    "        table_out=self.resnet(table_out) #[1,2048,1,1]，值是0到1之间的概率\n",
    "        table_out = paddle.flatten(table_out,1)\n",
    "        table_out = self.fc(table_out)\n",
    "        return table_out\n",
    "\n",
    "#paddle.summary(TableNet(),(128, 3, 1024, 1024))"
   ]
  },
  {
   "cell_type": "markdown",
   "metadata": {},
   "source": [
    "## 2.4. 训练"
   ]
  },
  {
   "cell_type": "code",
   "execution_count": 12,
   "metadata": {
    "execution": {
     "iopub.execute_input": "2023-03-01T03:57:30.076379Z",
     "iopub.status.busy": "2023-03-01T03:57:30.075903Z",
     "iopub.status.idle": "2023-03-01T03:57:30.986891Z",
     "shell.execute_reply": "2023-03-01T03:57:30.986046Z",
     "shell.execute_reply.started": "2023-03-01T03:57:30.076346Z"
    },
    "scrolled": true
   },
   "outputs": [
    {
     "name": "stdout",
     "output_type": "stream",
     "text": [
      "<class 'float'>\r\n"
     ]
    }
   ],
   "source": [
    "# import paddle\n",
    "# mse_loss = paddle.nn.loss.MSELoss()\n",
    "# input_ = paddle.to_tensor([1,1.2,1,1])\n",
    "# label = paddle.to_tensor([3.1,2,2,2])\n",
    "# print(input_,label)\n",
    "# output = paddle.nn.functional.mse_loss(input_, label)\n",
    "# print(output.item())\n",
    "import numpy as np\n",
    "a=[1,2.0]\n",
    "print(type(np.mean(a).item()))"
   ]
  },
  {
   "cell_type": "code",
   "execution_count": 13,
   "metadata": {
    "execution": {
     "iopub.execute_input": "2023-03-01T03:57:30.988912Z",
     "iopub.status.busy": "2023-03-01T03:57:30.988358Z",
     "iopub.status.idle": "2023-03-01T03:57:31.695690Z",
     "shell.execute_reply": "2023-03-01T03:57:31.694770Z",
     "shell.execute_reply.started": "2023-03-01T03:57:30.988881Z"
    },
    "scrolled": true
   },
   "outputs": [],
   "source": [
    "import matplotlib.pyplot as plt\n",
    "import numpy as np\n",
    "now_step=0\n",
    "class Runner():\n",
    "    def __init__(self,model,opt,train_dataloader,dev_dataloader):\n",
    "        self.now_step=0\n",
    "        self.train_loss=[]\n",
    "        self.dev_loss=[]\n",
    "        self.model=model\n",
    "        #self.loss_fn=loss_fn\n",
    "        self.opt=opt\n",
    "        self.train_dataloader=train_dataloader\n",
    "        self.dev_dataloader=dev_dataloader\n",
    "        self.least_loss=999999\n",
    "    def train_on_epoch(self):\n",
    "    \n",
    "        if 1:\n",
    "            try:\n",
    "                # 接续之前的模型重复训练\n",
    "                param_dict = paddle.load('./model.pdparams')\n",
    "                self.model.load_dict(param_dict)\n",
    "            except:\n",
    "                print('no such model file')\n",
    "        for step, data in enumerate(self.train_dataloader):\n",
    "            \n",
    "            img, label = data\n",
    "            pre = self.model(img)\n",
    "            # pre[pre>=0.3]=1\n",
    "            # pre[pre<0.3]=0\n",
    "            # pre=pre.transpose((0,2,3,1))\n",
    "            # pre = pre.numpy()\n",
    "            # prediction=[]\n",
    "            # for i in range(len(pre)):\n",
    "            #     pre_i=pre[i]\n",
    "            #     pre_i = cv2.cvtColor(pre_i,cv2.COLOR_RGB2GRAY)\n",
    "            #     plt.imshow(pre_i)\n",
    "            #     # print(pre_i.shape)\n",
    "            #     pre_i=cv2.goodFeaturesToTrack(pre_i,4,0.001,10)\n",
    "            #     # print(pre_i)\n",
    "            #     pre_i=paddle.to_tensor(pre_i,place=PLACE)\n",
    "            #     prediction.append(pre_i.reshape([8]))\n",
    "            # prediction=paddle.to_tensor(prediction,place=PLACE)\n",
    "            loss = paddle.nn.functional.mse_loss(pre, label)\n",
    "            self.train_loss.append(loss.item())\n",
    "            loss.backward()\n",
    "            self.opt.step()\n",
    "            self.opt.clear_gradients()\n",
    "            if self.now_step%10==0:\n",
    "                print(\"[Train]epoch: {}, batch: {}, loss is: {:.5f}\".format(epoch, self.now_step, loss.item()))\n",
    "            if self.now_step%20==0:\n",
    "                self.test_on_epoch()\n",
    "            self.now_step+=1\n",
    "\n",
    "    def test_on_epoch(self):\n",
    "        self.model.eval()\n",
    "        loss_sum=[]\n",
    "        with paddle.no_grad():\n",
    "            for step, data in enumerate(self.dev_dataloader):\n",
    "                img, label= data\n",
    "                pre = self.model(img)\n",
    "                \n",
    "                loss = paddle.nn.functional.mse_loss(pre, label)\n",
    "                loss_sum.append(loss.item())\n",
    "            loss_sum=np.mean(loss_sum)\n",
    "            self.dev_loss.append(loss_sum.item())\n",
    "            print(\"[Dev]epoch: {}, step: {}, dev_loss is: {:.5f}\".format(epoch, self.now_step, loss_sum.item()))\n",
    "            if loss_sum.item()<self.least_loss:                    \n",
    "                paddle.save(model.state_dict(), 'model.pdparams')\n",
    "                print('[Update]least loss has been updated: {:.5f}-->{:.5f}'.format(self.least_loss,loss_sum.item()))\n",
    "                self.least_loss=loss_sum.item()\n",
    "        self.model.train()\n",
    "    # 可视化\n",
    "    def plot_loss(self,fig_name='tableNet.pdf', fig_size=(8, 5), loss_legend_loc=\"upper right\"):\n",
    "        plt.figure(figsize=fig_size)\n",
    "        train_items =self.train_loss[::4]\n",
    "        train_steps=[x for x in range(len(train_items))]\n",
    "        train_losses = [x for x in train_items]\n",
    "        plt.plot(train_steps, train_losses, color='#e4007f', label=\"Train loss\")\n",
    "        dev_items =self.dev_loss[::2]\n",
    "        dev_steps=[x for x in range(len(dev_items))]\n",
    "        dev_losses = [x for x in dev_items]\n",
    "        plt.plot(dev_steps, dev_losses, color='#f19ec2', linestyle='--', label='Dev loss')\n",
    "        #绘制坐标轴和图例\n",
    "        plt.ylabel(\"loss\", fontsize='large')\n",
    "        plt.xlabel(\"step\", fontsize='large')\n",
    "        plt.legend(loc=loss_legend_loc, fontsize='x-large')\n",
    "        \n",
    "        plt.savefig(fig_name)\n",
    "        plt.show()"
   ]
  },
  {
   "cell_type": "code",
   "execution_count": 14,
   "metadata": {
    "execution": {
     "iopub.execute_input": "2023-03-01T03:57:31.697411Z",
     "iopub.status.busy": "2023-03-01T03:57:31.696830Z",
     "iopub.status.idle": "2023-03-01T04:15:49.002264Z",
     "shell.execute_reply": "2023-03-01T04:15:49.001273Z",
     "shell.execute_reply.started": "2023-03-01T03:57:31.697381Z"
    },
    "scrolled": true,
    "tags": []
   },
   "outputs": [
    {
     "name": "stderr",
     "output_type": "stream",
     "text": [
      "2023-03-01 11:57:33 INFO: unique_endpoints {''}\r\n",
      "2023-03-01 11:57:33 INFO: File /home/aistudio/.cache/paddle/hapi/weights/DenseNet121_pretrained.pdparams md5 checking...\r\n",
      "2023-03-01 11:57:33 INFO: Found /home/aistudio/.cache/paddle/hapi/weights/DenseNet121_pretrained.pdparams\r\n",
      "2023-03-01 11:57:33 INFO: unique_endpoints {''}\r\n",
      "2023-03-01 11:57:33 INFO: File /home/aistudio/.cache/paddle/hapi/weights/resnet101.pdparams md5 checking...\r\n",
      "2023-03-01 11:57:34 INFO: Found /home/aistudio/.cache/paddle/hapi/weights/resnet101.pdparams\r\n",
      "/opt/conda/envs/python35-paddle120-env/lib/python3.7/site-packages/paddle/nn/layer/norm.py:654: UserWarning: When training, we now always track global mean and variance.\r\n",
      "  \"When training, we now always track global mean and variance.\")\r\n"
     ]
    },
    {
     "name": "stdout",
     "output_type": "stream",
     "text": [
      "[Train]epoch: 0, batch: 0, loss is: 0.03040\r\n",
      "[Dev]epoch: 0, step: 0, dev_loss is: 0.83512\r\n",
      "[Update]least loss has been updated: 999999.00000-->0.83512\r\n",
      "[Train]epoch: 0, batch: 10, loss is: 0.04833\r\n",
      "[Train]epoch: 0, batch: 20, loss is: 0.01619\r\n",
      "[Dev]epoch: 0, step: 20, dev_loss is: 0.12162\r\n",
      "[Update]least loss has been updated: 0.83512-->0.12162\r\n",
      "[Train]epoch: 0, batch: 30, loss is: 0.01014\r\n",
      "[Train]epoch: 0, batch: 40, loss is: 0.00542\r\n",
      "[Dev]epoch: 0, step: 40, dev_loss is: 0.03589\r\n",
      "[Update]least loss has been updated: 0.12162-->0.03589\r\n",
      "[Train]epoch: 0, batch: 50, loss is: 0.00509\r\n",
      "[Train]epoch: 0, batch: 60, loss is: 0.00681\r\n",
      "[Dev]epoch: 0, step: 60, dev_loss is: 0.00771\r\n",
      "[Update]least loss has been updated: 0.03589-->0.00771\r\n",
      "[Train]epoch: 0, batch: 70, loss is: 0.00771\r\n",
      "[Train]epoch: 0, batch: 80, loss is: 0.00388\r\n",
      "[Dev]epoch: 0, step: 80, dev_loss is: 0.01427\r\n",
      "[Train]epoch: 1, batch: 90, loss is: 0.00495\r\n",
      "[Train]epoch: 1, batch: 100, loss is: 0.00552\r\n",
      "[Dev]epoch: 1, step: 100, dev_loss is: 0.01359\r\n",
      "[Train]epoch: 1, batch: 110, loss is: 0.00313\r\n",
      "[Train]epoch: 1, batch: 120, loss is: 0.00446\r\n",
      "[Dev]epoch: 1, step: 120, dev_loss is: 0.00694\r\n",
      "[Update]least loss has been updated: 0.00771-->0.00694\r\n",
      "[Train]epoch: 1, batch: 130, loss is: 0.00315\r\n",
      "[Train]epoch: 1, batch: 140, loss is: 0.00707\r\n",
      "[Dev]epoch: 1, step: 140, dev_loss is: 0.00934\r\n",
      "[Train]epoch: 1, batch: 150, loss is: 0.00380\r\n",
      "[Train]epoch: 1, batch: 160, loss is: 0.00558\r\n",
      "[Dev]epoch: 1, step: 160, dev_loss is: 0.00461\r\n",
      "[Update]least loss has been updated: 0.00694-->0.00461\r\n",
      "[Train]epoch: 1, batch: 170, loss is: 0.00811\r\n",
      "[Train]epoch: 2, batch: 180, loss is: 0.00279\r\n",
      "[Dev]epoch: 2, step: 180, dev_loss is: 0.00400\r\n",
      "[Update]least loss has been updated: 0.00461-->0.00400\r\n",
      "[Train]epoch: 2, batch: 190, loss is: 0.00613\r\n",
      "[Train]epoch: 2, batch: 200, loss is: 0.00782\r\n",
      "[Dev]epoch: 2, step: 200, dev_loss is: 0.00559\r\n",
      "[Train]epoch: 2, batch: 210, loss is: 0.00779\r\n",
      "[Train]epoch: 2, batch: 220, loss is: 0.00712\r\n",
      "[Dev]epoch: 2, step: 220, dev_loss is: 0.00825\r\n",
      "[Train]epoch: 2, batch: 230, loss is: 0.00499\r\n",
      "[Train]epoch: 2, batch: 240, loss is: 0.00837\r\n",
      "[Dev]epoch: 2, step: 240, dev_loss is: 0.00668\r\n",
      "[Train]epoch: 2, batch: 250, loss is: 0.00626\r\n",
      "[Train]epoch: 2, batch: 260, loss is: 0.00222\r\n",
      "[Dev]epoch: 2, step: 260, dev_loss is: 0.02419\r\n"
     ]
    }
   ],
   "source": [
    "model=TableNet()\n",
    "max_epoch=3\n",
    "opt = paddle.optimizer.Adam(learning_rate=0.001, beta1=0.9, beta2=0.999, parameters= model.parameters()) \n",
    "runner=Runner(model,opt,train_dataloader,dev_dataloader)\n",
    "for epoch in range(max_epoch):\n",
    "    runner.train_on_epoch()"
   ]
  },
  {
   "cell_type": "code",
   "execution_count": 15,
   "metadata": {
    "execution": {
     "iopub.execute_input": "2023-03-01T04:15:49.005644Z",
     "iopub.status.busy": "2023-03-01T04:15:49.005127Z",
     "iopub.status.idle": "2023-03-01T04:15:49.249223Z",
     "shell.execute_reply": "2023-03-01T04:15:49.248434Z",
     "shell.execute_reply.started": "2023-03-01T04:15:49.005607Z"
    },
    "scrolled": true
   },
   "outputs": [
    {
     "data": {
      "image/png": "[encoded data removed]",
      "text/plain": [
       "<Figure size 800x500 with 1 Axes>"
      ]
     },
     "metadata": {},
     "output_type": "display_data"
    }
   ],
   "source": [
    "runner.plot_loss()"
   ]
  },
  {
   "cell_type": "code",
   "execution_count": 16,
   "metadata": {
    "execution": {
     "iopub.execute_input": "2023-03-01T04:15:49.251015Z",
     "iopub.status.busy": "2023-03-01T04:15:49.250372Z",
     "iopub.status.idle": "2023-03-01T04:15:49.254827Z",
     "shell.execute_reply": "2023-03-01T04:15:49.254180Z",
     "shell.execute_reply.started": "2023-03-01T04:15:49.250979Z"
    },
    "scrolled": true,
    "tags": []
   },
   "outputs": [],
   "source": [
    "# #from utils.metrics import compute_metrics\n",
    "# model = TableNet()\n",
    "# #print('here 3')\n",
    "# model.train()\n",
    "\n",
    "# if 1:\n",
    "#     try:\n",
    "#         # 接续之前的模型重复训练\n",
    "#         param_dict = paddle.load('./model.pdparams')\n",
    "#         model.load_dict(param_dict)\n",
    "#     except:\n",
    "#         print('no such model file')\n",
    "\n",
    "# train_dataset=MyDateset()\n",
    "# train_dataloader = paddle.io.DataLoader(\n",
    "#     train_dataset,\n",
    "#     batch_size=100,\n",
    "#     shuffle=True,\n",
    "#     drop_last=False)\n",
    "\n",
    "# max_epoch=10\n",
    "# # scheduler = paddle.optimizer.lr.CosineAnnealingDecay(learning_rate=0.01, T_max=max_epoch)\n",
    "# opt = paddle.optimizer.Adam(learning_rate=0.1, beta1=0.9, beta2=0.999, parameters= model.parameters()) \n",
    "# now_step=0\n",
    "# table_loss=[]\n",
    "# for epoch in range(max_epoch):\n",
    "#     for step, data in enumerate(train_dataloader):\n",
    "#         now_step+=1\n",
    "\n",
    "#         img, label = data\n",
    "#         pre = model(img)\n",
    "#         loss = paddle.nn.functional.mse_loss(pre, label).mean()\n",
    "#         table_loss.append(loss.item())\n",
    "#         loss.backward()\n",
    "#         opt.step()\n",
    "#         opt.clear_gradients()\n",
    "#         if now_step%20==0:\n",
    "#             print(\"epoch: {}, batch: {}, loss is: {}\".format(epoch, step, loss.mean().numpy()))\n",
    "\n",
    "# paddle.save(model.state_dict(), 'model.pdparams')"
   ]
  },
  {
   "cell_type": "code",
   "execution_count": 17,
   "metadata": {
    "execution": {
     "iopub.execute_input": "2023-03-01T04:15:49.256315Z",
     "iopub.status.busy": "2023-03-01T04:15:49.255763Z",
     "iopub.status.idle": "2023-03-01T04:15:49.260886Z",
     "shell.execute_reply": "2023-03-01T04:15:49.260256Z",
     "shell.execute_reply.started": "2023-03-01T04:15:49.256287Z"
    },
    "scrolled": true
   },
   "outputs": [],
   "source": [
    "# paddle.save(model.state_dict(), 'model.pdparams')"
   ]
  },
  {
   "cell_type": "markdown",
   "metadata": {},
   "source": [
    "## 2.5. 保存"
   ]
  },
  {
   "cell_type": "code",
   "execution_count": 18,
   "metadata": {
    "execution": {
     "iopub.execute_input": "2023-03-01T04:15:49.261980Z",
     "iopub.status.busy": "2023-03-01T04:15:49.261734Z",
     "iopub.status.idle": "2023-03-01T04:15:59.359484Z",
     "shell.execute_reply": "2023-03-01T04:15:59.358433Z",
     "shell.execute_reply.started": "2023-03-01T04:15:49.261947Z"
    },
    "scrolled": true
   },
   "outputs": [
    {
     "name": "stderr",
     "output_type": "stream",
     "text": [
      "2023-03-01 12:15:49 INFO: unique_endpoints {''}\r\n",
      "2023-03-01 12:15:49 INFO: File /home/aistudio/.cache/paddle/hapi/weights/DenseNet121_pretrained.pdparams md5 checking...\r\n",
      "2023-03-01 12:15:49 INFO: Found /home/aistudio/.cache/paddle/hapi/weights/DenseNet121_pretrained.pdparams\r\n",
      "2023-03-01 12:15:49 INFO: unique_endpoints {''}\r\n",
      "2023-03-01 12:15:49 INFO: File /home/aistudio/.cache/paddle/hapi/weights/resnet101.pdparams md5 checking...\r\n",
      "2023-03-01 12:15:50 INFO: Found /home/aistudio/.cache/paddle/hapi/weights/resnet101.pdparams\r\n",
      "/opt/conda/envs/python35-paddle120-env/lib/python3.7/site-packages/paddle/fluid/layers/math_op_patch.py:341: UserWarning: /opt/conda/envs/python35-paddle120-env/lib/python3.7/site-packages/paddle/vision/models/resnet.py:167\r\n",
      "The behavior of expression A + B has been unified with elementwise_add(X, Y, axis=-1) from Paddle 2.0. If your code works well in the older versions but crashes in this version, try to use elementwise_add(X, Y, axis=0) instead of A + B. This transitional warning will be dropped in the future.\r\n",
      "  op_type, op_type, EXPRESSION_MAP[method_name]))\r\n"
     ]
    }
   ],
   "source": [
    "# 保存\n",
    "model = TableNet()\n",
    "param_dict = paddle.load('./model.pdparams')\n",
    "model.load_dict(param_dict)\n",
    "model.eval()\n",
    "\n",
    "paddle.jit.save(\n",
    "    layer=model,\n",
    "    path='mymodel/model',\n",
    "    input_spec=[paddle.static.InputSpec(shape=[None, 3, 1024, 1024], dtype='float32')])"
   ]
  },
  {
   "cell_type": "markdown",
   "metadata": {},
   "source": [
    "## 2.6. 准备predict.py文件\n",
    "\n",
    "predict.py文件内容如下\n",
    "\n",
    "```\n",
    "# 代码示例\n",
    "# python predict.py [src_image_dir] [results]\n",
    "\n",
    "import os\n",
    "import sys\n",
    "import glob\n",
    "import json\n",
    "import cv2\n",
    "import paddle\n",
    "\n",
    "\n",
    "def process(src_image_dir, save_dir):\n",
    "    # load\n",
    "    model = paddle.jit.load('./mymodel/model')\n",
    "    model.eval()\n",
    "\n",
    "    image_paths = glob.glob(os.path.join(src_image_dir, \"*.jpg\"))\n",
    "    result = {}\n",
    "    for image_path in image_paths:\n",
    "        filename = os.path.split(image_path)[1]\n",
    "        # do something\n",
    "        img = cv2.imread(image_path)\n",
    "        # get img infor\n",
    "        h, w, c = img.shape\n",
    "        # pre-process of img\n",
    "        img = paddle.vision.transforms.resize(img, (512,512), interpolation='bilinear')\n",
    "        img = img.transpose((2,0,1))\n",
    "        img = img/255\n",
    "        img = paddle.to_tensor(img).astype('float32')\n",
    "        img = paddle.reshape(img, [1]+img.shape)\n",
    "\n",
    "        pre = model(img)\n",
    "        pre = pre[0]\n",
    "        pre[pre>1]=1\n",
    "        pre[pre<0]=0\n",
    "        pre = pre.tolist()\n",
    "        x1, y1, x2, y2, x3, y3, x4, y4 = pre\n",
    "        x1, x2, x3, x4 = [int(x*w) for x in [x1, x2, x3, x4]]\n",
    "        y1, y2, y3, y4 = [int(y*h) for y in [y1, y2, y3, y4]]\n",
    "\n",
    "        xmin = min(x1,x2,x3,x4)\n",
    "        xmax = max(x1,x2,x3,x4)\n",
    "        ymin = min(y1,y2,y3,y4)\n",
    "        ymax = max(y1,y2,y3,y4)\n",
    "\n",
    "        if filename not in result:\n",
    "            result[filename] = []\n",
    "        result[filename].append({\n",
    "            \"box\": [xmin, ymin, xmax, ymax],\n",
    "            \"lb\": [x1, y1],\n",
    "            \"lt\": [x2, y2],\n",
    "            \"rt\": [x3, y3],\n",
    "            \"rb\": [x4, y4],\n",
    "        })\n",
    "    with open(os.path.join(save_dir, \"result.txt\"), 'w', encoding=\"utf-8\") as f:\n",
    "        f.write(json.dumps(result))\n",
    "\n",
    "\n",
    "if __name__ == \"__main__\":\n",
    "    assert len(sys.argv) == 3\n",
    "\n",
    "    src_image_dir = sys.argv[1]\n",
    "    save_dir = sys.argv[2]\n",
    "\n",
    "    if not os.path.exists(save_dir):\n",
    "        os.makedirs(save_dir)\n",
    "\n",
    "    process(src_image_dir, save_dir)\n",
    "```"
   ]
  },
  {
   "cell_type": "code",
   "execution_count": 19,
   "metadata": {
    "execution": {
     "iopub.execute_input": "2023-03-01T04:15:59.361004Z",
     "iopub.status.busy": "2023-03-01T04:15:59.360687Z",
     "iopub.status.idle": "2023-03-01T04:16:11.001686Z",
     "shell.execute_reply": "2023-03-01T04:16:11.000479Z",
     "shell.execute_reply.started": "2023-03-01T04:15:59.360973Z"
    },
    "scrolled": true
   },
   "outputs": [
    {
     "name": "stdout",
     "output_type": "stream",
     "text": [
      "2023-03-01 12:16:01 INFO: Loading faiss with AVX2 support.\r\n",
      "2023-03-01 12:16:01 INFO: Could not load library with AVX2 support due to:\r\n",
      "ModuleNotFoundError(\"No module named 'faiss.swigfaiss_avx2'\")\r\n",
      "2023-03-01 12:16:01 INFO: Loading faiss.\r\n",
      "2023-03-01 12:16:01 INFO: Successfully loaded faiss.\r\n"
     ]
    }
   ],
   "source": [
    "# 运行代码查看预测结果\n",
    "! python predict.py pubtest/imgs test_A_result"
   ]
  },
  {
   "cell_type": "markdown",
   "metadata": {},
   "source": [
    "## 2.7. 打包提交"
   ]
  },
  {
   "cell_type": "code",
   "execution_count": 20,
   "metadata": {
    "execution": {
     "iopub.execute_input": "2023-03-01T04:16:11.003806Z",
     "iopub.status.busy": "2023-03-01T04:16:11.003277Z",
     "iopub.status.idle": "2023-03-01T04:16:22.323039Z",
     "shell.execute_reply": "2023-03-01T04:16:22.321980Z",
     "shell.execute_reply.started": "2023-03-01T04:16:11.003769Z"
    },
    "scrolled": true,
    "tags": []
   },
   "outputs": [
    {
     "name": "stdout",
     "output_type": "stream",
     "text": [
      "updating: predict.py (deflated 59%)\r\n",
      "updating: mymodel/ (stored 0%)\r\n",
      "updating: mymodel/model.pdmodel (deflated 98%)\r\n",
      "updating: mymodel/model.pdiparams.info (deflated 85%)\r\n",
      "updating: mymodel/model.pdiparams (deflated 7%)\r\n"
     ]
    }
   ],
   "source": [
    "! zip -r submit.zip predict.py mymodel"
   ]
  },
  {
   "cell_type": "markdown",
   "metadata": {},
   "source": [
    "# 3. 总结\n",
    "\n",
    "本项目先用TableNet分析出特征图，即每个像素属于表格内、表格外的概率，然后用resnet101回归，学习到四个角点的坐标。在predict.py文件中，根据图片对结果进行了旋转。\n",
    "\n",
    "检测模型具体可以参考[百度网盘AI大赛——表格检测进阶：表格的结构化 Baseline](https://aistudio.baidu.com/aistudio/projectdetail/5234267)"
   ]
  },
  {
   "cell_type": "markdown",
   "metadata": {},
   "source": [
    "请点击[此处](https://ai.baidu.com/docs#/AIStudio_Project_Notebook/a38e5576)查看本环境基本用法.  <br>\n",
    "Please click [here ](https://ai.baidu.com/docs#/AIStudio_Project_Notebook/a38e5576) for more detailed instructions. "
   ]
  }
 ],
 "metadata": {
  "kernelspec": {
   "display_name": "Python 3",
   "language": "python",
   "name": "py35-paddle1.2.0"
  },
  "language_info": {
   "codemirror_mode": {
    "name": "ipython",
    "version": 3
   },
   "file_extension": ".py",
   "mimetype": "text/x-python",
   "name": "python",
   "nbconvert_exporter": "python",
   "pygments_lexer": "ipython3",
   "version": "3.7.4"
  }
 },
 "nbformat": 4,
 "nbformat_minor": 4
}

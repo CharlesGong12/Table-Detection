{
 "cells": [
  {
   "cell_type": "markdown",
   "metadata": {},
   "source": [
    "# 百度网盘AI大赛——表格检测\n",
    "\n",
    "基于TableNet得到表格的四个拐角坐标，本项目附带一个可以直接提交的样例。\n",
    "\n",
    "[比赛链接](https://aistudio.baidu.com/aistudio/competition/detail/702/0/introduction)\n",
    "\n",
    "# 1. 比赛介绍\n",
    "\n",
    "生活中，扫描技术越来越常见，通过手机就能将图片转化为可编辑的文档等；但是现在的技术在处理带有表格类型的文字的时候往往没有那么灵敏，把完整表格拆分成难以使用的零散个体似乎很常见又令人苦恼。本次比赛旨在解决这个问题，通过万能的算法，准确地识别表格在图片中的位置并标注。\n",
    "\n",
    "## 1.1. 数据介绍\n",
    "本次比赛最新发布的数据集共包含训练集、A榜测试集、B榜测试集三个部分，其中训练集共10000张图片，A榜测试集共500张图片，B榜测试集500张图片；imgs目录下为所有训练图片；annos.txt 为标注文件，json格式，格式示例如下:\n",
    "\n",
    "```\n",
    "{\n",
    "    \"a.jpg\": [  # 图片文件名称\n",
    "        {\n",
    "            'box': [xmin, ymin, xmax,ymax],  # 表格box位置，(xmin, ymin)为box左上点，(xmax, ymax)为box右下点\n",
    "            'lb': [x, y],  # 表格left bottom点，即左下顶点\n",
    "            'lt': [x, y],  # 表格left top点，即左上顶点\n",
    "            'rt': [x, y],  # 表格right top点，即右上顶点\n",
    "            'rb': [x, y]  # 表格right bottom点，即右下顶点\n",
    "        }],\n",
    "    \n",
    "    \"b.jpg\": [{\n",
    "        'box': [xmin, ymin, xmax, ymax],\n",
    "        'lb': [x, y],\n",
    "        'lt': [x, y],\n",
    "        'rt': [x, y],\n",
    "        'rb': [x, y]\n",
    "    }]\n",
    "}\n",
    "```\n",
    "\n",
    "## 1.2. 赛题分析\n",
    "\n",
    "先用TableNet分析出各像素点属于表格内或外的概率，然后用resnet101回归得到四个角点的坐标。\n",
    "\n",
    "# 2. 代码"
   ]
  },
  {
   "cell_type": "markdown",
   "metadata": {},
   "source": [
    "## 2.1. 准备数据"
   ]
  },
  {
   "cell_type": "code",
   "execution_count": 1,
   "metadata": {
    "collapsed": false,
    "execution": {
     "iopub.execute_input": "2023-02-26T13:25:01.989763Z",
     "iopub.status.busy": "2023-02-26T13:25:01.989449Z",
     "iopub.status.idle": "2023-02-26T13:25:39.147436Z",
     "shell.execute_reply": "2023-02-26T13:25:39.146355Z",
     "shell.execute_reply.started": "2023-02-26T13:25:01.989738Z"
    },
    "jupyter": {
     "outputs_hidden": false
    },
    "scrolled": true,
    "tags": []
   },
   "outputs": [],
   "source": [
    "! unzip -oq data/data182385/train.zip\n",
    "! unzip -oq data/data182385/testA.zip"
   ]
  },
  {
   "cell_type": "code",
   "execution_count": 2,
   "metadata": {
    "execution": {
     "iopub.execute_input": "2023-02-26T13:25:39.149215Z",
     "iopub.status.busy": "2023-02-26T13:25:39.148810Z",
     "iopub.status.idle": "2023-02-26T13:25:41.425200Z",
     "shell.execute_reply": "2023-02-26T13:25:41.424174Z",
     "shell.execute_reply.started": "2023-02-26T13:25:39.149188Z"
    },
    "scrolled": true
   },
   "outputs": [
    {
     "name": "stdout",
     "output_type": "stream",
     "text": [
      "Looking in indexes: https://pypi.tuna.tsinghua.edu.cn/simple\r\n",
      "Requirement already satisfied: paddleclas in /opt/conda/envs/python35-paddle120-env/lib/python3.7/site-packages (2.5.1)\r\n",
      "Requirement already satisfied: prettytable in /opt/conda/envs/python35-paddle120-env/lib/python3.7/site-packages (from paddleclas) (0.7.2)\r\n",
      "Requirement already satisfied: scikit-learn>=0.21.0 in /opt/conda/envs/python35-paddle120-env/lib/python3.7/site-packages (from paddleclas) (0.24.2)\r\n",
      "Requirement already satisfied: visualdl>=2.2.0 in /opt/conda/envs/python35-paddle120-env/lib/python3.7/site-packages (from paddleclas) (2.4.0)\r\n",
      "Requirement already satisfied: tqdm in /opt/conda/envs/python35-paddle120-env/lib/python3.7/site-packages (from paddleclas) (4.64.1)\r\n",
      "Requirement already satisfied: faiss-cpu==1.7.1.post2 in /opt/conda/envs/python35-paddle120-env/lib/python3.7/site-packages (from paddleclas) (1.7.1.post2)\r\n",
      "Requirement already satisfied: pillow in /opt/conda/envs/python35-paddle120-env/lib/python3.7/site-packages (from paddleclas) (8.2.0)\r\n",
      "Requirement already satisfied: easydict in /opt/conda/envs/python35-paddle120-env/lib/python3.7/site-packages (from paddleclas) (1.9)\r\n",
      "Requirement already satisfied: opencv-python in /opt/conda/envs/python35-paddle120-env/lib/python3.7/site-packages (from paddleclas) (4.6.0.66)\r\n",
      "Requirement already satisfied: ujson in /opt/conda/envs/python35-paddle120-env/lib/python3.7/site-packages (from paddleclas) (1.35)\r\n",
      "Requirement already satisfied: PyYAML>=5.1 in /opt/conda/envs/python35-paddle120-env/lib/python3.7/site-packages (from paddleclas) (5.1.2)\r\n",
      "Requirement already satisfied: scipy>=1.0.0 in /opt/conda/envs/python35-paddle120-env/lib/python3.7/site-packages (from paddleclas) (1.6.3)\r\n",
      "Requirement already satisfied: gast==0.3.3 in /opt/conda/envs/python35-paddle120-env/lib/python3.7/site-packages (from paddleclas) (0.3.3)\r\n",
      "Requirement already satisfied: numpy>=1.13.3 in /opt/conda/envs/python35-paddle120-env/lib/python3.7/site-packages (from scikit-learn>=0.21.0->paddleclas) (1.19.5)\r\n",
      "Requirement already satisfied: joblib>=0.11 in /opt/conda/envs/python35-paddle120-env/lib/python3.7/site-packages (from scikit-learn>=0.21.0->paddleclas) (0.14.1)\r\n",
      "Requirement already satisfied: threadpoolctl>=2.0.0 in /opt/conda/envs/python35-paddle120-env/lib/python3.7/site-packages (from scikit-learn>=0.21.0->paddleclas) (2.1.0)\r\n",
      "Requirement already satisfied: flask>=1.1.1 in /opt/conda/envs/python35-paddle120-env/lib/python3.7/site-packages (from visualdl>=2.2.0->paddleclas) (1.1.1)\r\n",
      "Requirement already satisfied: bce-python-sdk in /opt/conda/envs/python35-paddle120-env/lib/python3.7/site-packages (from visualdl>=2.2.0->paddleclas) (0.8.53)\r\n",
      "Requirement already satisfied: protobuf>=3.11.0 in /opt/conda/envs/python35-paddle120-env/lib/python3.7/site-packages (from visualdl>=2.2.0->paddleclas) (3.20.0)\r\n",
      "Requirement already satisfied: pandas in /opt/conda/envs/python35-paddle120-env/lib/python3.7/site-packages (from visualdl>=2.2.0->paddleclas) (1.1.5)\r\n",
      "Requirement already satisfied: six>=1.14.0 in /opt/conda/envs/python35-paddle120-env/lib/python3.7/site-packages (from visualdl>=2.2.0->paddleclas) (1.16.0)\r\n",
      "Requirement already satisfied: Flask-Babel>=1.0.0 in /opt/conda/envs/python35-paddle120-env/lib/python3.7/site-packages (from visualdl>=2.2.0->paddleclas) (1.0.0)\r\n",
      "Requirement already satisfied: requests in /opt/conda/envs/python35-paddle120-env/lib/python3.7/site-packages (from visualdl>=2.2.0->paddleclas) (2.24.0)\r\n",
      "Requirement already satisfied: matplotlib in /opt/conda/envs/python35-paddle120-env/lib/python3.7/site-packages (from visualdl>=2.2.0->paddleclas) (2.2.3)\r\n",
      "Requirement already satisfied: Werkzeug>=0.15 in /opt/conda/envs/python35-paddle120-env/lib/python3.7/site-packages (from flask>=1.1.1->visualdl>=2.2.0->paddleclas) (0.16.0)\r\n",
      "Requirement already satisfied: Jinja2>=2.10.1 in /opt/conda/envs/python35-paddle120-env/lib/python3.7/site-packages (from flask>=1.1.1->visualdl>=2.2.0->paddleclas) (3.0.0)\r\n",
      "Requirement already satisfied: itsdangerous>=0.24 in /opt/conda/envs/python35-paddle120-env/lib/python3.7/site-packages (from flask>=1.1.1->visualdl>=2.2.0->paddleclas) (1.1.0)\r\n",
      "Requirement already satisfied: click>=5.1 in /opt/conda/envs/python35-paddle120-env/lib/python3.7/site-packages (from flask>=1.1.1->visualdl>=2.2.0->paddleclas) (8.0.4)\r\n",
      "Requirement already satisfied: pytz in /opt/conda/envs/python35-paddle120-env/lib/python3.7/site-packages (from Flask-Babel>=1.0.0->visualdl>=2.2.0->paddleclas) (2019.3)\r\n",
      "Requirement already satisfied: Babel>=2.3 in /opt/conda/envs/python35-paddle120-env/lib/python3.7/site-packages (from Flask-Babel>=1.0.0->visualdl>=2.2.0->paddleclas) (2.8.0)\r\n",
      "Requirement already satisfied: pycryptodome>=3.8.0 in /opt/conda/envs/python35-paddle120-env/lib/python3.7/site-packages (from bce-python-sdk->visualdl>=2.2.0->paddleclas) (3.9.9)\r\n",
      "Requirement already satisfied: future>=0.6.0 in /opt/conda/envs/python35-paddle120-env/lib/python3.7/site-packages (from bce-python-sdk->visualdl>=2.2.0->paddleclas) (0.18.0)\r\n",
      "Requirement already satisfied: kiwisolver>=1.0.1 in /opt/conda/envs/python35-paddle120-env/lib/python3.7/site-packages (from matplotlib->visualdl>=2.2.0->paddleclas) (1.1.0)\r\n",
      "Requirement already satisfied: cycler>=0.10 in /opt/conda/envs/python35-paddle120-env/lib/python3.7/site-packages (from matplotlib->visualdl>=2.2.0->paddleclas) (0.10.0)\r\n",
      "Requirement already satisfied: python-dateutil>=2.1 in /opt/conda/envs/python35-paddle120-env/lib/python3.7/site-packages (from matplotlib->visualdl>=2.2.0->paddleclas) (2.8.2)\r\n",
      "Requirement already satisfied: pyparsing!=2.0.4,!=2.1.2,!=2.1.6,>=2.0.1 in /opt/conda/envs/python35-paddle120-env/lib/python3.7/site-packages (from matplotlib->visualdl>=2.2.0->paddleclas) (3.0.9)\r\n",
      "Requirement already satisfied: urllib3!=1.25.0,!=1.25.1,<1.26,>=1.21.1 in /opt/conda/envs/python35-paddle120-env/lib/python3.7/site-packages (from requests->visualdl>=2.2.0->paddleclas) (1.25.6)\r\n",
      "Requirement already satisfied: chardet<4,>=3.0.2 in /opt/conda/envs/python35-paddle120-env/lib/python3.7/site-packages (from requests->visualdl>=2.2.0->paddleclas) (3.0.4)\r\n",
      "Requirement already satisfied: certifi>=2017.4.17 in /opt/conda/envs/python35-paddle120-env/lib/python3.7/site-packages (from requests->visualdl>=2.2.0->paddleclas) (2019.9.11)\r\n",
      "Requirement already satisfied: idna<3,>=2.5 in /opt/conda/envs/python35-paddle120-env/lib/python3.7/site-packages (from requests->visualdl>=2.2.0->paddleclas) (2.8)\r\n",
      "Requirement already satisfied: importlib-metadata in /opt/conda/envs/python35-paddle120-env/lib/python3.7/site-packages (from click>=5.1->flask>=1.1.1->visualdl>=2.2.0->paddleclas) (4.2.0)\r\n",
      "Requirement already satisfied: MarkupSafe>=2.0.0rc2 in /opt/conda/envs/python35-paddle120-env/lib/python3.7/site-packages (from Jinja2>=2.10.1->flask>=1.1.1->visualdl>=2.2.0->paddleclas) (2.0.1)\r\n",
      "Requirement already satisfied: setuptools in /opt/conda/envs/python35-paddle120-env/lib/python3.7/site-packages (from kiwisolver>=1.0.1->matplotlib->visualdl>=2.2.0->paddleclas) (56.2.0)\r\n",
      "Requirement already satisfied: zipp>=0.5 in /opt/conda/envs/python35-paddle120-env/lib/python3.7/site-packages (from importlib-metadata->click>=5.1->flask>=1.1.1->visualdl>=2.2.0->paddleclas) (3.8.1)\r\n",
      "Requirement already satisfied: typing-extensions>=3.6.4 in /opt/conda/envs/python35-paddle120-env/lib/python3.7/site-packages (from importlib-metadata->click>=5.1->flask>=1.1.1->visualdl>=2.2.0->paddleclas) (4.3.0)\r\n",
      "\r\n",
      "\u001b[1m[\u001b[0m\u001b[34;49mnotice\u001b[0m\u001b[1;39;49m]\u001b[0m\u001b[39;49m A new release of pip available: \u001b[0m\u001b[31;49m22.1.2\u001b[0m\u001b[39;49m -> \u001b[0m\u001b[32;49m23.0.1\u001b[0m\r\n",
      "\u001b[1m[\u001b[0m\u001b[34;49mnotice\u001b[0m\u001b[1;39;49m]\u001b[0m\u001b[39;49m To update, run: \u001b[0m\u001b[32;49mpip install --upgrade pip\u001b[0m\r\n"
     ]
    }
   ],
   "source": [
    "! pip3 install paddleclas"
   ]
  },
  {
   "cell_type": "markdown",
   "metadata": {},
   "source": [
    "## 2.2. 创建数据读取器"
   ]
  },
  {
   "cell_type": "code",
   "execution_count": 3,
   "metadata": {
    "execution": {
     "iopub.execute_input": "2023-02-26T13:25:41.427041Z",
     "iopub.status.busy": "2023-02-26T13:25:41.426645Z",
     "iopub.status.idle": "2023-02-26T13:25:42.930422Z",
     "shell.execute_reply": "2023-02-26T13:25:42.929620Z",
     "shell.execute_reply.started": "2023-02-26T13:25:41.427014Z"
    },
    "scrolled": true
   },
   "outputs": [
    {
     "name": "stdout",
     "output_type": "stream",
     "text": [
      "gpu:0\r\n"
     ]
    },
    {
     "data": {
      "text/plain": [
       "Place(gpu:0)"
      ]
     },
     "execution_count": 3,
     "metadata": {},
     "output_type": "execute_result"
    }
   ],
   "source": [
    "import sys\n",
    "sys.path.append('/home/aistudio/work/external-libraries')\n",
    "import os\n",
    "os.environ['FLAGS_eager_delete_tensor_gb'] = '0.0'\n",
    "\n",
    "import paddle\n",
    "# 设置CUDA训练\n",
    "PLACE = paddle.CUDAPlace(0)\n",
    "print(paddle.device.get_device())\n",
    "paddle.device.set_device('gpu:0')"
   ]
  },
  {
   "cell_type": "code",
   "execution_count": 4,
   "metadata": {
    "execution": {
     "iopub.execute_input": "2023-02-26T13:25:42.932137Z",
     "iopub.status.busy": "2023-02-26T13:25:42.931582Z",
     "iopub.status.idle": "2023-02-26T13:25:45.191328Z",
     "shell.execute_reply": "2023-02-26T13:25:45.190535Z",
     "shell.execute_reply.started": "2023-02-26T13:25:42.932107Z"
    },
    "scrolled": true,
    "tags": []
   },
   "outputs": [
    {
     "name": "stderr",
     "output_type": "stream",
     "text": [
      "W0226 21:25:44.109860  9244 gpu_resources.cc:61] Please NOTE: device: 0, GPU Compute Capability: 7.0, Driver API Version: 11.2, Runtime API Version: 11.2\r\n",
      "W0226 21:25:44.113576  9244 gpu_resources.cc:91] device: 0, cuDNN Version: 8.2.\r\n"
     ]
    },
    {
     "name": "stdout",
     "output_type": "stream",
     "text": [
      "0 [48, 3, 224, 224] [48, 8]\r\n",
      "Tensor(shape=[48, 8], dtype=float32, place=Place(gpu:0), stop_gradient=True,\r\n",
      "       [[0.39393941, 0.98885792, 0.12405303, 0.84215415, 0.59659094, 0.00649954,\r\n",
      "         0.86647725, 0.15320334],\r\n",
      "        [0.33703330, 0.98828542, 0.21695258, 0.92332268, 0.65792131, 0.00958466,\r\n",
      "         0.77800202, 0.07454739],\r\n",
      "        [0.47801682, 0.99062794, 0.41627690, 0.98500466, 0.51917678, 0.00937207,\r\n",
      "         0.57998127, 0.01593252],\r\n",
      "        [0.29637307, 0.99413019, 0.04352332, 0.75987196, 0.70362693, 0.00533618,\r\n",
      "         0.95647669, 0.23906083],\r\n",
      "        [0.25475842, 0.98347110, 0.08199122, 0.79669422, 0.74816984, 0.01652892,\r\n",
      "         0.92093706, 0.20495868],\r\n",
      "        [0.56246758, 0.99431229, 0.39813375, 0.98862463, 0.43286678, 0.00465357,\r\n",
      "         0.59720063, 0.01034126],\r\n",
      "        [0.03186022, 0.98119122, 0.00565262, 0.52978057, 0.96916753, 0.01253918,\r\n",
      "         0.99537516, 0.46238244],\r\n",
      "        [0.19940180, 0.98927295, 0.03788634, 0.75208580, 0.80059820, 0.01311085,\r\n",
      "         0.96111667, 0.25148988],\r\n",
      "        [0.08173077, 0.98805648, 0.02884615, 0.79153097, 0.91526443, 0.00977199,\r\n",
      "         0.96875000, 0.20738328],\r\n",
      "        [0.19424461, 0.99204892, 0.00565262, 0.67155963, 0.80678314, 0.00428135,\r\n",
      "         0.99537516, 0.32415903],\r\n",
      "        [0.55958551, 0.99467570, 0.16891192, 0.89012587, 0.44093263, 0.00435624,\r\n",
      "         0.83108807, 0.10890610],\r\n",
      "        [0.18044722, 0.99417853, 0.03640145, 0.76584733, 0.81695271, 0.00711514,\r\n",
      "         0.96047843, 0.23609315],\r\n",
      "        [0.17255718, 0.99288946, 0.01039501, 0.69424695, 0.83108109, 0.00581771,\r\n",
      "         0.99324322, 0.30510667],\r\n",
      "        [0.39378238, 0.99475616, 0.23626943, 0.93025696, 0.60569948, 0.00471945,\r\n",
      "         0.76321244, 0.06921867],\r\n",
      "        [0.58099174, 0.99043059, 0.28016528, 0.94976079, 0.41735536, 0.00637959,\r\n",
      "         0.71900827, 0.04704944],\r\n",
      "        [0.13201663, 0.99083269, 0.06029106, 0.84110010, 0.87110186, 0.00611154,\r\n",
      "         0.94282746, 0.15660810],\r\n",
      "        [0.48307291, 0.98576975, 0.39713541, 0.97542042, 0.51692706, 0.01164295,\r\n",
      "         0.60156250, 0.02199224],\r\n",
      "        [0.58647799, 0.99215072, 0.40801886, 0.99215072, 0.40801886, 0.00784929,\r\n",
      "         0.58647799, 0.00784929],\r\n",
      "        [0.04334677, 0.98472387, 0.00302419, 0.31962398, 0.95312500, 0.00822562,\r\n",
      "         0.99294353, 0.67332548],\r\n",
      "        [0.27810651, 0.98797816, 0.14792900, 0.88306010, 0.72090727, 0.00983607,\r\n",
      "         0.85108483, 0.11475410],\r\n",
      "        [0.09679116, 0.99025685, 0.04523935, 0.83968115, 0.90110469, 0.00797166,\r\n",
      "         0.95265651, 0.15854739],\r\n",
      "        [0.23867069, 0.96515679, 0.09365559, 0.79790938, 0.75528699, 0.03484321,\r\n",
      "         0.90030211, 0.20209059],\r\n",
      "        [0.15630551, 0.99040765, 0.07933689, 0.86650681, 0.83836591, 0.00639488,\r\n",
      "         0.91533452, 0.13029577],\r\n",
      "        [0.17115769, 0.99098521, 0.00399202, 0.61687058, 0.82684630, 0.00386349,\r\n",
      "         0.99401200, 0.37797812],\r\n",
      "        [0.22100884, 0.99576014, 0.06552262, 0.80860084, 0.77743107, 0.00787402,\r\n",
      "         0.93291730, 0.19563900],\r\n",
      "        [0.07487310, 0.98714954, 0.01395939, 0.72196263, 0.92449236, 0.01051402,\r\n",
      "         0.98540610, 0.27570093],\r\n",
      "        [0.20105819, 0.40823412, 0.20866401, 0.21031746, 0.68915343, 0.20858134,\r\n",
      "         0.69510579, 0.40674603],\r\n",
      "        [0.00777706, 0.95154184, 0.00583279, 0.15418503, 0.99092674, 0.03964758,\r\n",
      "         0.99287105, 0.83700442],\r\n",
      "        [0.15167683, 0.98976457, 0.03734756, 0.77072674, 0.84603661, 0.01023541,\r\n",
      "         0.96036583, 0.22927329],\r\n",
      "        [0.47031251, 0.99590582, 0.28749999, 0.95087004, 0.52708334, 0.00614125,\r\n",
      "         0.70989585, 0.05117707],\r\n",
      "        [0.22859025, 0.98919755, 0.14163373, 0.90740740, 0.76613969, 0.00462963,\r\n",
      "         0.85243744, 0.08719136],\r\n",
      "        [0.48594630, 0.99381191, 0.36227357, 0.97400987, 0.51717675, 0.00618812,\r\n",
      "         0.64084947, 0.02537129],\r\n",
      "        [0.24836601, 0.98636365, 0.14509805, 0.88939393, 0.75424838, 0.01666667,\r\n",
      "         0.85751635, 0.11515152],\r\n",
      "        [0.15808383, 0.98181820, 0.01197605, 0.54876035, 0.84191614, 0.01487603,\r\n",
      "         0.98802394, 0.44793388],\r\n",
      "        [0.06353306, 0.98870635, 0.00413223, 0.64579058, 0.93388432, 0.00924025,\r\n",
      "         0.99328512, 0.35215604],\r\n",
      "        [0.10093897, 0.98046875, 0.00704225, 0.55468750, 0.89084506, 0.01953125,\r\n",
      "         0.98474181, 0.44531250],\r\n",
      "        [0.21538462, 0.95955884, 0.08000000, 0.77941179, 0.76923078, 0.03308824,\r\n",
      "         0.90769231, 0.21691176],\r\n",
      "        [0.36917561, 0.98545456, 0.20967741, 0.91090912, 0.61827958, 0.02181818,\r\n",
      "         0.77777779, 0.09636363],\r\n",
      "        [0.14828303, 0.99231845, 0.02601457, 0.74930167, 0.84703434, 0.00628492,\r\n",
      "         0.96930283, 0.24930167],\r\n",
      "        [0.11013514, 0.98744768, 0.03513514, 0.79497910, 0.88175678, 0.00836820,\r\n",
      "         0.95608109, 0.19979079],\r\n",
      "        [0.42774263, 0.99258870, 0.31223628, 0.96135521, 0.56803799, 0.00317628,\r\n",
      "         0.68354428, 0.03440974],\r\n",
      "        [0.31789804, 0.99470061, 0.07336108, 0.80074191, 0.68366283, 0.00529942,\r\n",
      "         0.92767948, 0.19978802],\r\n",
      "        [0.38697916, 0.99548191, 0.08750000, 0.81526107, 0.61250001, 0.00552209,\r\n",
      "         0.91197914, 0.18574297],\r\n",
      "        [0.03585347, 0.97297299, 0.00857366, 0.60585588, 0.96570539, 0.01801802,\r\n",
      "         0.99220574, 0.38513514],\r\n",
      "        [0.15547945, 0.99270737, 0.03424658, 0.76390153, 0.84246576, 0.01093892,\r\n",
      "         0.96301371, 0.23974475],\r\n",
      "        [0.58536583, 0.99612403, 0.41241685, 0.99612403, 0.41241685, 0.00664452,\r\n",
      "         0.58536583, 0.00664452],\r\n",
      "        [0.60498691, 0.98877805, 0.20472442, 0.91396511, 0.38976377, 0.01371571,\r\n",
      "         0.78871393, 0.08728179],\r\n",
      "        [0.11053451, 0.99185002, 0.02854178, 0.75957620, 0.89206022, 0.00814996,\r\n",
      "         0.97405291, 0.24042380]])\r\n"
     ]
    }
   ],
   "source": [
    "import json\n",
    "import paddle\n",
    "import os\n",
    "import cv2\n",
    "from paddle.vision.transforms import Compose, ColorJitter, Resize\n",
    "\n",
    "class MyDateset(paddle.io.Dataset):\n",
    "    def __init__(self, txt_dir = 'train/annos.txt', root_dir = 'train/imgs', mode = 'train'):\n",
    "        super(MyDateset, self).__init__()\n",
    "\n",
    "        self.mode = mode\n",
    "        self.root_dir = root_dir\n",
    "        with open('train/annos.txt', 'r') as f:\n",
    "            self.data = json.load(f)\n",
    "            self.name_list = list(self.data.keys())\n",
    "    \n",
    "    def __getitem__(self, index):\n",
    "        name = self.name_list[index]\n",
    "        img_dir = os.path.join(self.root_dir, name)\n",
    "\n",
    "        img = cv2.imread(img_dir)\n",
    "        # get img infor\n",
    "        h, w, c = img.shape\n",
    "        # pre-process of img\n",
    "        img = paddle.vision.transforms.resize(img, (224,224), interpolation='bilinear')\n",
    "        img = img.transpose((2,0,1))\n",
    "        img = img/255\n",
    "        img = paddle.to_tensor(img,place=PLACE).astype('float32')\n",
    "        \n",
    "        # pre-process of labels\n",
    "        data = self.data[name][0] # get box infor\n",
    "        labels = []\n",
    "        for pos in ['lb','lt','rt','rb']:\n",
    "            labels += [data[pos][0]/w, data[pos][1]/h] \n",
    "        labels = paddle.to_tensor(labels,place=PLACE).astype('float32')\n",
    "        \n",
    "        return img,labels\n",
    "\n",
    "    def __len__(self):\n",
    "        return len(self.name_list)\n",
    "if 1:\n",
    "    train_dataset=MyDateset('train.txt')\n",
    "\n",
    "    train_dataloader = paddle.io.DataLoader(\n",
    "        train_dataset,\n",
    "        batch_size=48,\n",
    "        shuffle=True,\n",
    "        drop_last=False)\n",
    "\n",
    "    for step, data in enumerate(train_dataloader):\n",
    "        data, label = data\n",
    "        print(step, data.shape, label.shape)\n",
    "        print(label)\n",
    "        break"
   ]
  },
  {
   "cell_type": "code",
   "execution_count": 5,
   "metadata": {
    "execution": {
     "iopub.execute_input": "2023-02-26T13:25:45.192726Z",
     "iopub.status.busy": "2023-02-26T13:25:45.192415Z",
     "iopub.status.idle": "2023-02-26T13:25:47.708507Z",
     "shell.execute_reply": "2023-02-26T13:25:47.707397Z",
     "shell.execute_reply.started": "2023-02-26T13:25:45.192697Z"
    },
    "scrolled": true
   },
   "outputs": [
    {
     "name": "stderr",
     "output_type": "stream",
     "text": [
      "2023-02-26 21:25:45 INFO: Loading faiss with AVX2 support.\r\n",
      "2023-02-26 21:25:45 INFO: Could not load library with AVX2 support due to:\r\n",
      "ModuleNotFoundError(\"No module named 'faiss.swigfaiss_avx2'\")\r\n",
      "2023-02-26 21:25:45 INFO: Loading faiss.\r\n",
      "2023-02-26 21:25:45 INFO: Successfully loaded faiss.\r\n",
      "/opt/conda/envs/python35-paddle120-env/lib/python3.7/site-packages/matplotlib/__init__.py:107: DeprecationWarning: Using or importing the ABCs from 'collections' instead of from 'collections.abc' is deprecated, and in 3.8 it will stop working\r\n",
      "  from collections import MutableMapping\r\n",
      "/opt/conda/envs/python35-paddle120-env/lib/python3.7/site-packages/matplotlib/rcsetup.py:20: DeprecationWarning: Using or importing the ABCs from 'collections' instead of from 'collections.abc' is deprecated, and in 3.8 it will stop working\r\n",
      "  from collections import Iterable, Mapping\r\n",
      "/opt/conda/envs/python35-paddle120-env/lib/python3.7/site-packages/matplotlib/colors.py:53: DeprecationWarning: Using or importing the ABCs from 'collections' instead of from 'collections.abc' is deprecated, and in 3.8 it will stop working\r\n",
      "  from collections import Sized\r\n",
      "/opt/conda/envs/python35-paddle120-env/lib/python3.7/site-packages/matplotlib/cbook/__init__.py:2349: DeprecationWarning: Using or importing the ABCs from 'collections' instead of from 'collections.abc' is deprecated, and in 3.8 it will stop working\r\n",
      "  if isinstance(obj, collections.Iterator):\r\n",
      "/opt/conda/envs/python35-paddle120-env/lib/python3.7/site-packages/matplotlib/cbook/__init__.py:2366: DeprecationWarning: Using or importing the ABCs from 'collections' instead of from 'collections.abc' is deprecated, and in 3.8 it will stop working\r\n",
      "  return list(data) if isinstance(data, collections.MappingView) else data\r\n"
     ]
    },
    {
     "data": {
      "text/plain": [
       "<Figure size 640x480 with 1 Axes>"
      ]
     },
     "metadata": {},
     "output_type": "display_data"
    },
    {
     "name": "stdout",
     "output_type": "stream",
     "text": [
      "270.0\r\n"
     ]
    }
   ],
   "source": [
    "# 先旋转图片\n",
    "# 打个例子看看\n",
    "import paddleclas\n",
    "import matplotlib.pyplot as plt\n",
    "img_dir='train/imgs/border_top_0_1ZEW823TRWOVKU3VYICU.jpg'\n",
    "pre_model = paddleclas.PaddleClas(model_name=\"text_image_orientation\")\n",
    "result=pre_model.predict(input_data=img_dir)\n",
    "img1=plt.imread(img_dir)\n",
    "plt.imshow(img1)\n",
    "plt.show()\n",
    "# result = pre_model.predict(input_data=\"pulc_demo_imgs/text_image_orientation/img_rot0_demo.jpg\")\n",
    "a=float(next(result)[0]['label_names'][0])\n",
    "print(a)"
   ]
  },
  {
   "cell_type": "code",
   "execution_count": 6,
   "metadata": {
    "execution": {
     "iopub.execute_input": "2023-02-26T13:25:47.710405Z",
     "iopub.status.busy": "2023-02-26T13:25:47.709650Z",
     "iopub.status.idle": "2023-02-26T13:25:48.123600Z",
     "shell.execute_reply": "2023-02-26T13:25:48.122156Z",
     "shell.execute_reply.started": "2023-02-26T13:25:47.710372Z"
    },
    "scrolled": true,
    "tags": []
   },
   "outputs": [
    {
     "data": {
      "image/png": "[encoded data removed]",
      "text/plain": [
       "<Figure size 640x480 with 1 Axes>"
      ]
     },
     "metadata": {},
     "output_type": "display_data"
    }
   ],
   "source": [
    "img2=cv2.imread(img_dir)\r\n",
    "img2=paddle.vision.transforms.rotate(img2,a)\r\n",
    "plt.imshow(img1)\r\n",
    "plt.imshow(img2)\r\n",
    "\r\n",
    "plt.show()"
   ]
  },
  {
   "cell_type": "code",
   "execution_count": 7,
   "metadata": {
    "execution": {
     "iopub.execute_input": "2023-02-26T13:25:48.126040Z",
     "iopub.status.busy": "2023-02-26T13:25:48.125391Z",
     "iopub.status.idle": "2023-02-26T13:25:57.510505Z",
     "shell.execute_reply": "2023-02-26T13:25:57.509635Z",
     "shell.execute_reply.started": "2023-02-26T13:25:48.125993Z"
    },
    "scrolled": true,
    "tags": []
   },
   "outputs": [
    {
     "name": "stdout",
     "output_type": "stream",
     "text": [
      "0 [100, 3, 224, 224] [100, 8]\r\n"
     ]
    }
   ],
   "source": [
    "import random\n",
    "random.seed(102)\n",
    "with open('train/annos.txt', 'r') as f:\n",
    "    data = json.load(f)\n",
    "    name_list = list(data.keys())\n",
    "random.shuffle(name_list)\n",
    "dev_name_list=name_list[:1000]\n",
    "train_name_list=name_list[1000:]\n",
    "# print(len(dev_name_list))\n",
    "\n",
    "class MyDataset2(paddle.io.Dataset):\n",
    "    def __init__(self, data, name_list, mode = 'train'):\n",
    "        super(MyDataset2, self).__init__()\n",
    "\n",
    "        self.mode = mode\n",
    "        self.data=data\n",
    "        self.name_list=name_list\n",
    "        self.root_dir='train/imgs'\n",
    "\n",
    "    def __getitem__(self, index):\n",
    "\n",
    "        name = self.name_list[index]\n",
    "        img_dir = os.path.join(self.root_dir, name)\n",
    "        res=pre_model.predict(input_data=img_dir)\n",
    "        angle=float(next(res)[0]['label_names'][0])\n",
    "        \n",
    "        img = cv2.imread(img_dir)\n",
    "        # get img infor\n",
    "        h, w, c = img.shape\n",
    "        # pre-process of img\n",
    "        img=paddle.vision.transforms.rotate(img,angle)\n",
    "        img = paddle.vision.transforms.resize(img, (224,224), interpolation='bilinear')\n",
    "        img = img.transpose((2,0,1))\n",
    "        img = img/255\n",
    "        img = paddle.to_tensor(img,place=PLACE).astype('float32')\n",
    "        \n",
    "        # pre-process of labels\n",
    "        data = self.data[name][0] # get box infor\n",
    "        labels = []\n",
    "        for pos in ['lb','lt','rt','rb']:\n",
    "            labels += [data[pos][0]/w, data[pos][1]/h] \n",
    "        labels = paddle.to_tensor(labels,place=PLACE).astype('float32')\n",
    "        \n",
    "        return img,labels\n",
    "\n",
    "    def __len__(self):\n",
    "        return len(self.name_list)\n",
    "\n",
    "if 1:\n",
    "    train_dataset=MyDataset2(data,train_name_list)\n",
    "    dev_dataset=MyDataset2(data,dev_name_list)\n",
    "    #print(len(train_dataset))\n",
    "    train_dataloader = paddle.io.DataLoader(\n",
    "        train_dataset,\n",
    "        batch_size=100,\n",
    "        shuffle=True,\n",
    "        drop_last=False)\n",
    "    dev_dataloader=paddle.io.DataLoader(\n",
    "        dev_dataset,\n",
    "        batch_size=100,\n",
    "        shuffle=False,\n",
    "        drop_last=False)\n",
    "    #print('1')\n",
    "\n",
    "    for step, data in enumerate(train_dataloader):\n",
    "        # print('1')\n",
    "        #print(step)\n",
    "        data, label = data\n",
    "        print(step, data.shape, label.shape)\n",
    "        break"
   ]
  },
  {
   "cell_type": "markdown",
   "metadata": {},
   "source": [
    "## 2.3. 构建网络\n",
    "对于表格问题，可以用TableNet进行处理。"
   ]
  },
  {
   "cell_type": "code",
   "execution_count": 8,
   "metadata": {
    "execution": {
     "iopub.execute_input": "2023-02-26T13:25:57.511978Z",
     "iopub.status.busy": "2023-02-26T13:25:57.511689Z",
     "iopub.status.idle": "2023-02-26T13:25:57.520404Z",
     "shell.execute_reply": "2023-02-26T13:25:57.519383Z",
     "shell.execute_reply.started": "2023-02-26T13:25:57.511952Z"
    },
    "scrolled": true
   },
   "outputs": [],
   "source": [
    "import paddle\n",
    "import paddle.vision.models as models\n",
    "import paddle.nn as nn\n",
    "import paddle.nn.functional as F\n",
    "class DenseNet(nn.Layer):\n",
    "    def __init__(self, pretrained = True, requires_grad = True):\n",
    "        super(DenseNet, self).__init__()\n",
    "        #denseNet=models.densenet161(pretrained=True).children()\n",
    "        denseNet = list(models.densenet121(pretrained=True).children())\n",
    "        self.densenet_out_1 = nn.Sequential()\n",
    "        self.densenet_out_2 = nn.Sequential()\n",
    "        self.densenet_out_3 = nn.Sequential()\n",
    "        # densenet的结构和torch不一样\n",
    "        for x in range(6):\n",
    "            self.densenet_out_1.add_sublayer(str(x), denseNet[x])\n",
    "        for x in range(6,8):\n",
    "            self.densenet_out_2.add_sublayer(str(x), denseNet[x])\n",
    "\n",
    "        self.densenet_out_3.add_sublayer(str(8), denseNet[8])\n",
    "\n",
    "        if not requires_grad:\n",
    "            for param in self.parameters():\n",
    "                param.requires_grad = False\n",
    "\n",
    "    def forward(self, x):\n",
    "\n",
    "        out_1 = self.densenet_out_1(x) #torch.Size([1, 256, 14, 14])\n",
    "        out_2 = self.densenet_out_2(out_1) #torch.Size([1, 512, 7, 7])\n",
    "        out_3 = self.densenet_out_3(out_2) #torch.Size([1, 1024, 7, 7])\n",
    "        # print(out_1.shape,out_2.shape,out_3.shape)\n",
    "        return out_1, out_2, out_3"
   ]
  },
  {
   "cell_type": "code",
   "execution_count": 9,
   "metadata": {
    "execution": {
     "iopub.execute_input": "2023-02-26T13:25:57.521744Z",
     "iopub.status.busy": "2023-02-26T13:25:57.521466Z",
     "iopub.status.idle": "2023-02-26T13:25:58.201314Z",
     "shell.execute_reply": "2023-02-26T13:25:58.200391Z",
     "shell.execute_reply.started": "2023-02-26T13:25:57.521713Z"
    },
    "scrolled": true,
    "tags": []
   },
   "outputs": [],
   "source": [
    "# densenet=list(models.densenet121(pretrained=True).children())\n",
    "# print(len(densenet))\n",
    "# for i in range(len(densenet)):\n",
    "#     print('{}:{}'.format(i,densenet[i]))"
   ]
  },
  {
   "cell_type": "code",
   "execution_count": 10,
   "metadata": {
    "execution": {
     "iopub.execute_input": "2023-02-26T13:25:58.205151Z",
     "iopub.status.busy": "2023-02-26T13:25:58.204830Z",
     "iopub.status.idle": "2023-02-26T13:25:58.705747Z",
     "shell.execute_reply": "2023-02-26T13:25:58.704820Z",
     "shell.execute_reply.started": "2023-02-26T13:25:58.205123Z"
    },
    "scrolled": true
   },
   "outputs": [],
   "source": [
    "class TableDecoder(nn.Layer):\n",
    "    def __init__(self, channels, kernels, strides):\n",
    "        super(TableDecoder, self).__init__()\n",
    "        self.conv_7_table = nn.Conv2D(\n",
    "                        in_channels = 256,\n",
    "                        out_channels = 256,\n",
    "                        kernel_size = kernels[0],\n",
    "                        stride = strides[0])\n",
    "        self.upsample_1_table = nn.Conv2DTranspose(\n",
    "                        in_channels = 256,\n",
    "                        out_channels=128,\n",
    "                        kernel_size = kernels[1],\n",
    "                        stride = strides[1])\n",
    "        self.upsample_2_table = nn.Conv2DTranspose(\n",
    "                        in_channels = 128 + channels[0],\n",
    "                        out_channels = 256,\n",
    "                        kernel_size = kernels[2],\n",
    "                        stride = strides[2])\n",
    "        self.upsample_3_table = nn.Conv2DTranspose(\n",
    "                        in_channels = 256 + channels[1],\n",
    "                        out_channels = 3,\n",
    "                        kernel_size = 16,\n",
    "                        stride = 16)\n",
    "\n",
    "    def forward(self, x, pool_3_out, pool_4_out):\n",
    "        #print(x.shape)\n",
    "        x = self.conv_7_table(x)  #[1, 256, 7, 7]\n",
    "        #print(x.shape)\n",
    "        out = self.upsample_1_table(x) #[1, 128, 7, 7]\n",
    "        #print(out.shape)\n",
    "        out = paddle.concat((out, pool_4_out), 1) #[1, 32, 7, 7]\n",
    "        #print(out.shape)\n",
    "        out = self.upsample_2_table(out) #[1, 256, 14,14]\n",
    "        #print(out.shape)\n",
    "        out = paddle.concat((out, pool_3_out), 1) #[1, 512, 14, 14]\n",
    "        #print(out.shape)\n",
    "        out = self.upsample_3_table(out) #[1, 3, 224, 224]\n",
    "        #print(out.shape)\n",
    "        return out"
   ]
  },
  {
   "cell_type": "code",
   "execution_count": 11,
   "metadata": {
    "execution": {
     "iopub.execute_input": "2023-02-26T13:25:58.707366Z",
     "iopub.status.busy": "2023-02-26T13:25:58.706931Z",
     "iopub.status.idle": "2023-02-26T13:25:59.536530Z",
     "shell.execute_reply": "2023-02-26T13:25:59.535614Z",
     "shell.execute_reply.started": "2023-02-26T13:25:58.707337Z"
    },
    "scrolled": true,
    "tags": []
   },
   "outputs": [],
   "source": [
    "class TableNet(nn.Layer):\n",
    "    def __init__(self):\n",
    "        super(TableNet, self).__init__()\n",
    "\n",
    "        self.base_model = DenseNet(pretrained = False, requires_grad = True)\n",
    "        self.pool_channels = [512, 256]\n",
    "        self.in_channels = 1024\n",
    "        self.kernels = [(1,1), (1,1), (2,2),(16,16)]\n",
    "        self.strides = [(1,1), (1,1), (2,2),(16,16)]\n",
    "\n",
    "        #common layer\n",
    "        self.conv6 = nn.Sequential(\n",
    "            nn.Conv2D(in_channels = self.in_channels, out_channels = 256, kernel_size=(1,1)),\n",
    "            nn.ReLU(),\n",
    "            nn.Dropout(0.8),\n",
    "            nn.Conv2D(in_channels = 256, out_channels = 256, kernel_size=(1,1)),\n",
    "            nn.ReLU(),\n",
    "            nn.Dropout(0.8))\n",
    "\n",
    "        self.table_decoder = TableDecoder(self.pool_channels, self.kernels, self.strides)\n",
    "        self.resnet=models.resnet101(pretrained=True,num_classes=0)\n",
    "        self.fc =nn.Linear(in_features=2048, out_features=8)\n",
    "\n",
    "    def forward(self, x):\n",
    "\n",
    "        pool_3_out, pool_4_out, pool_5_out = self.base_model(x)\n",
    "        conv_out = self.conv6(pool_5_out) #[1, 256, 7, 7]\n",
    "        #print(conv_out.shape)\n",
    "        table_out = self.table_decoder(conv_out, pool_3_out, pool_4_out) #torch.Size([1,3,224,224])\n",
    "        #print(table_out.shape)\n",
    "        table_out=self.resnet(table_out) #[1,2048,1,1]\n",
    "        # print(table_out.shape)\n",
    "        table_out = paddle.flatten(table_out,1)\n",
    "        table_out = self.fc(table_out)\n",
    "        return table_out\n",
    "\n",
    "#paddle.summary(TableNet(),(128, 3, 1024, 1024))"
   ]
  },
  {
   "cell_type": "markdown",
   "metadata": {},
   "source": [
    "## 2.4. 训练"
   ]
  },
  {
   "cell_type": "code",
   "execution_count": 12,
   "metadata": {
    "execution": {
     "iopub.execute_input": "2023-02-26T13:25:59.538129Z",
     "iopub.status.busy": "2023-02-26T13:25:59.537722Z",
     "iopub.status.idle": "2023-02-26T13:26:00.274805Z",
     "shell.execute_reply": "2023-02-26T13:26:00.274006Z",
     "shell.execute_reply.started": "2023-02-26T13:25:59.538100Z"
    },
    "scrolled": true
   },
   "outputs": [
    {
     "name": "stdout",
     "output_type": "stream",
     "text": [
      "<class 'float'>\r\n"
     ]
    }
   ],
   "source": [
    "# import paddle\n",
    "# mse_loss = paddle.nn.loss.MSELoss()\n",
    "# input_ = paddle.to_tensor([1,1.2,1,1])\n",
    "# label = paddle.to_tensor([3.1,2,2,2])\n",
    "# print(input_,label)\n",
    "# output = paddle.nn.functional.mse_loss(input_, label)\n",
    "# print(output.item())\n",
    "import numpy as np\n",
    "a=[1,2.0]\n",
    "print(type(np.mean(a).item()))"
   ]
  },
  {
   "cell_type": "code",
   "execution_count": 13,
   "metadata": {
    "execution": {
     "iopub.execute_input": "2023-02-26T13:26:00.276241Z",
     "iopub.status.busy": "2023-02-26T13:26:00.275944Z",
     "iopub.status.idle": "2023-02-26T13:26:00.831937Z",
     "shell.execute_reply": "2023-02-26T13:26:00.831007Z",
     "shell.execute_reply.started": "2023-02-26T13:26:00.276216Z"
    },
    "scrolled": true
   },
   "outputs": [],
   "source": [
    "import matplotlib.pyplot as plt\n",
    "import numpy as np\n",
    "now_step=0\n",
    "class Runner():\n",
    "    def __init__(self,model,opt,train_dataloader,dev_dataloader):\n",
    "        self.now_step=0\n",
    "        self.train_loss=[]\n",
    "        self.dev_loss=[]\n",
    "        self.model=model\n",
    "        #self.loss_fn=loss_fn\n",
    "        self.opt=opt\n",
    "        self.train_dataloader=train_dataloader\n",
    "        self.dev_dataloader=dev_dataloader\n",
    "        self.least_loss=999999\n",
    "    def train_on_epoch(self):\n",
    "    \n",
    "        if 1:\n",
    "            try:\n",
    "                # 接续之前的模型重复训练\n",
    "                param_dict = paddle.load('./model.pdparams')\n",
    "                self.model.load_dict(param_dict)\n",
    "            except:\n",
    "                print('no such model file')\n",
    "        for step, data in enumerate(self.train_dataloader):\n",
    "            \n",
    "            img, label = data\n",
    "            pre = self.model(img)\n",
    "            loss = paddle.nn.functional.mse_loss(pre, label)\n",
    "            self.train_loss.append(loss.item())\n",
    "            loss.backward()\n",
    "            self.opt.step()\n",
    "            self.opt.clear_gradients()\n",
    "            if self.now_step%10==0:\n",
    "                print(\"[Train]epoch: {}, batch: {}, loss is: {:.5f}\".format(epoch, self.now_step, loss.item()))\n",
    "            if self.now_step%20==0:\n",
    "                self.test_on_epoch()\n",
    "            self.now_step+=1\n",
    "\n",
    "    def test_on_epoch(self):\n",
    "        self.model.eval()\n",
    "        loss_sum=[]\n",
    "        with paddle.no_grad():\n",
    "            for step, data in enumerate(self.dev_dataloader):\n",
    "                img, label = data\n",
    "                pre = self.model(img)\n",
    "                loss = paddle.nn.functional.mse_loss(pre, label)\n",
    "                loss_sum.append(loss.item())\n",
    "            loss_sum=np.mean(loss_sum)\n",
    "            self.dev_loss.append(loss_sum.item())\n",
    "            print(\"[Dev]epoch: {}, step: {}, dev_loss is: {:.5f}\".format(epoch, self.now_step, loss_sum.item()))\n",
    "            if loss_sum.item()<self.least_loss:                    \n",
    "                paddle.save(model.state_dict(), 'model.pdparams')\n",
    "                print('[Update]least loss has been updated: {:.5f}-->{:.5f}'.format(self.least_loss,loss_sum.item()))\n",
    "                self.least_loss=loss_sum.item()\n",
    "        self.model.train()\n",
    "    # 可视化\n",
    "    def plot_loss(self,fig_name='tableNet.pdf', fig_size=(8, 5), loss_legend_loc=\"lower left\"):\n",
    "        plt.figure(figsize=fig_size)\n",
    "        train_items =self.train_loss[::10]\n",
    "        train_steps=[x for x in range(len(train_items))]\n",
    "        train_losses = [x for x in train_items]\n",
    "        plt.plot(train_steps, train_losses, color='#e4007f', label=\"Train loss\")\n",
    "        dev_items =self.dev_loss[::5]\n",
    "        dev_steps=[x for x in range(len(dev_items))]\n",
    "        dev_losses = [x for x in dev_items]\n",
    "        plt.plot(dev_steps, dev_losses, color='#f19ec2', linestyle='--', label='Dev loss')\n",
    "        #绘制坐标轴和图例\n",
    "        plt.ylabel(\"loss\", fontsize='large')\n",
    "        plt.xlabel(\"step\", fontsize='large')\n",
    "        plt.legend(loc=loss_legend_loc, fontsize='x-large')\n",
    "        \n",
    "        plt.savefig(fig_name)\n",
    "        plt.show()"
   ]
  },
  {
   "cell_type": "code",
   "execution_count": 14,
   "metadata": {
    "execution": {
     "iopub.execute_input": "2023-02-26T13:26:00.833750Z",
     "iopub.status.busy": "2023-02-26T13:26:00.833313Z",
     "iopub.status.idle": "2023-02-26T13:56:12.020574Z",
     "shell.execute_reply": "2023-02-26T13:56:12.018513Z",
     "shell.execute_reply.started": "2023-02-26T13:26:00.833720Z"
    },
    "scrolled": true,
    "tags": []
   },
   "outputs": [
    {
     "name": "stderr",
     "output_type": "stream",
     "text": [
      "2023-02-26 21:26:01 INFO: unique_endpoints {''}\r\n",
      "2023-02-26 21:26:01 INFO: File /home/aistudio/.cache/paddle/hapi/weights/DenseNet121_pretrained.pdparams md5 checking...\r\n",
      "2023-02-26 21:26:01 INFO: Found /home/aistudio/.cache/paddle/hapi/weights/DenseNet121_pretrained.pdparams\r\n",
      "2023-02-26 21:26:02 INFO: unique_endpoints {''}\r\n",
      "2023-02-26 21:26:02 INFO: File /home/aistudio/.cache/paddle/hapi/weights/resnet101.pdparams md5 checking...\r\n",
      "2023-02-26 21:26:03 INFO: Found /home/aistudio/.cache/paddle/hapi/weights/resnet101.pdparams\r\n",
      "/opt/conda/envs/python35-paddle120-env/lib/python3.7/site-packages/paddle/nn/layer/norm.py:654: UserWarning: When training, we now always track global mean and variance.\r\n",
      "  \"When training, we now always track global mean and variance.\")\r\n"
     ]
    },
    {
     "name": "stdout",
     "output_type": "stream",
     "text": [
      "[Train]epoch: 0, batch: 0, loss is: 3.04586\r\n",
      "[Dev]epoch: 0, step: 0, dev_loss is: 0.22947\r\n",
      "[Update]least loss has been updated: 999999.00000-->0.22947\r\n",
      "[Train]epoch: 0, batch: 10, loss is: 0.05123\r\n",
      "[Train]epoch: 0, batch: 20, loss is: 0.02381\r\n",
      "[Dev]epoch: 0, step: 20, dev_loss is: 0.28360\r\n",
      "[Train]epoch: 0, batch: 30, loss is: 0.01728\r\n",
      "[Train]epoch: 0, batch: 40, loss is: 0.01197\r\n",
      "[Dev]epoch: 0, step: 40, dev_loss is: 0.01147\r\n",
      "[Update]least loss has been updated: 0.22947-->0.01147\r\n",
      "[Train]epoch: 0, batch: 50, loss is: 0.00942\r\n",
      "[Train]epoch: 0, batch: 60, loss is: 0.00821\r\n",
      "[Dev]epoch: 0, step: 60, dev_loss is: 0.01101\r\n",
      "[Update]least loss has been updated: 0.01147-->0.01101\r\n",
      "[Train]epoch: 0, batch: 70, loss is: 0.01336\r\n",
      "[Train]epoch: 0, batch: 80, loss is: 0.01112\r\n",
      "[Dev]epoch: 0, step: 80, dev_loss is: 0.00922\r\n",
      "[Update]least loss has been updated: 0.01101-->0.00922\r\n",
      "[Train]epoch: 1, batch: 90, loss is: 0.00988\r\n",
      "[Train]epoch: 1, batch: 100, loss is: 0.00679\r\n",
      "[Dev]epoch: 1, step: 100, dev_loss is: 0.01059\r\n",
      "[Train]epoch: 1, batch: 110, loss is: 0.01127\r\n",
      "[Train]epoch: 1, batch: 120, loss is: 0.00728\r\n",
      "[Dev]epoch: 1, step: 120, dev_loss is: 0.00836\r\n",
      "[Update]least loss has been updated: 0.00922-->0.00836\r\n",
      "[Train]epoch: 1, batch: 130, loss is: 0.01234\r\n",
      "[Train]epoch: 1, batch: 140, loss is: 0.00674\r\n",
      "[Dev]epoch: 1, step: 140, dev_loss is: 0.00657\r\n",
      "[Update]least loss has been updated: 0.00836-->0.00657\r\n",
      "[Train]epoch: 1, batch: 150, loss is: 0.00857\r\n",
      "[Train]epoch: 1, batch: 160, loss is: 0.00557\r\n",
      "[Dev]epoch: 1, step: 160, dev_loss is: 0.00777\r\n",
      "[Train]epoch: 1, batch: 170, loss is: 0.01085\r\n"
     ]
    },
    {
     "ename": "KeyboardInterrupt",
     "evalue": "",
     "output_type": "error",
     "traceback": [
      "\u001b[0;31m---------------------------------------------------------------------------\u001b[0m",
      "\u001b[0;31mKeyboardInterrupt\u001b[0m                         Traceback (most recent call last)",
      "\u001b[0;32m/tmp/ipykernel_9156/2963182134.py\u001b[0m in \u001b[0;36m<module>\u001b[0;34m\u001b[0m\n\u001b[1;32m      4\u001b[0m \u001b[0mrunner\u001b[0m\u001b[0;34m=\u001b[0m\u001b[0mRunner\u001b[0m\u001b[0;34m(\u001b[0m\u001b[0mmodel\u001b[0m\u001b[0;34m,\u001b[0m\u001b[0mopt\u001b[0m\u001b[0;34m,\u001b[0m\u001b[0mtrain_dataloader\u001b[0m\u001b[0;34m,\u001b[0m\u001b[0mdev_dataloader\u001b[0m\u001b[0;34m)\u001b[0m\u001b[0;34m\u001b[0m\u001b[0;34m\u001b[0m\u001b[0m\n\u001b[1;32m      5\u001b[0m \u001b[0;32mfor\u001b[0m \u001b[0mepoch\u001b[0m \u001b[0;32min\u001b[0m \u001b[0mrange\u001b[0m\u001b[0;34m(\u001b[0m\u001b[0mmax_epoch\u001b[0m\u001b[0;34m)\u001b[0m\u001b[0;34m:\u001b[0m\u001b[0;34m\u001b[0m\u001b[0;34m\u001b[0m\u001b[0m\n\u001b[0;32m----> 6\u001b[0;31m     \u001b[0mrunner\u001b[0m\u001b[0;34m.\u001b[0m\u001b[0mtrain_on_epoch\u001b[0m\u001b[0;34m(\u001b[0m\u001b[0;34m)\u001b[0m\u001b[0;34m\u001b[0m\u001b[0;34m\u001b[0m\u001b[0m\n\u001b[0m",
      "\u001b[0;32m/tmp/ipykernel_9156/2079592439.py\u001b[0m in \u001b[0;36mtrain_on_epoch\u001b[0;34m(self)\u001b[0m\n\u001b[1;32m     22\u001b[0m             \u001b[0;32mexcept\u001b[0m\u001b[0;34m:\u001b[0m\u001b[0;34m\u001b[0m\u001b[0;34m\u001b[0m\u001b[0m\n\u001b[1;32m     23\u001b[0m                 \u001b[0mprint\u001b[0m\u001b[0;34m(\u001b[0m\u001b[0;34m'no such model file'\u001b[0m\u001b[0;34m)\u001b[0m\u001b[0;34m\u001b[0m\u001b[0;34m\u001b[0m\u001b[0m\n\u001b[0;32m---> 24\u001b[0;31m         \u001b[0;32mfor\u001b[0m \u001b[0mstep\u001b[0m\u001b[0;34m,\u001b[0m \u001b[0mdata\u001b[0m \u001b[0;32min\u001b[0m \u001b[0menumerate\u001b[0m\u001b[0;34m(\u001b[0m\u001b[0mself\u001b[0m\u001b[0;34m.\u001b[0m\u001b[0mtrain_dataloader\u001b[0m\u001b[0;34m)\u001b[0m\u001b[0;34m:\u001b[0m\u001b[0;34m\u001b[0m\u001b[0;34m\u001b[0m\u001b[0m\n\u001b[0m\u001b[1;32m     25\u001b[0m \u001b[0;34m\u001b[0m\u001b[0m\n\u001b[1;32m     26\u001b[0m             \u001b[0mimg\u001b[0m\u001b[0;34m,\u001b[0m \u001b[0mlabel\u001b[0m \u001b[0;34m=\u001b[0m \u001b[0mdata\u001b[0m\u001b[0;34m\u001b[0m\u001b[0;34m\u001b[0m\u001b[0m\n",
      "\u001b[0;32m/opt/conda/envs/python35-paddle120-env/lib/python3.7/site-packages/paddle/fluid/dataloader/dataloader_iter.py\u001b[0m in \u001b[0;36m__next__\u001b[0;34m(self)\u001b[0m\n\u001b[1;32m    270\u001b[0m             \u001b[0;32melse\u001b[0m\u001b[0;34m:\u001b[0m\u001b[0;34m\u001b[0m\u001b[0;34m\u001b[0m\u001b[0m\n\u001b[1;32m    271\u001b[0m                 \u001b[0;32mif\u001b[0m \u001b[0m_in_legacy_dygraph\u001b[0m\u001b[0;34m(\u001b[0m\u001b[0;34m)\u001b[0m\u001b[0;34m:\u001b[0m\u001b[0;34m\u001b[0m\u001b[0;34m\u001b[0m\u001b[0m\n\u001b[0;32m--> 272\u001b[0;31m                     \u001b[0mdata\u001b[0m \u001b[0;34m=\u001b[0m \u001b[0mself\u001b[0m\u001b[0;34m.\u001b[0m\u001b[0m_reader\u001b[0m\u001b[0;34m.\u001b[0m\u001b[0mread_next_var_list\u001b[0m\u001b[0;34m(\u001b[0m\u001b[0;34m)\u001b[0m\u001b[0;34m\u001b[0m\u001b[0;34m\u001b[0m\u001b[0m\n\u001b[0m\u001b[1;32m    273\u001b[0m                     \u001b[0mdata\u001b[0m \u001b[0;34m=\u001b[0m \u001b[0m_restore_batch\u001b[0m\u001b[0;34m(\u001b[0m\u001b[0mdata\u001b[0m\u001b[0;34m,\u001b[0m \u001b[0mself\u001b[0m\u001b[0;34m.\u001b[0m\u001b[0m_structure_infos\u001b[0m\u001b[0;34m.\u001b[0m\u001b[0mpop\u001b[0m\u001b[0;34m(\u001b[0m\u001b[0;36m0\u001b[0m\u001b[0;34m)\u001b[0m\u001b[0;34m)\u001b[0m\u001b[0;34m\u001b[0m\u001b[0;34m\u001b[0m\u001b[0m\n\u001b[1;32m    274\u001b[0m                 \u001b[0;32melse\u001b[0m\u001b[0;34m:\u001b[0m  \u001b[0;31m# in static mode\u001b[0m\u001b[0;34m\u001b[0m\u001b[0;34m\u001b[0m\u001b[0m\n",
      "\u001b[0;31mKeyboardInterrupt\u001b[0m: "
     ]
    }
   ],
   "source": [
    "model=TableNet()\n",
    "max_epoch=5\n",
    "opt = paddle.optimizer.Adam(learning_rate=0.001, beta1=0.9, beta2=0.999, parameters= model.parameters()) \n",
    "runner=Runner(model,opt,train_dataloader,dev_dataloader)\n",
    "for epoch in range(max_epoch):\n",
    "    runner.train_on_epoch()"
   ]
  },
  {
   "cell_type": "code",
   "execution_count": 15,
   "metadata": {
    "execution": {
     "iopub.execute_input": "2023-02-26T13:56:16.507144Z",
     "iopub.status.busy": "2023-02-26T13:56:16.506540Z",
     "iopub.status.idle": "2023-02-26T13:56:16.823329Z",
     "shell.execute_reply": "2023-02-26T13:56:16.822540Z",
     "shell.execute_reply.started": "2023-02-26T13:56:16.507103Z"
    },
    "scrolled": true
   },
   "outputs": [
    {
     "data": {
      "image/png": "[encoded data removed]",
      "text/plain": [
       "<Figure size 800x500 with 1 Axes>"
      ]
     },
     "metadata": {},
     "output_type": "display_data"
    }
   ],
   "source": [
    "runner.plot_loss()"
   ]
  },
  {
   "cell_type": "code",
   "execution_count": null,
   "metadata": {
    "execution": {
     "iopub.status.busy": "2023-02-26T13:56:12.023361Z",
     "iopub.status.idle": "2023-02-26T13:56:12.023757Z",
     "shell.execute_reply": "2023-02-26T13:56:12.023605Z",
     "shell.execute_reply.started": "2023-02-26T13:56:12.023585Z"
    },
    "scrolled": true,
    "tags": []
   },
   "outputs": [],
   "source": [
    "# #from utils.metrics import compute_metrics\n",
    "# model = TableNet()\n",
    "# #print('here 3')\n",
    "# model.train()\n",
    "\n",
    "# if 1:\n",
    "#     try:\n",
    "#         # 接续之前的模型重复训练\n",
    "#         param_dict = paddle.load('./model.pdparams')\n",
    "#         model.load_dict(param_dict)\n",
    "#     except:\n",
    "#         print('no such model file')\n",
    "\n",
    "# train_dataset=MyDateset()\n",
    "# train_dataloader = paddle.io.DataLoader(\n",
    "#     train_dataset,\n",
    "#     batch_size=100,\n",
    "#     shuffle=True,\n",
    "#     drop_last=False)\n",
    "\n",
    "# max_epoch=10\n",
    "# # scheduler = paddle.optimizer.lr.CosineAnnealingDecay(learning_rate=0.01, T_max=max_epoch)\n",
    "# opt = paddle.optimizer.Adam(learning_rate=0.1, beta1=0.9, beta2=0.999, parameters= model.parameters()) \n",
    "# now_step=0\n",
    "# table_loss=[]\n",
    "# for epoch in range(max_epoch):\n",
    "#     for step, data in enumerate(train_dataloader):\n",
    "#         now_step+=1\n",
    "\n",
    "#         img, label = data\n",
    "#         pre = model(img)\n",
    "#         loss = paddle.nn.functional.mse_loss(pre, label).mean()\n",
    "#         table_loss.append(loss.item())\n",
    "#         loss.backward()\n",
    "#         opt.step()\n",
    "#         opt.clear_gradients()\n",
    "#         if now_step%20==0:\n",
    "#             print(\"epoch: {}, batch: {}, loss is: {}\".format(epoch, step, loss.mean().numpy()))\n",
    "\n",
    "# paddle.save(model.state_dict(), 'model.pdparams')"
   ]
  },
  {
   "cell_type": "code",
   "execution_count": null,
   "metadata": {
    "execution": {
     "iopub.status.busy": "2023-02-26T13:56:12.024982Z",
     "iopub.status.idle": "2023-02-26T13:56:12.025309Z",
     "shell.execute_reply": "2023-02-26T13:56:12.025156Z",
     "shell.execute_reply.started": "2023-02-26T13:56:12.025143Z"
    },
    "scrolled": true
   },
   "outputs": [],
   "source": [
    "# paddle.save(model.state_dict(), 'model.pdparams')"
   ]
  },
  {
   "cell_type": "markdown",
   "metadata": {},
   "source": [
    "## 2.5. 保存"
   ]
  },
  {
   "cell_type": "code",
   "execution_count": 16,
   "metadata": {
    "execution": {
     "iopub.execute_input": "2023-02-26T13:56:27.724195Z",
     "iopub.status.busy": "2023-02-26T13:56:27.723090Z",
     "iopub.status.idle": "2023-02-26T13:56:38.095821Z",
     "shell.execute_reply": "2023-02-26T13:56:38.094834Z",
     "shell.execute_reply.started": "2023-02-26T13:56:27.724147Z"
    },
    "scrolled": true
   },
   "outputs": [
    {
     "name": "stderr",
     "output_type": "stream",
     "text": [
      "2023-02-26 21:56:27 INFO: unique_endpoints {''}\r\n",
      "2023-02-26 21:56:27 INFO: File /home/aistudio/.cache/paddle/hapi/weights/DenseNet121_pretrained.pdparams md5 checking...\r\n",
      "2023-02-26 21:56:28 INFO: Found /home/aistudio/.cache/paddle/hapi/weights/DenseNet121_pretrained.pdparams\r\n",
      "2023-02-26 21:56:28 INFO: unique_endpoints {''}\r\n",
      "2023-02-26 21:56:28 INFO: File /home/aistudio/.cache/paddle/hapi/weights/resnet101.pdparams md5 checking...\r\n",
      "2023-02-26 21:56:29 INFO: Found /home/aistudio/.cache/paddle/hapi/weights/resnet101.pdparams\r\n",
      "Exception in thread Thread-13:\r\n",
      "Traceback (most recent call last):\r\n",
      "  File \"/opt/conda/envs/python35-paddle120-env/lib/python3.7/threading.py\", line 926, in _bootstrap_inner\r\n",
      "    self.run()\r\n",
      "  File \"/opt/conda/envs/python35-paddle120-env/lib/python3.7/threading.py\", line 870, in run\r\n",
      "    self._target(*self._args, **self._kwargs)\r\n",
      "  File \"/opt/conda/envs/python35-paddle120-env/lib/python3.7/site-packages/paddle/fluid/dataloader/dataloader_iter.py\", line 218, in _thread_loop\r\n",
      "    self._thread_done_event)\r\n",
      "  File \"/opt/conda/envs/python35-paddle120-env/lib/python3.7/site-packages/paddle/fluid/dataloader/fetcher.py\", line 121, in fetch\r\n",
      "    data.append(self.dataset[idx])\r\n",
      "  File \"/tmp/ipykernel_9156/2972451693.py\", line 35, in __getitem__\r\n",
      "    img = paddle.to_tensor(img,place=PLACE).astype('float32')\r\n",
      "  File \"<decorator-gen-279>\", line 2, in to_tensor\r\n",
      "  File \"/opt/conda/envs/python35-paddle120-env/lib/python3.7/site-packages/paddle/fluid/wrapped_decorator.py\", line 25, in __impl__\r\n",
      "    return wrapped_func(*args, **kwargs)\r\n",
      "  File \"/opt/conda/envs/python35-paddle120-env/lib/python3.7/site-packages/paddle/fluid/framework.py\", line 433, in __impl__\r\n",
      "    ), \"We only support '%s()' in dynamic graph mode, please call 'paddle.disable_static()' to enter dynamic graph mode.\" % func.__name__\r\n",
      "AssertionError: We only support 'to_tensor()' in dynamic graph mode, please call 'paddle.disable_static()' to enter dynamic graph mode.\r\n",
      "\r\n",
      "/opt/conda/envs/python35-paddle120-env/lib/python3.7/site-packages/paddle/fluid/layers/math_op_patch.py:341: UserWarning: /opt/conda/envs/python35-paddle120-env/lib/python3.7/site-packages/paddle/vision/models/resnet.py:167\r\n",
      "The behavior of expression A + B has been unified with elementwise_add(X, Y, axis=-1) from Paddle 2.0. If your code works well in the older versions but crashes in this version, try to use elementwise_add(X, Y, axis=0) instead of A + B. This transitional warning will be dropped in the future.\r\n",
      "  op_type, op_type, EXPRESSION_MAP[method_name]))\r\n"
     ]
    }
   ],
   "source": [
    "# 保存\n",
    "model = TableNet()\n",
    "param_dict = paddle.load('./model.pdparams')\n",
    "model.load_dict(param_dict)\n",
    "model.eval()\n",
    "\n",
    "paddle.jit.save(\n",
    "    layer=model,\n",
    "    path='mymodel/model',\n",
    "    input_spec=[paddle.static.InputSpec(shape=[None, 3, 1024, 1024], dtype='float32')])"
   ]
  },
  {
   "cell_type": "markdown",
   "metadata": {},
   "source": [
    "## 2.6. 准备predict.py文件\n",
    "\n",
    "predict.py文件内容如下\n",
    "\n",
    "```\n",
    "# 代码示例\n",
    "# python predict.py [src_image_dir] [results]\n",
    "\n",
    "import os\n",
    "import sys\n",
    "import glob\n",
    "import json\n",
    "import cv2\n",
    "import paddle\n",
    "\n",
    "\n",
    "def process(src_image_dir, save_dir):\n",
    "    # load\n",
    "    model = paddle.jit.load('./mymodel/model')\n",
    "    model.eval()\n",
    "\n",
    "    image_paths = glob.glob(os.path.join(src_image_dir, \"*.jpg\"))\n",
    "    result = {}\n",
    "    for image_path in image_paths:\n",
    "        filename = os.path.split(image_path)[1]\n",
    "        # do something\n",
    "        img = cv2.imread(image_path)\n",
    "        # get img infor\n",
    "        h, w, c = img.shape\n",
    "        # pre-process of img\n",
    "        img = paddle.vision.transforms.resize(img, (512,512), interpolation='bilinear')\n",
    "        img = img.transpose((2,0,1))\n",
    "        img = img/255\n",
    "        img = paddle.to_tensor(img).astype('float32')\n",
    "        img = paddle.reshape(img, [1]+img.shape)\n",
    "\n",
    "        pre = model(img)\n",
    "        pre = pre[0]\n",
    "        pre[pre>1]=1\n",
    "        pre[pre<0]=0\n",
    "        pre = pre.tolist()\n",
    "        x1, y1, x2, y2, x3, y3, x4, y4 = pre\n",
    "        x1, x2, x3, x4 = [int(x*w) for x in [x1, x2, x3, x4]]\n",
    "        y1, y2, y3, y4 = [int(y*h) for y in [y1, y2, y3, y4]]\n",
    "\n",
    "        xmin = min(x1,x2,x3,x4)\n",
    "        xmax = max(x1,x2,x3,x4)\n",
    "        ymin = min(y1,y2,y3,y4)\n",
    "        ymax = max(y1,y2,y3,y4)\n",
    "\n",
    "        if filename not in result:\n",
    "            result[filename] = []\n",
    "        result[filename].append({\n",
    "            \"box\": [xmin, ymin, xmax, ymax],\n",
    "            \"lb\": [x1, y1],\n",
    "            \"lt\": [x2, y2],\n",
    "            \"rt\": [x3, y3],\n",
    "            \"rb\": [x4, y4],\n",
    "        })\n",
    "    with open(os.path.join(save_dir, \"result.txt\"), 'w', encoding=\"utf-8\") as f:\n",
    "        f.write(json.dumps(result))\n",
    "\n",
    "\n",
    "if __name__ == \"__main__\":\n",
    "    assert len(sys.argv) == 3\n",
    "\n",
    "    src_image_dir = sys.argv[1]\n",
    "    save_dir = sys.argv[2]\n",
    "\n",
    "    if not os.path.exists(save_dir):\n",
    "        os.makedirs(save_dir)\n",
    "\n",
    "    process(src_image_dir, save_dir)\n",
    "```"
   ]
  },
  {
   "cell_type": "code",
   "execution_count": 17,
   "metadata": {
    "execution": {
     "iopub.execute_input": "2023-02-26T13:56:42.986726Z",
     "iopub.status.busy": "2023-02-26T13:56:42.985886Z",
     "iopub.status.idle": "2023-02-26T13:56:52.347344Z",
     "shell.execute_reply": "2023-02-26T13:56:52.346204Z",
     "shell.execute_reply.started": "2023-02-26T13:56:42.986677Z"
    },
    "scrolled": true
   },
   "outputs": [
    {
     "name": "stdout",
     "output_type": "stream",
     "text": [
      "W0226 21:56:46.040865 13482 gpu_resources.cc:61] Please NOTE: device: 0, GPU Compute Capability: 7.0, Driver API Version: 11.2, Runtime API Version: 11.2\r\n",
      "W0226 21:56:46.044646 13482 gpu_resources.cc:91] device: 0, cuDNN Version: 8.2.\r\n"
     ]
    }
   ],
   "source": [
    "# 运行代码查看预测结果\n",
    "! python predict.py pubtest/imgs test_A_result"
   ]
  },
  {
   "cell_type": "markdown",
   "metadata": {},
   "source": [
    "## 2.7. 打包提交"
   ]
  },
  {
   "cell_type": "code",
   "execution_count": 18,
   "metadata": {
    "execution": {
     "iopub.execute_input": "2023-02-26T13:56:55.290014Z",
     "iopub.status.busy": "2023-02-26T13:56:55.289289Z",
     "iopub.status.idle": "2023-02-26T13:57:06.455022Z",
     "shell.execute_reply": "2023-02-26T13:57:06.453977Z",
     "shell.execute_reply.started": "2023-02-26T13:56:55.289960Z"
    },
    "scrolled": true,
    "tags": []
   },
   "outputs": [
    {
     "name": "stdout",
     "output_type": "stream",
     "text": [
      "updating: predict.py (deflated 58%)\r\n",
      "updating: mymodel/ (stored 0%)\r\n",
      "updating: mymodel/model.pdmodel (deflated 98%)\r\n",
      "updating: mymodel/model.pdiparams.info (deflated 85%)\r\n",
      "updating: mymodel/model.pdiparams (deflated 7%)\r\n"
     ]
    }
   ],
   "source": [
    "! zip -r submit.zip predict.py mymodel"
   ]
  },
  {
   "cell_type": "markdown",
   "metadata": {},
   "source": [
    "# 3. 总结\n",
    "\n",
    "本项目先用TableNet分析出特征图，即每个像素属于表格内、表格外的概率，然后用resnet101回归，学习到四个角点的坐标。\n",
    "\n",
    "检测模型具体可以参考[百度网盘AI大赛——表格检测进阶：表格的结构化 Baseline](https://aistudio.baidu.com/aistudio/projectdetail/5234267)"
   ]
  },
  {
   "cell_type": "markdown",
   "metadata": {},
   "source": [
    "请点击[此处](https://ai.baidu.com/docs#/AIStudio_Project_Notebook/a38e5576)查看本环境基本用法.  <br>\n",
    "Please click [here ](https://ai.baidu.com/docs#/AIStudio_Project_Notebook/a38e5576) for more detailed instructions. "
   ]
  }
 ],
 "metadata": {
  "kernelspec": {
   "display_name": "Python 3",
   "language": "python",
   "name": "py35-paddle1.2.0"
  },
  "language_info": {
   "codemirror_mode": {
    "name": "ipython",
    "version": 3
   },
   "file_extension": ".py",
   "mimetype": "text/x-python",
   "name": "python",
   "nbconvert_exporter": "python",
   "pygments_lexer": "ipython3",
   "version": "3.7.4"
  }
 },
 "nbformat": 4,
 "nbformat_minor": 4
}
